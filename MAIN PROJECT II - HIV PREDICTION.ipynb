{
 "cells": [
  {
   "cell_type": "markdown",
   "id": "e0cd5a81",
   "metadata": {},
   "source": [
    "# **HIV PREDICTION**\n"
   ]
  },
  {
   "cell_type": "markdown",
   "id": "40443464",
   "metadata": {},
   "source": [
    "---"
   ]
  },
  {
   "cell_type": "markdown",
   "id": "1650bcb8",
   "metadata": {},
   "source": [
    "### IMPORTING NECESSARY LIBRARIES"
   ]
  },
  {
   "cell_type": "code",
   "execution_count": 6,
   "id": "134aa0ad",
   "metadata": {},
   "outputs": [],
   "source": [
    "import pandas as pd\n",
    "import numpy as np\n",
    "import matplotlib.pyplot as plt\n",
    "import seaborn as sns\n",
    "from sklearn.metrics import r2_score,accuracy_score,confusion_matrix"
   ]
  },
  {
   "cell_type": "markdown",
   "id": "78a5f1ed",
   "metadata": {},
   "source": [
    "######  Loading the Dataset"
   ]
  },
  {
   "cell_type": "code",
   "execution_count": 7,
   "id": "24252c55",
   "metadata": {},
   "outputs": [
    {
     "data": {
      "text/html": [
       "<div>\n",
       "<style scoped>\n",
       "    .dataframe tbody tr th:only-of-type {\n",
       "        vertical-align: middle;\n",
       "    }\n",
       "\n",
       "    .dataframe tbody tr th {\n",
       "        vertical-align: top;\n",
       "    }\n",
       "\n",
       "    .dataframe thead th {\n",
       "        text-align: right;\n",
       "    }\n",
       "</style>\n",
       "<table border=\"1\" class=\"dataframe\">\n",
       "  <thead>\n",
       "    <tr style=\"text-align: right;\">\n",
       "      <th></th>\n",
       "      <th>Age</th>\n",
       "      <th>Marital Staus</th>\n",
       "      <th>STD</th>\n",
       "      <th>Educational Background</th>\n",
       "      <th>HIV TEST IN PAST YEAR</th>\n",
       "      <th>AIDS education</th>\n",
       "      <th>Places of seeking sex partners</th>\n",
       "      <th>SEXUAL ORIENTATION</th>\n",
       "      <th>Drug- taking</th>\n",
       "      <th>Result</th>\n",
       "    </tr>\n",
       "  </thead>\n",
       "  <tbody>\n",
       "    <tr>\n",
       "      <th>0</th>\n",
       "      <td>22</td>\n",
       "      <td>UNMARRIED</td>\n",
       "      <td>NO</td>\n",
       "      <td>College Degree</td>\n",
       "      <td>YES</td>\n",
       "      <td>NO</td>\n",
       "      <td>Bar</td>\n",
       "      <td>Heterosexual</td>\n",
       "      <td>YES</td>\n",
       "      <td>POSITIVE</td>\n",
       "    </tr>\n",
       "    <tr>\n",
       "      <th>1</th>\n",
       "      <td>20</td>\n",
       "      <td>UNMARRIED</td>\n",
       "      <td>NO</td>\n",
       "      <td>College Degree</td>\n",
       "      <td>NO</td>\n",
       "      <td>YES</td>\n",
       "      <td>NaN</td>\n",
       "      <td>Heterosexual</td>\n",
       "      <td>NO</td>\n",
       "      <td>NEGATIVE</td>\n",
       "    </tr>\n",
       "    <tr>\n",
       "      <th>2</th>\n",
       "      <td>23</td>\n",
       "      <td>Married</td>\n",
       "      <td>YES</td>\n",
       "      <td>College Degree</td>\n",
       "      <td>NO</td>\n",
       "      <td>YES</td>\n",
       "      <td>NaN</td>\n",
       "      <td>Bisexual</td>\n",
       "      <td>NO</td>\n",
       "      <td>NEGATIVE</td>\n",
       "    </tr>\n",
       "    <tr>\n",
       "      <th>3</th>\n",
       "      <td>24</td>\n",
       "      <td>Married</td>\n",
       "      <td>NO</td>\n",
       "      <td>College Degree</td>\n",
       "      <td>YES</td>\n",
       "      <td>YES</td>\n",
       "      <td>Park</td>\n",
       "      <td>Heterosexual</td>\n",
       "      <td>YES</td>\n",
       "      <td>POSITIVE</td>\n",
       "    </tr>\n",
       "    <tr>\n",
       "      <th>4</th>\n",
       "      <td>18</td>\n",
       "      <td>UNMARRIED</td>\n",
       "      <td>YES</td>\n",
       "      <td>Senior High School</td>\n",
       "      <td>YES</td>\n",
       "      <td>NO</td>\n",
       "      <td>Internet</td>\n",
       "      <td>Heterosexual</td>\n",
       "      <td>YES</td>\n",
       "      <td>POSITIVE</td>\n",
       "    </tr>\n",
       "    <tr>\n",
       "      <th>...</th>\n",
       "      <td>...</td>\n",
       "      <td>...</td>\n",
       "      <td>...</td>\n",
       "      <td>...</td>\n",
       "      <td>...</td>\n",
       "      <td>...</td>\n",
       "      <td>...</td>\n",
       "      <td>...</td>\n",
       "      <td>...</td>\n",
       "      <td>...</td>\n",
       "    </tr>\n",
       "    <tr>\n",
       "      <th>693</th>\n",
       "      <td>19</td>\n",
       "      <td>UNMARRIED</td>\n",
       "      <td>YES</td>\n",
       "      <td>Illiteracy</td>\n",
       "      <td>NO</td>\n",
       "      <td>NO</td>\n",
       "      <td>Internet</td>\n",
       "      <td>Heterosexual</td>\n",
       "      <td>NO</td>\n",
       "      <td>POSITIVE</td>\n",
       "    </tr>\n",
       "    <tr>\n",
       "      <th>694</th>\n",
       "      <td>47</td>\n",
       "      <td>MARRIED</td>\n",
       "      <td>NO</td>\n",
       "      <td>College Degree</td>\n",
       "      <td>NO</td>\n",
       "      <td>YES</td>\n",
       "      <td>Bar</td>\n",
       "      <td>Bisexual</td>\n",
       "      <td>NO</td>\n",
       "      <td>NEGATIVE</td>\n",
       "    </tr>\n",
       "    <tr>\n",
       "      <th>695</th>\n",
       "      <td>34</td>\n",
       "      <td>UNMARRIED</td>\n",
       "      <td>YES</td>\n",
       "      <td>Senior High School</td>\n",
       "      <td>YES</td>\n",
       "      <td>YES</td>\n",
       "      <td>Park</td>\n",
       "      <td>Homosexual</td>\n",
       "      <td>YES</td>\n",
       "      <td>NEGATIVE</td>\n",
       "    </tr>\n",
       "    <tr>\n",
       "      <th>696</th>\n",
       "      <td>25</td>\n",
       "      <td>MARRIED</td>\n",
       "      <td>NO</td>\n",
       "      <td>Junior High School</td>\n",
       "      <td>NO</td>\n",
       "      <td>NO</td>\n",
       "      <td>Public Bath</td>\n",
       "      <td>Heterosexual</td>\n",
       "      <td>YES</td>\n",
       "      <td>POSITIVE</td>\n",
       "    </tr>\n",
       "    <tr>\n",
       "      <th>697</th>\n",
       "      <td>46</td>\n",
       "      <td>Cohabiting</td>\n",
       "      <td>YES</td>\n",
       "      <td>Senior High School</td>\n",
       "      <td>YES</td>\n",
       "      <td>NO</td>\n",
       "      <td>Internet</td>\n",
       "      <td>Homosexual</td>\n",
       "      <td>NO</td>\n",
       "      <td>POSITIVE</td>\n",
       "    </tr>\n",
       "  </tbody>\n",
       "</table>\n",
       "<p>698 rows × 10 columns</p>\n",
       "</div>"
      ],
      "text/plain": [
       "     Age Marital Staus  STD Educational Background HIV TEST IN PAST YEAR  \\\n",
       "0     22     UNMARRIED   NO         College Degree                   YES   \n",
       "1     20     UNMARRIED   NO         College Degree                    NO   \n",
       "2     23       Married  YES         College Degree                    NO   \n",
       "3     24       Married   NO         College Degree                   YES   \n",
       "4     18     UNMARRIED  YES     Senior High School                   YES   \n",
       "..   ...           ...  ...                    ...                   ...   \n",
       "693   19     UNMARRIED  YES             Illiteracy                    NO   \n",
       "694   47       MARRIED   NO         College Degree                    NO   \n",
       "695   34     UNMARRIED  YES     Senior High School                   YES   \n",
       "696   25       MARRIED   NO     Junior High School                    NO   \n",
       "697   46    Cohabiting  YES     Senior High School                   YES   \n",
       "\n",
       "    AIDS education Places of seeking sex partners SEXUAL ORIENTATION  \\\n",
       "0               NO                            Bar       Heterosexual   \n",
       "1              YES                            NaN       Heterosexual   \n",
       "2              YES                            NaN           Bisexual   \n",
       "3              YES                           Park       Heterosexual   \n",
       "4               NO                       Internet       Heterosexual   \n",
       "..             ...                            ...                ...   \n",
       "693             NO                       Internet       Heterosexual   \n",
       "694            YES                            Bar           Bisexual   \n",
       "695            YES                           Park         Homosexual   \n",
       "696             NO                    Public Bath       Heterosexual   \n",
       "697             NO                       Internet         Homosexual   \n",
       "\n",
       "    Drug- taking    Result  \n",
       "0            YES  POSITIVE  \n",
       "1             NO  NEGATIVE  \n",
       "2             NO  NEGATIVE  \n",
       "3            YES  POSITIVE  \n",
       "4            YES  POSITIVE  \n",
       "..           ...       ...  \n",
       "693           NO  POSITIVE  \n",
       "694           NO  NEGATIVE  \n",
       "695          YES  NEGATIVE  \n",
       "696          YES  POSITIVE  \n",
       "697           NO  POSITIVE  \n",
       "\n",
       "[698 rows x 10 columns]"
      ]
     },
     "execution_count": 7,
     "metadata": {},
     "output_type": "execute_result"
    }
   ],
   "source": [
    "data = pd.read_csv(\"HIV_dataset.csv\")\n",
    "data"
   ]
  },
  {
   "cell_type": "code",
   "execution_count": 3,
   "id": "78b18986",
   "metadata": {},
   "outputs": [
    {
     "data": {
      "text/plain": [
       "(698, 10)"
      ]
     },
     "execution_count": 3,
     "metadata": {},
     "output_type": "execute_result"
    }
   ],
   "source": [
    "data.shape  # to find number of rows and columns in the dataset"
   ]
  },
  {
   "cell_type": "code",
   "execution_count": 4,
   "id": "00c14ef9",
   "metadata": {},
   "outputs": [
    {
     "data": {
      "text/html": [
       "<div>\n",
       "<style scoped>\n",
       "    .dataframe tbody tr th:only-of-type {\n",
       "        vertical-align: middle;\n",
       "    }\n",
       "\n",
       "    .dataframe tbody tr th {\n",
       "        vertical-align: top;\n",
       "    }\n",
       "\n",
       "    .dataframe thead th {\n",
       "        text-align: right;\n",
       "    }\n",
       "</style>\n",
       "<table border=\"1\" class=\"dataframe\">\n",
       "  <thead>\n",
       "    <tr style=\"text-align: right;\">\n",
       "      <th></th>\n",
       "      <th>Age</th>\n",
       "    </tr>\n",
       "  </thead>\n",
       "  <tbody>\n",
       "    <tr>\n",
       "      <th>count</th>\n",
       "      <td>698.000000</td>\n",
       "    </tr>\n",
       "    <tr>\n",
       "      <th>mean</th>\n",
       "      <td>40.022923</td>\n",
       "    </tr>\n",
       "    <tr>\n",
       "      <th>std</th>\n",
       "      <td>18.154906</td>\n",
       "    </tr>\n",
       "    <tr>\n",
       "      <th>min</th>\n",
       "      <td>12.000000</td>\n",
       "    </tr>\n",
       "    <tr>\n",
       "      <th>25%</th>\n",
       "      <td>25.000000</td>\n",
       "    </tr>\n",
       "    <tr>\n",
       "      <th>50%</th>\n",
       "      <td>38.000000</td>\n",
       "    </tr>\n",
       "    <tr>\n",
       "      <th>75%</th>\n",
       "      <td>54.000000</td>\n",
       "    </tr>\n",
       "    <tr>\n",
       "      <th>max</th>\n",
       "      <td>80.000000</td>\n",
       "    </tr>\n",
       "  </tbody>\n",
       "</table>\n",
       "</div>"
      ],
      "text/plain": [
       "              Age\n",
       "count  698.000000\n",
       "mean    40.022923\n",
       "std     18.154906\n",
       "min     12.000000\n",
       "25%     25.000000\n",
       "50%     38.000000\n",
       "75%     54.000000\n",
       "max     80.000000"
      ]
     },
     "execution_count": 4,
     "metadata": {},
     "output_type": "execute_result"
    }
   ],
   "source": [
    "data.describe() # to describe the dataset"
   ]
  },
  {
   "cell_type": "code",
   "execution_count": 5,
   "id": "b1ef40a3",
   "metadata": {},
   "outputs": [
    {
     "name": "stdout",
     "output_type": "stream",
     "text": [
      "<class 'pandas.core.frame.DataFrame'>\n",
      "RangeIndex: 698 entries, 0 to 697\n",
      "Data columns (total 10 columns):\n",
      " #   Column                          Non-Null Count  Dtype \n",
      "---  ------                          --------------  ----- \n",
      " 0   Age                             698 non-null    int64 \n",
      " 1   Marital Staus                   698 non-null    object\n",
      " 2   STD                             698 non-null    object\n",
      " 3   Educational Background          698 non-null    object\n",
      " 4   HIV TEST IN PAST YEAR           698 non-null    object\n",
      " 5   AIDS education                  698 non-null    object\n",
      " 6   Places of seeking sex partners  676 non-null    object\n",
      " 7   SEXUAL ORIENTATION              698 non-null    object\n",
      " 8   Drug- taking                    698 non-null    object\n",
      " 9   Result                          698 non-null    object\n",
      "dtypes: int64(1), object(9)\n",
      "memory usage: 54.7+ KB\n"
     ]
    }
   ],
   "source": [
    "data.info() # to find the details of columns in the dataset"
   ]
  },
  {
   "cell_type": "markdown",
   "id": "eee13734",
   "metadata": {},
   "source": [
    "---"
   ]
  },
  {
   "cell_type": "markdown",
   "id": "7e119edf",
   "metadata": {},
   "source": [
    "#### Checking if there is any null value in the dataset"
   ]
  },
  {
   "cell_type": "code",
   "execution_count": 6,
   "id": "af665c15",
   "metadata": {},
   "outputs": [
    {
     "data": {
      "text/plain": [
       "Age                                0\n",
       "Marital Staus                      0\n",
       "STD                                0\n",
       "Educational Background             0\n",
       "HIV TEST IN PAST YEAR              0\n",
       "AIDS education                     0\n",
       "Places of seeking sex partners    22\n",
       "SEXUAL ORIENTATION                 0\n",
       "Drug- taking                       0\n",
       "Result                             0\n",
       "dtype: int64"
      ]
     },
     "execution_count": 6,
     "metadata": {},
     "output_type": "execute_result"
    }
   ],
   "source": [
    "data.isnull().sum()"
   ]
  },
  {
   "cell_type": "markdown",
   "id": "528dc39e",
   "metadata": {},
   "source": [
    "#There are 22 null values in the column 'Places of seeking sex partners'."
   ]
  },
  {
   "cell_type": "code",
   "execution_count": 7,
   "id": "bdd8b366",
   "metadata": {},
   "outputs": [],
   "source": [
    "# removing all 22 null value rows from dataset\n",
    "data = data.dropna() "
   ]
  },
  {
   "cell_type": "code",
   "execution_count": 8,
   "id": "57b1ef30",
   "metadata": {},
   "outputs": [
    {
     "data": {
      "text/plain": [
       "Age                               0\n",
       "Marital Staus                     0\n",
       "STD                               0\n",
       "Educational Background            0\n",
       "HIV TEST IN PAST YEAR             0\n",
       "AIDS education                    0\n",
       "Places of seeking sex partners    0\n",
       "SEXUAL ORIENTATION                0\n",
       "Drug- taking                      0\n",
       "Result                            0\n",
       "dtype: int64"
      ]
     },
     "execution_count": 8,
     "metadata": {},
     "output_type": "execute_result"
    }
   ],
   "source": [
    "# null values in dataset after dropping null values\n",
    "data.isnull().sum()"
   ]
  },
  {
   "cell_type": "markdown",
   "id": "27f2a02a",
   "metadata": {},
   "source": [
    "---"
   ]
  },
  {
   "cell_type": "code",
   "execution_count": 9,
   "id": "56b3150d",
   "metadata": {},
   "outputs": [
    {
     "data": {
      "text/html": [
       "<div>\n",
       "<style scoped>\n",
       "    .dataframe tbody tr th:only-of-type {\n",
       "        vertical-align: middle;\n",
       "    }\n",
       "\n",
       "    .dataframe tbody tr th {\n",
       "        vertical-align: top;\n",
       "    }\n",
       "\n",
       "    .dataframe thead th {\n",
       "        text-align: right;\n",
       "    }\n",
       "</style>\n",
       "<table border=\"1\" class=\"dataframe\">\n",
       "  <thead>\n",
       "    <tr style=\"text-align: right;\">\n",
       "      <th></th>\n",
       "      <th>Age</th>\n",
       "      <th>Marital Staus</th>\n",
       "      <th>STD</th>\n",
       "      <th>Educational Background</th>\n",
       "      <th>HIV TEST IN PAST YEAR</th>\n",
       "      <th>AIDS education</th>\n",
       "      <th>Places of seeking sex partners</th>\n",
       "      <th>SEXUAL ORIENTATION</th>\n",
       "      <th>Drug- taking</th>\n",
       "      <th>Result</th>\n",
       "    </tr>\n",
       "  </thead>\n",
       "  <tbody>\n",
       "    <tr>\n",
       "      <th>0</th>\n",
       "      <td>22</td>\n",
       "      <td>UNMARRIED</td>\n",
       "      <td>NO</td>\n",
       "      <td>College Degree</td>\n",
       "      <td>YES</td>\n",
       "      <td>NO</td>\n",
       "      <td>Bar</td>\n",
       "      <td>Heterosexual</td>\n",
       "      <td>YES</td>\n",
       "      <td>POSITIVE</td>\n",
       "    </tr>\n",
       "    <tr>\n",
       "      <th>3</th>\n",
       "      <td>24</td>\n",
       "      <td>Married</td>\n",
       "      <td>NO</td>\n",
       "      <td>College Degree</td>\n",
       "      <td>YES</td>\n",
       "      <td>YES</td>\n",
       "      <td>Park</td>\n",
       "      <td>Heterosexual</td>\n",
       "      <td>YES</td>\n",
       "      <td>POSITIVE</td>\n",
       "    </tr>\n",
       "    <tr>\n",
       "      <th>4</th>\n",
       "      <td>18</td>\n",
       "      <td>UNMARRIED</td>\n",
       "      <td>YES</td>\n",
       "      <td>Senior High School</td>\n",
       "      <td>YES</td>\n",
       "      <td>NO</td>\n",
       "      <td>Internet</td>\n",
       "      <td>Heterosexual</td>\n",
       "      <td>YES</td>\n",
       "      <td>POSITIVE</td>\n",
       "    </tr>\n",
       "    <tr>\n",
       "      <th>5</th>\n",
       "      <td>15</td>\n",
       "      <td>UNMARRIED</td>\n",
       "      <td>YES</td>\n",
       "      <td>Junior High School</td>\n",
       "      <td>NO</td>\n",
       "      <td>NO</td>\n",
       "      <td>Public bath</td>\n",
       "      <td>Bisexual</td>\n",
       "      <td>NO</td>\n",
       "      <td>NEGATIVE</td>\n",
       "    </tr>\n",
       "    <tr>\n",
       "      <th>6</th>\n",
       "      <td>15</td>\n",
       "      <td>UNMARRIED</td>\n",
       "      <td>YES</td>\n",
       "      <td>Junior High School</td>\n",
       "      <td>NO</td>\n",
       "      <td>NO</td>\n",
       "      <td>Public Bath</td>\n",
       "      <td>Heterosexual</td>\n",
       "      <td>YES</td>\n",
       "      <td>NEGATIVE</td>\n",
       "    </tr>\n",
       "  </tbody>\n",
       "</table>\n",
       "</div>"
      ],
      "text/plain": [
       "   Age Marital Staus  STD Educational Background HIV TEST IN PAST YEAR  \\\n",
       "0   22     UNMARRIED   NO         College Degree                   YES   \n",
       "3   24       Married   NO         College Degree                   YES   \n",
       "4   18     UNMARRIED  YES     Senior High School                   YES   \n",
       "5   15     UNMARRIED  YES     Junior High School                    NO   \n",
       "6   15     UNMARRIED  YES     Junior High School                    NO   \n",
       "\n",
       "  AIDS education Places of seeking sex partners SEXUAL ORIENTATION  \\\n",
       "0             NO                            Bar       Heterosexual   \n",
       "3            YES                           Park       Heterosexual   \n",
       "4             NO                       Internet       Heterosexual   \n",
       "5             NO                    Public bath           Bisexual   \n",
       "6             NO                    Public Bath       Heterosexual   \n",
       "\n",
       "  Drug- taking    Result  \n",
       "0          YES  POSITIVE  \n",
       "3          YES  POSITIVE  \n",
       "4          YES  POSITIVE  \n",
       "5           NO  NEGATIVE  \n",
       "6          YES  NEGATIVE  "
      ]
     },
     "execution_count": 9,
     "metadata": {},
     "output_type": "execute_result"
    }
   ],
   "source": [
    "data.head() # first five rows of the dataset"
   ]
  },
  {
   "cell_type": "code",
   "execution_count": 10,
   "id": "d6b9c9e1",
   "metadata": {},
   "outputs": [
    {
     "data": {
      "text/html": [
       "<div>\n",
       "<style scoped>\n",
       "    .dataframe tbody tr th:only-of-type {\n",
       "        vertical-align: middle;\n",
       "    }\n",
       "\n",
       "    .dataframe tbody tr th {\n",
       "        vertical-align: top;\n",
       "    }\n",
       "\n",
       "    .dataframe thead th {\n",
       "        text-align: right;\n",
       "    }\n",
       "</style>\n",
       "<table border=\"1\" class=\"dataframe\">\n",
       "  <thead>\n",
       "    <tr style=\"text-align: right;\">\n",
       "      <th></th>\n",
       "      <th>Age</th>\n",
       "      <th>Marital Staus</th>\n",
       "      <th>STD</th>\n",
       "      <th>Educational Background</th>\n",
       "      <th>HIV TEST IN PAST YEAR</th>\n",
       "      <th>AIDS education</th>\n",
       "      <th>Places of seeking sex partners</th>\n",
       "      <th>SEXUAL ORIENTATION</th>\n",
       "      <th>Drug- taking</th>\n",
       "      <th>Result</th>\n",
       "    </tr>\n",
       "  </thead>\n",
       "  <tbody>\n",
       "    <tr>\n",
       "      <th>693</th>\n",
       "      <td>19</td>\n",
       "      <td>UNMARRIED</td>\n",
       "      <td>YES</td>\n",
       "      <td>Illiteracy</td>\n",
       "      <td>NO</td>\n",
       "      <td>NO</td>\n",
       "      <td>Internet</td>\n",
       "      <td>Heterosexual</td>\n",
       "      <td>NO</td>\n",
       "      <td>POSITIVE</td>\n",
       "    </tr>\n",
       "    <tr>\n",
       "      <th>694</th>\n",
       "      <td>47</td>\n",
       "      <td>MARRIED</td>\n",
       "      <td>NO</td>\n",
       "      <td>College Degree</td>\n",
       "      <td>NO</td>\n",
       "      <td>YES</td>\n",
       "      <td>Bar</td>\n",
       "      <td>Bisexual</td>\n",
       "      <td>NO</td>\n",
       "      <td>NEGATIVE</td>\n",
       "    </tr>\n",
       "    <tr>\n",
       "      <th>695</th>\n",
       "      <td>34</td>\n",
       "      <td>UNMARRIED</td>\n",
       "      <td>YES</td>\n",
       "      <td>Senior High School</td>\n",
       "      <td>YES</td>\n",
       "      <td>YES</td>\n",
       "      <td>Park</td>\n",
       "      <td>Homosexual</td>\n",
       "      <td>YES</td>\n",
       "      <td>NEGATIVE</td>\n",
       "    </tr>\n",
       "    <tr>\n",
       "      <th>696</th>\n",
       "      <td>25</td>\n",
       "      <td>MARRIED</td>\n",
       "      <td>NO</td>\n",
       "      <td>Junior High School</td>\n",
       "      <td>NO</td>\n",
       "      <td>NO</td>\n",
       "      <td>Public Bath</td>\n",
       "      <td>Heterosexual</td>\n",
       "      <td>YES</td>\n",
       "      <td>POSITIVE</td>\n",
       "    </tr>\n",
       "    <tr>\n",
       "      <th>697</th>\n",
       "      <td>46</td>\n",
       "      <td>Cohabiting</td>\n",
       "      <td>YES</td>\n",
       "      <td>Senior High School</td>\n",
       "      <td>YES</td>\n",
       "      <td>NO</td>\n",
       "      <td>Internet</td>\n",
       "      <td>Homosexual</td>\n",
       "      <td>NO</td>\n",
       "      <td>POSITIVE</td>\n",
       "    </tr>\n",
       "  </tbody>\n",
       "</table>\n",
       "</div>"
      ],
      "text/plain": [
       "     Age Marital Staus  STD Educational Background HIV TEST IN PAST YEAR  \\\n",
       "693   19     UNMARRIED  YES             Illiteracy                    NO   \n",
       "694   47       MARRIED   NO         College Degree                    NO   \n",
       "695   34     UNMARRIED  YES     Senior High School                   YES   \n",
       "696   25       MARRIED   NO     Junior High School                    NO   \n",
       "697   46    Cohabiting  YES     Senior High School                   YES   \n",
       "\n",
       "    AIDS education Places of seeking sex partners SEXUAL ORIENTATION  \\\n",
       "693             NO                       Internet       Heterosexual   \n",
       "694            YES                            Bar           Bisexual   \n",
       "695            YES                           Park         Homosexual   \n",
       "696             NO                    Public Bath       Heterosexual   \n",
       "697             NO                       Internet         Homosexual   \n",
       "\n",
       "    Drug- taking    Result  \n",
       "693           NO  POSITIVE  \n",
       "694           NO  NEGATIVE  \n",
       "695          YES  NEGATIVE  \n",
       "696          YES  POSITIVE  \n",
       "697           NO  POSITIVE  "
      ]
     },
     "execution_count": 10,
     "metadata": {},
     "output_type": "execute_result"
    }
   ],
   "source": [
    "data.tail() # last five rows of the dataset"
   ]
  },
  {
   "cell_type": "markdown",
   "id": "b100a4b0",
   "metadata": {},
   "source": [
    "---"
   ]
  },
  {
   "cell_type": "code",
   "execution_count": 5,
   "id": "6f9170b0",
   "metadata": {},
   "outputs": [],
   "source": [
    "# changing values with same value but different name \n",
    "\n",
    "data[\"Drug- taking\"] = data[\"Drug- taking\"].replace(\"Yes\",\"YES\") \n",
    "data[\"Drug- taking\"] = data[\"Drug- taking\"].replace(\"No\",\"NO\")\n",
    "data[\"Result\"] = data[\"Result\"].replace(\"Positive\",\"POSITIVE\")\n",
    "data[\"Result\"] = data[\"Result\"].replace(\"Negative\",\"NEGATIVE\") \n",
    "data[\"STD\"] = data[\"STD\"].replace(\"No\",\"NO\")\n",
    "data[\"STD\"] = data[\"STD\"].replace(\"Yes\",\"YES\")                            \n",
    "data[\"Places of seeking sex partners\"] = data[\"Places of seeking sex partners\"].replace(\"Public bath\",\"Public Bath\")"
   ]
  },
  {
   "cell_type": "code",
   "execution_count": 12,
   "id": "1db69b41",
   "metadata": {},
   "outputs": [
    {
     "data": {
      "text/plain": [
       "Result\n",
       "True     338\n",
       "False    338\n",
       "Name: count, dtype: int64"
      ]
     },
     "execution_count": 12,
     "metadata": {},
     "output_type": "execute_result"
    }
   ],
   "source": [
    "(data[\"Result\"]==\"POSITIVE\").value_counts() # Finding number of persons who are \"HIV POSITIVE\""
   ]
  },
  {
   "cell_type": "markdown",
   "id": "82a0c3bb",
   "metadata": {},
   "source": [
    "#In this dataset '338' persons are HIV positive and '338' persons are HIV negative"
   ]
  },
  {
   "cell_type": "code",
   "execution_count": 158,
   "id": "92d7f21a",
   "metadata": {},
   "outputs": [
    {
     "data": {
      "text/plain": [
       "<Axes: xlabel='Result', ylabel='count'>"
      ]
     },
     "execution_count": 158,
     "metadata": {},
     "output_type": "execute_result"
    },
    {
     "data": {
      "image/png": "[encoded data removed]",
      "text/plain": [
       "<Figure size 640x480 with 1 Axes>"
      ]
     },
     "metadata": {},
     "output_type": "display_data"
    }
   ],
   "source": [
    "sns.countplot(x=data[\"Result\"],hue=data[\"Drug- taking\"],palette='YlOrBr')"
   ]
  },
  {
   "cell_type": "markdown",
   "id": "f7168a45",
   "metadata": {},
   "source": [
    "#In this dataset persons who don't use drugs got more 'HIV Positive' cases than others who uses drugs"
   ]
  },
  {
   "cell_type": "markdown",
   "id": "f0186dec",
   "metadata": {},
   "source": [
    "---"
   ]
  },
  {
   "cell_type": "code",
   "execution_count": 159,
   "id": "f6948972",
   "metadata": {},
   "outputs": [
    {
     "data": {
      "text/plain": [
       "<Axes: xlabel='Places of seeking sex partners', ylabel='count'>"
      ]
     },
     "execution_count": 159,
     "metadata": {},
     "output_type": "execute_result"
    },
    {
     "data": {
      "image/png": "[encoded data removed]",
      "text/plain": [
       "<Figure size 640x480 with 1 Axes>"
      ]
     },
     "metadata": {},
     "output_type": "display_data"
    }
   ],
   "source": [
    "sns.countplot(x=data[\"Places of seeking sex partners\"],hue=data[\"Result\"],palette='crest')"
   ]
  },
  {
   "cell_type": "markdown",
   "id": "fda3b0a8",
   "metadata": {},
   "source": [
    "#In this dataset people found 'seeking sex partners' in 'Internet' got more HIV positive cases."
   ]
  },
  {
   "cell_type": "markdown",
   "id": "6a83ea21",
   "metadata": {},
   "source": [
    "---"
   ]
  },
  {
   "cell_type": "code",
   "execution_count": 160,
   "id": "278bd4fd",
   "metadata": {},
   "outputs": [
    {
     "data": {
      "text/plain": [
       "<Axes: xlabel='Age', ylabel='count'>"
      ]
     },
     "execution_count": 160,
     "metadata": {},
     "output_type": "execute_result"
    },
    {
     "data": {
      "image/png": "[encoded data removed]",
      "text/plain": [
       "<Figure size 1800x800 with 1 Axes>"
      ]
     },
     "metadata": {},
     "output_type": "display_data"
    }
   ],
   "source": [
    "plt.figure(figsize=(18,8))\n",
    "sns.countplot(x=data[\"Age\"],hue=data[\"Result\"],palette='rocket_r')"
   ]
  },
  {
   "cell_type": "markdown",
   "id": "dfe478d3",
   "metadata": {},
   "source": [
    "#In this dataset people who are '23' years old got most number of HIV positive cases.\n",
    "#In this dataset The youngest persons who got HIV positive cases are '12' year old and oldest people who got HIV positive cases are of 78 years old."
   ]
  },
  {
   "cell_type": "markdown",
   "id": "c0bfa602",
   "metadata": {},
   "source": [
    "---"
   ]
  },
  {
   "cell_type": "markdown",
   "id": "b582e911",
   "metadata": {},
   "source": [
    "###  DATA PREPROCESSING"
   ]
  },
  {
   "cell_type": "markdown",
   "id": "4ea21fe4",
   "metadata": {},
   "source": [
    "#### Splitting dataset to 'Features'(x) and 'Target'(y)#### Splitting dataset to 'Features'(x) and 'Target'(y)"
   ]
  },
  {
   "cell_type": "code",
   "execution_count": 161,
   "id": "d033e543",
   "metadata": {},
   "outputs": [],
   "source": [
    "x = data.drop(\"Result\",axis=1)\n",
    "y = data[\"Result\"]"
   ]
  },
  {
   "cell_type": "code",
   "execution_count": 162,
   "id": "e9945165",
   "metadata": {},
   "outputs": [
    {
     "data": {
      "text/html": [
       "<div>\n",
       "<style scoped>\n",
       "    .dataframe tbody tr th:only-of-type {\n",
       "        vertical-align: middle;\n",
       "    }\n",
       "\n",
       "    .dataframe tbody tr th {\n",
       "        vertical-align: top;\n",
       "    }\n",
       "\n",
       "    .dataframe thead th {\n",
       "        text-align: right;\n",
       "    }\n",
       "</style>\n",
       "<table border=\"1\" class=\"dataframe\">\n",
       "  <thead>\n",
       "    <tr style=\"text-align: right;\">\n",
       "      <th></th>\n",
       "      <th>Age</th>\n",
       "      <th>Marital Staus</th>\n",
       "      <th>STD</th>\n",
       "      <th>Educational Background</th>\n",
       "      <th>HIV TEST IN PAST YEAR</th>\n",
       "      <th>AIDS education</th>\n",
       "      <th>Places of seeking sex partners</th>\n",
       "      <th>SEXUAL ORIENTATION</th>\n",
       "      <th>Drug- taking</th>\n",
       "    </tr>\n",
       "  </thead>\n",
       "  <tbody>\n",
       "    <tr>\n",
       "      <th>0</th>\n",
       "      <td>22</td>\n",
       "      <td>UNMARRIED</td>\n",
       "      <td>NO</td>\n",
       "      <td>College Degree</td>\n",
       "      <td>YES</td>\n",
       "      <td>NO</td>\n",
       "      <td>Bar</td>\n",
       "      <td>Heterosexual</td>\n",
       "      <td>YES</td>\n",
       "    </tr>\n",
       "    <tr>\n",
       "      <th>3</th>\n",
       "      <td>24</td>\n",
       "      <td>Married</td>\n",
       "      <td>NO</td>\n",
       "      <td>College Degree</td>\n",
       "      <td>YES</td>\n",
       "      <td>YES</td>\n",
       "      <td>Park</td>\n",
       "      <td>Heterosexual</td>\n",
       "      <td>YES</td>\n",
       "    </tr>\n",
       "    <tr>\n",
       "      <th>4</th>\n",
       "      <td>18</td>\n",
       "      <td>UNMARRIED</td>\n",
       "      <td>YES</td>\n",
       "      <td>Senior High School</td>\n",
       "      <td>YES</td>\n",
       "      <td>NO</td>\n",
       "      <td>Internet</td>\n",
       "      <td>Heterosexual</td>\n",
       "      <td>YES</td>\n",
       "    </tr>\n",
       "    <tr>\n",
       "      <th>5</th>\n",
       "      <td>15</td>\n",
       "      <td>UNMARRIED</td>\n",
       "      <td>YES</td>\n",
       "      <td>Junior High School</td>\n",
       "      <td>NO</td>\n",
       "      <td>NO</td>\n",
       "      <td>Public Bath</td>\n",
       "      <td>Bisexual</td>\n",
       "      <td>NO</td>\n",
       "    </tr>\n",
       "    <tr>\n",
       "      <th>6</th>\n",
       "      <td>15</td>\n",
       "      <td>UNMARRIED</td>\n",
       "      <td>YES</td>\n",
       "      <td>Junior High School</td>\n",
       "      <td>NO</td>\n",
       "      <td>NO</td>\n",
       "      <td>Public Bath</td>\n",
       "      <td>Heterosexual</td>\n",
       "      <td>YES</td>\n",
       "    </tr>\n",
       "    <tr>\n",
       "      <th>...</th>\n",
       "      <td>...</td>\n",
       "      <td>...</td>\n",
       "      <td>...</td>\n",
       "      <td>...</td>\n",
       "      <td>...</td>\n",
       "      <td>...</td>\n",
       "      <td>...</td>\n",
       "      <td>...</td>\n",
       "      <td>...</td>\n",
       "    </tr>\n",
       "    <tr>\n",
       "      <th>693</th>\n",
       "      <td>19</td>\n",
       "      <td>UNMARRIED</td>\n",
       "      <td>YES</td>\n",
       "      <td>Illiteracy</td>\n",
       "      <td>NO</td>\n",
       "      <td>NO</td>\n",
       "      <td>Internet</td>\n",
       "      <td>Heterosexual</td>\n",
       "      <td>NO</td>\n",
       "    </tr>\n",
       "    <tr>\n",
       "      <th>694</th>\n",
       "      <td>47</td>\n",
       "      <td>MARRIED</td>\n",
       "      <td>NO</td>\n",
       "      <td>College Degree</td>\n",
       "      <td>NO</td>\n",
       "      <td>YES</td>\n",
       "      <td>Bar</td>\n",
       "      <td>Bisexual</td>\n",
       "      <td>NO</td>\n",
       "    </tr>\n",
       "    <tr>\n",
       "      <th>695</th>\n",
       "      <td>34</td>\n",
       "      <td>UNMARRIED</td>\n",
       "      <td>YES</td>\n",
       "      <td>Senior High School</td>\n",
       "      <td>YES</td>\n",
       "      <td>YES</td>\n",
       "      <td>Park</td>\n",
       "      <td>Homosexual</td>\n",
       "      <td>YES</td>\n",
       "    </tr>\n",
       "    <tr>\n",
       "      <th>696</th>\n",
       "      <td>25</td>\n",
       "      <td>MARRIED</td>\n",
       "      <td>NO</td>\n",
       "      <td>Junior High School</td>\n",
       "      <td>NO</td>\n",
       "      <td>NO</td>\n",
       "      <td>Public Bath</td>\n",
       "      <td>Heterosexual</td>\n",
       "      <td>YES</td>\n",
       "    </tr>\n",
       "    <tr>\n",
       "      <th>697</th>\n",
       "      <td>46</td>\n",
       "      <td>Cohabiting</td>\n",
       "      <td>YES</td>\n",
       "      <td>Senior High School</td>\n",
       "      <td>YES</td>\n",
       "      <td>NO</td>\n",
       "      <td>Internet</td>\n",
       "      <td>Homosexual</td>\n",
       "      <td>NO</td>\n",
       "    </tr>\n",
       "  </tbody>\n",
       "</table>\n",
       "<p>676 rows × 9 columns</p>\n",
       "</div>"
      ],
      "text/plain": [
       "     Age Marital Staus  STD Educational Background HIV TEST IN PAST YEAR  \\\n",
       "0     22     UNMARRIED   NO         College Degree                   YES   \n",
       "3     24       Married   NO         College Degree                   YES   \n",
       "4     18     UNMARRIED  YES     Senior High School                   YES   \n",
       "5     15     UNMARRIED  YES     Junior High School                    NO   \n",
       "6     15     UNMARRIED  YES     Junior High School                    NO   \n",
       "..   ...           ...  ...                    ...                   ...   \n",
       "693   19     UNMARRIED  YES             Illiteracy                    NO   \n",
       "694   47       MARRIED   NO         College Degree                    NO   \n",
       "695   34     UNMARRIED  YES     Senior High School                   YES   \n",
       "696   25       MARRIED   NO     Junior High School                    NO   \n",
       "697   46    Cohabiting  YES     Senior High School                   YES   \n",
       "\n",
       "    AIDS education Places of seeking sex partners SEXUAL ORIENTATION  \\\n",
       "0               NO                            Bar       Heterosexual   \n",
       "3              YES                           Park       Heterosexual   \n",
       "4               NO                       Internet       Heterosexual   \n",
       "5               NO                    Public Bath           Bisexual   \n",
       "6               NO                    Public Bath       Heterosexual   \n",
       "..             ...                            ...                ...   \n",
       "693             NO                       Internet       Heterosexual   \n",
       "694            YES                            Bar           Bisexual   \n",
       "695            YES                           Park         Homosexual   \n",
       "696             NO                    Public Bath       Heterosexual   \n",
       "697             NO                       Internet         Homosexual   \n",
       "\n",
       "    Drug- taking  \n",
       "0            YES  \n",
       "3            YES  \n",
       "4            YES  \n",
       "5             NO  \n",
       "6            YES  \n",
       "..           ...  \n",
       "693           NO  \n",
       "694           NO  \n",
       "695          YES  \n",
       "696          YES  \n",
       "697           NO  \n",
       "\n",
       "[676 rows x 9 columns]"
      ]
     },
     "execution_count": 162,
     "metadata": {},
     "output_type": "execute_result"
    }
   ],
   "source": [
    "x"
   ]
  },
  {
   "cell_type": "code",
   "execution_count": 163,
   "id": "c7e42ba3",
   "metadata": {},
   "outputs": [
    {
     "data": {
      "text/plain": [
       "0      POSITIVE\n",
       "3      POSITIVE\n",
       "4      POSITIVE\n",
       "5      NEGATIVE\n",
       "6      NEGATIVE\n",
       "         ...   \n",
       "693    POSITIVE\n",
       "694    NEGATIVE\n",
       "695    NEGATIVE\n",
       "696    POSITIVE\n",
       "697    POSITIVE\n",
       "Name: Result, Length: 676, dtype: object"
      ]
     },
     "execution_count": 163,
     "metadata": {},
     "output_type": "execute_result"
    }
   ],
   "source": [
    "y"
   ]
  },
  {
   "cell_type": "markdown",
   "id": "4c69d9bb",
   "metadata": {},
   "source": [
    "## Label Encoding"
   ]
  },
  {
   "cell_type": "code",
   "execution_count": 164,
   "id": "266d0844",
   "metadata": {},
   "outputs": [],
   "source": [
    "#Creating a function to encode string values in the features(x)\n",
    "\n",
    "def Encoder(df):\n",
    "    from sklearn.preprocessing import LabelEncoder\n",
    "    LE = LabelEncoder()\n",
    "    for column in df.columns:\n",
    "        if df[column].dtype == \"object\":\n",
    "            df[column] = LE.fit_transform(df[column])\n",
    "            \n",
    "Encoder(x) # calling 'Encoder' function and encoding string values in 'x'"
   ]
  },
  {
   "cell_type": "markdown",
   "id": "d4446cc7",
   "metadata": {},
   "source": [
    "---"
   ]
  },
  {
   "cell_type": "code",
   "execution_count": 165,
   "id": "db3ce925",
   "metadata": {},
   "outputs": [],
   "source": [
    "from sklearn.model_selection import train_test_split"
   ]
  },
  {
   "cell_type": "markdown",
   "id": "b01fbf46",
   "metadata": {},
   "source": [
    "#### Spilitting 'x' and 'y' to train and test data"
   ]
  },
  {
   "cell_type": "code",
   "execution_count": 166,
   "id": "b180f445",
   "metadata": {},
   "outputs": [],
   "source": [
    "X_train,X_test,y_train,y_test = train_test_split(x,y,test_size=0.3,random_state=42)"
   ]
  },
  {
   "cell_type": "code",
   "execution_count": 167,
   "id": "3b76de48",
   "metadata": {},
   "outputs": [
    {
     "data": {
      "text/html": [
       "<div>\n",
       "<style scoped>\n",
       "    .dataframe tbody tr th:only-of-type {\n",
       "        vertical-align: middle;\n",
       "    }\n",
       "\n",
       "    .dataframe tbody tr th {\n",
       "        vertical-align: top;\n",
       "    }\n",
       "\n",
       "    .dataframe thead th {\n",
       "        text-align: right;\n",
       "    }\n",
       "</style>\n",
       "<table border=\"1\" class=\"dataframe\">\n",
       "  <thead>\n",
       "    <tr style=\"text-align: right;\">\n",
       "      <th></th>\n",
       "      <th>Age</th>\n",
       "      <th>Marital Staus</th>\n",
       "      <th>STD</th>\n",
       "      <th>Educational Background</th>\n",
       "      <th>HIV TEST IN PAST YEAR</th>\n",
       "      <th>AIDS education</th>\n",
       "      <th>Places of seeking sex partners</th>\n",
       "      <th>SEXUAL ORIENTATION</th>\n",
       "      <th>Drug- taking</th>\n",
       "    </tr>\n",
       "  </thead>\n",
       "  <tbody>\n",
       "    <tr>\n",
       "      <th>442</th>\n",
       "      <td>44</td>\n",
       "      <td>5</td>\n",
       "      <td>0</td>\n",
       "      <td>0</td>\n",
       "      <td>0</td>\n",
       "      <td>0</td>\n",
       "      <td>1</td>\n",
       "      <td>4</td>\n",
       "      <td>0</td>\n",
       "    </tr>\n",
       "    <tr>\n",
       "      <th>417</th>\n",
       "      <td>23</td>\n",
       "      <td>3</td>\n",
       "      <td>0</td>\n",
       "      <td>3</td>\n",
       "      <td>0</td>\n",
       "      <td>0</td>\n",
       "      <td>0</td>\n",
       "      <td>1</td>\n",
       "      <td>0</td>\n",
       "    </tr>\n",
       "    <tr>\n",
       "      <th>696</th>\n",
       "      <td>25</td>\n",
       "      <td>3</td>\n",
       "      <td>0</td>\n",
       "      <td>3</td>\n",
       "      <td>0</td>\n",
       "      <td>0</td>\n",
       "      <td>4</td>\n",
       "      <td>2</td>\n",
       "      <td>1</td>\n",
       "    </tr>\n",
       "    <tr>\n",
       "      <th>81</th>\n",
       "      <td>41</td>\n",
       "      <td>5</td>\n",
       "      <td>1</td>\n",
       "      <td>0</td>\n",
       "      <td>0</td>\n",
       "      <td>0</td>\n",
       "      <td>4</td>\n",
       "      <td>4</td>\n",
       "      <td>0</td>\n",
       "    </tr>\n",
       "    <tr>\n",
       "      <th>25</th>\n",
       "      <td>70</td>\n",
       "      <td>3</td>\n",
       "      <td>0</td>\n",
       "      <td>0</td>\n",
       "      <td>1</td>\n",
       "      <td>2</td>\n",
       "      <td>2</td>\n",
       "      <td>2</td>\n",
       "      <td>0</td>\n",
       "    </tr>\n",
       "    <tr>\n",
       "      <th>...</th>\n",
       "      <td>...</td>\n",
       "      <td>...</td>\n",
       "      <td>...</td>\n",
       "      <td>...</td>\n",
       "      <td>...</td>\n",
       "      <td>...</td>\n",
       "      <td>...</td>\n",
       "      <td>...</td>\n",
       "      <td>...</td>\n",
       "    </tr>\n",
       "    <tr>\n",
       "      <th>73</th>\n",
       "      <td>70</td>\n",
       "      <td>5</td>\n",
       "      <td>1</td>\n",
       "      <td>2</td>\n",
       "      <td>1</td>\n",
       "      <td>0</td>\n",
       "      <td>1</td>\n",
       "      <td>1</td>\n",
       "      <td>0</td>\n",
       "    </tr>\n",
       "    <tr>\n",
       "      <th>108</th>\n",
       "      <td>30</td>\n",
       "      <td>5</td>\n",
       "      <td>0</td>\n",
       "      <td>0</td>\n",
       "      <td>0</td>\n",
       "      <td>0</td>\n",
       "      <td>1</td>\n",
       "      <td>2</td>\n",
       "      <td>0</td>\n",
       "    </tr>\n",
       "    <tr>\n",
       "      <th>281</th>\n",
       "      <td>46</td>\n",
       "      <td>6</td>\n",
       "      <td>0</td>\n",
       "      <td>0</td>\n",
       "      <td>1</td>\n",
       "      <td>2</td>\n",
       "      <td>2</td>\n",
       "      <td>4</td>\n",
       "      <td>0</td>\n",
       "    </tr>\n",
       "    <tr>\n",
       "      <th>448</th>\n",
       "      <td>49</td>\n",
       "      <td>3</td>\n",
       "      <td>0</td>\n",
       "      <td>3</td>\n",
       "      <td>0</td>\n",
       "      <td>2</td>\n",
       "      <td>4</td>\n",
       "      <td>4</td>\n",
       "      <td>0</td>\n",
       "    </tr>\n",
       "    <tr>\n",
       "      <th>104</th>\n",
       "      <td>38</td>\n",
       "      <td>5</td>\n",
       "      <td>1</td>\n",
       "      <td>5</td>\n",
       "      <td>1</td>\n",
       "      <td>2</td>\n",
       "      <td>4</td>\n",
       "      <td>2</td>\n",
       "      <td>1</td>\n",
       "    </tr>\n",
       "  </tbody>\n",
       "</table>\n",
       "<p>473 rows × 9 columns</p>\n",
       "</div>"
      ],
      "text/plain": [
       "     Age  Marital Staus  STD  Educational Background  HIV TEST IN PAST YEAR  \\\n",
       "442   44              5    0                       0                      0   \n",
       "417   23              3    0                       3                      0   \n",
       "696   25              3    0                       3                      0   \n",
       "81    41              5    1                       0                      0   \n",
       "25    70              3    0                       0                      1   \n",
       "..   ...            ...  ...                     ...                    ...   \n",
       "73    70              5    1                       2                      1   \n",
       "108   30              5    0                       0                      0   \n",
       "281   46              6    0                       0                      1   \n",
       "448   49              3    0                       3                      0   \n",
       "104   38              5    1                       5                      1   \n",
       "\n",
       "     AIDS education  Places of seeking sex partners  SEXUAL ORIENTATION  \\\n",
       "442               0                               1                   4   \n",
       "417               0                               0                   1   \n",
       "696               0                               4                   2   \n",
       "81                0                               4                   4   \n",
       "25                2                               2                   2   \n",
       "..              ...                             ...                 ...   \n",
       "73                0                               1                   1   \n",
       "108               0                               1                   2   \n",
       "281               2                               2                   4   \n",
       "448               2                               4                   4   \n",
       "104               2                               4                   2   \n",
       "\n",
       "     Drug- taking  \n",
       "442             0  \n",
       "417             0  \n",
       "696             1  \n",
       "81              0  \n",
       "25              0  \n",
       "..            ...  \n",
       "73              0  \n",
       "108             0  \n",
       "281             0  \n",
       "448             0  \n",
       "104             1  \n",
       "\n",
       "[473 rows x 9 columns]"
      ]
     },
     "execution_count": 167,
     "metadata": {},
     "output_type": "execute_result"
    }
   ],
   "source": [
    "X_train"
   ]
  },
  {
   "cell_type": "code",
   "execution_count": 168,
   "id": "3919fc61",
   "metadata": {},
   "outputs": [
    {
     "data": {
      "text/html": [
       "<div>\n",
       "<style scoped>\n",
       "    .dataframe tbody tr th:only-of-type {\n",
       "        vertical-align: middle;\n",
       "    }\n",
       "\n",
       "    .dataframe tbody tr th {\n",
       "        vertical-align: top;\n",
       "    }\n",
       "\n",
       "    .dataframe thead th {\n",
       "        text-align: right;\n",
       "    }\n",
       "</style>\n",
       "<table border=\"1\" class=\"dataframe\">\n",
       "  <thead>\n",
       "    <tr style=\"text-align: right;\">\n",
       "      <th></th>\n",
       "      <th>Age</th>\n",
       "      <th>Marital Staus</th>\n",
       "      <th>STD</th>\n",
       "      <th>Educational Background</th>\n",
       "      <th>HIV TEST IN PAST YEAR</th>\n",
       "      <th>AIDS education</th>\n",
       "      <th>Places of seeking sex partners</th>\n",
       "      <th>SEXUAL ORIENTATION</th>\n",
       "      <th>Drug- taking</th>\n",
       "    </tr>\n",
       "  </thead>\n",
       "  <tbody>\n",
       "    <tr>\n",
       "      <th>663</th>\n",
       "      <td>21</td>\n",
       "      <td>5</td>\n",
       "      <td>1</td>\n",
       "      <td>5</td>\n",
       "      <td>1</td>\n",
       "      <td>2</td>\n",
       "      <td>2</td>\n",
       "      <td>4</td>\n",
       "      <td>1</td>\n",
       "    </tr>\n",
       "    <tr>\n",
       "      <th>313</th>\n",
       "      <td>32</td>\n",
       "      <td>3</td>\n",
       "      <td>0</td>\n",
       "      <td>3</td>\n",
       "      <td>0</td>\n",
       "      <td>0</td>\n",
       "      <td>0</td>\n",
       "      <td>2</td>\n",
       "      <td>0</td>\n",
       "    </tr>\n",
       "    <tr>\n",
       "      <th>382</th>\n",
       "      <td>76</td>\n",
       "      <td>2</td>\n",
       "      <td>0</td>\n",
       "      <td>0</td>\n",
       "      <td>1</td>\n",
       "      <td>2</td>\n",
       "      <td>2</td>\n",
       "      <td>2</td>\n",
       "      <td>1</td>\n",
       "    </tr>\n",
       "    <tr>\n",
       "      <th>506</th>\n",
       "      <td>36</td>\n",
       "      <td>5</td>\n",
       "      <td>0</td>\n",
       "      <td>5</td>\n",
       "      <td>1</td>\n",
       "      <td>0</td>\n",
       "      <td>0</td>\n",
       "      <td>4</td>\n",
       "      <td>1</td>\n",
       "    </tr>\n",
       "    <tr>\n",
       "      <th>601</th>\n",
       "      <td>45</td>\n",
       "      <td>2</td>\n",
       "      <td>0</td>\n",
       "      <td>5</td>\n",
       "      <td>0</td>\n",
       "      <td>0</td>\n",
       "      <td>1</td>\n",
       "      <td>4</td>\n",
       "      <td>0</td>\n",
       "    </tr>\n",
       "    <tr>\n",
       "      <th>...</th>\n",
       "      <td>...</td>\n",
       "      <td>...</td>\n",
       "      <td>...</td>\n",
       "      <td>...</td>\n",
       "      <td>...</td>\n",
       "      <td>...</td>\n",
       "      <td>...</td>\n",
       "      <td>...</td>\n",
       "      <td>...</td>\n",
       "    </tr>\n",
       "    <tr>\n",
       "      <th>411</th>\n",
       "      <td>35</td>\n",
       "      <td>3</td>\n",
       "      <td>1</td>\n",
       "      <td>5</td>\n",
       "      <td>0</td>\n",
       "      <td>0</td>\n",
       "      <td>1</td>\n",
       "      <td>4</td>\n",
       "      <td>1</td>\n",
       "    </tr>\n",
       "    <tr>\n",
       "      <th>180</th>\n",
       "      <td>45</td>\n",
       "      <td>3</td>\n",
       "      <td>1</td>\n",
       "      <td>4</td>\n",
       "      <td>0</td>\n",
       "      <td>0</td>\n",
       "      <td>0</td>\n",
       "      <td>2</td>\n",
       "      <td>1</td>\n",
       "    </tr>\n",
       "    <tr>\n",
       "      <th>444</th>\n",
       "      <td>73</td>\n",
       "      <td>6</td>\n",
       "      <td>1</td>\n",
       "      <td>2</td>\n",
       "      <td>0</td>\n",
       "      <td>0</td>\n",
       "      <td>2</td>\n",
       "      <td>1</td>\n",
       "      <td>1</td>\n",
       "    </tr>\n",
       "    <tr>\n",
       "      <th>433</th>\n",
       "      <td>19</td>\n",
       "      <td>3</td>\n",
       "      <td>0</td>\n",
       "      <td>5</td>\n",
       "      <td>0</td>\n",
       "      <td>0</td>\n",
       "      <td>4</td>\n",
       "      <td>2</td>\n",
       "      <td>0</td>\n",
       "    </tr>\n",
       "    <tr>\n",
       "      <th>85</th>\n",
       "      <td>67</td>\n",
       "      <td>5</td>\n",
       "      <td>0</td>\n",
       "      <td>0</td>\n",
       "      <td>0</td>\n",
       "      <td>2</td>\n",
       "      <td>0</td>\n",
       "      <td>2</td>\n",
       "      <td>1</td>\n",
       "    </tr>\n",
       "  </tbody>\n",
       "</table>\n",
       "<p>203 rows × 9 columns</p>\n",
       "</div>"
      ],
      "text/plain": [
       "     Age  Marital Staus  STD  Educational Background  HIV TEST IN PAST YEAR  \\\n",
       "663   21              5    1                       5                      1   \n",
       "313   32              3    0                       3                      0   \n",
       "382   76              2    0                       0                      1   \n",
       "506   36              5    0                       5                      1   \n",
       "601   45              2    0                       5                      0   \n",
       "..   ...            ...  ...                     ...                    ...   \n",
       "411   35              3    1                       5                      0   \n",
       "180   45              3    1                       4                      0   \n",
       "444   73              6    1                       2                      0   \n",
       "433   19              3    0                       5                      0   \n",
       "85    67              5    0                       0                      0   \n",
       "\n",
       "     AIDS education  Places of seeking sex partners  SEXUAL ORIENTATION  \\\n",
       "663               2                               2                   4   \n",
       "313               0                               0                   2   \n",
       "382               2                               2                   2   \n",
       "506               0                               0                   4   \n",
       "601               0                               1                   4   \n",
       "..              ...                             ...                 ...   \n",
       "411               0                               1                   4   \n",
       "180               0                               0                   2   \n",
       "444               0                               2                   1   \n",
       "433               0                               4                   2   \n",
       "85                2                               0                   2   \n",
       "\n",
       "     Drug- taking  \n",
       "663             1  \n",
       "313             0  \n",
       "382             1  \n",
       "506             1  \n",
       "601             0  \n",
       "..            ...  \n",
       "411             1  \n",
       "180             1  \n",
       "444             1  \n",
       "433             0  \n",
       "85              1  \n",
       "\n",
       "[203 rows x 9 columns]"
      ]
     },
     "execution_count": 168,
     "metadata": {},
     "output_type": "execute_result"
    }
   ],
   "source": [
    "X_test"
   ]
  },
  {
   "cell_type": "code",
   "execution_count": 169,
   "id": "368ab14b",
   "metadata": {},
   "outputs": [
    {
     "data": {
      "text/plain": [
       "442    POSITIVE\n",
       "417    POSITIVE\n",
       "696    POSITIVE\n",
       "81     POSITIVE\n",
       "25     NEGATIVE\n",
       "         ...   \n",
       "73     POSITIVE\n",
       "108    POSITIVE\n",
       "281    NEGATIVE\n",
       "448    POSITIVE\n",
       "104    NEGATIVE\n",
       "Name: Result, Length: 473, dtype: object"
      ]
     },
     "execution_count": 169,
     "metadata": {},
     "output_type": "execute_result"
    }
   ],
   "source": [
    "y_train"
   ]
  },
  {
   "cell_type": "code",
   "execution_count": 170,
   "id": "26b5b00e",
   "metadata": {},
   "outputs": [
    {
     "data": {
      "text/plain": [
       "663    NEGATIVE\n",
       "313    NEGATIVE\n",
       "382    NEGATIVE\n",
       "506    NEGATIVE\n",
       "601    POSITIVE\n",
       "         ...   \n",
       "411    POSITIVE\n",
       "180    NEGATIVE\n",
       "444    NEGATIVE\n",
       "433    POSITIVE\n",
       "85     NEGATIVE\n",
       "Name: Result, Length: 203, dtype: object"
      ]
     },
     "execution_count": 170,
     "metadata": {},
     "output_type": "execute_result"
    }
   ],
   "source": [
    "y_test"
   ]
  },
  {
   "cell_type": "markdown",
   "id": "1d74f389",
   "metadata": {},
   "source": [
    "### LOGISTIC REGRESSION"
   ]
  },
  {
   "cell_type": "code",
   "execution_count": 171,
   "id": "4d342372",
   "metadata": {},
   "outputs": [],
   "source": [
    "from sklearn.linear_model import LogisticRegression"
   ]
  },
  {
   "cell_type": "code",
   "execution_count": 172,
   "id": "76771add",
   "metadata": {},
   "outputs": [],
   "source": [
    "LG = LogisticRegression()"
   ]
  },
  {
   "cell_type": "code",
   "execution_count": 173,
   "id": "9dbca506",
   "metadata": {},
   "outputs": [
    {
     "name": "stderr",
     "output_type": "stream",
     "text": [
      "C:\\Users\\spaka\\anaconda3\\Lib\\site-packages\\sklearn\\linear_model\\_logistic.py:458: ConvergenceWarning: lbfgs failed to converge (status=1):\n",
      "STOP: TOTAL NO. of ITERATIONS REACHED LIMIT.\n",
      "\n",
      "Increase the number of iterations (max_iter) or scale the data as shown in:\n",
      "    https://scikit-learn.org/stable/modules/preprocessing.html\n",
      "Please also refer to the documentation for alternative solver options:\n",
      "    https://scikit-learn.org/stable/modules/linear_model.html#logistic-regression\n",
      "  n_iter_i = _check_optimize_result(\n"
     ]
    },
    {
     "data": {
      "text/html": [
       "<style>#sk-container-id-15 {color: black;background-color: white;}#sk-container-id-15 pre{padding: 0;}#sk-container-id-15 div.sk-toggleable {background-color: white;}#sk-container-id-15 label.sk-toggleable__label {cursor: pointer;display: block;width: 100%;margin-bottom: 0;padding: 0.3em;box-sizing: border-box;text-align: center;}#sk-container-id-15 label.sk-toggleable__label-arrow:before {content: \"▸\";float: left;margin-right: 0.25em;color: #696969;}#sk-container-id-15 label.sk-toggleable__label-arrow:hover:before {color: black;}#sk-container-id-15 div.sk-estimator:hover label.sk-toggleable__label-arrow:before {color: black;}#sk-container-id-15 div.sk-toggleable__content {max-height: 0;max-width: 0;overflow: hidden;text-align: left;background-color: #f0f8ff;}#sk-container-id-15 div.sk-toggleable__content pre {margin: 0.2em;color: black;border-radius: 0.25em;background-color: #f0f8ff;}#sk-container-id-15 input.sk-toggleable__control:checked~div.sk-toggleable__content {max-height: 200px;max-width: 100%;overflow: auto;}#sk-container-id-15 input.sk-toggleable__control:checked~label.sk-toggleable__label-arrow:before {content: \"▾\";}#sk-container-id-15 div.sk-estimator input.sk-toggleable__control:checked~label.sk-toggleable__label {background-color: #d4ebff;}#sk-container-id-15 div.sk-label input.sk-toggleable__control:checked~label.sk-toggleable__label {background-color: #d4ebff;}#sk-container-id-15 input.sk-hidden--visually {border: 0;clip: rect(1px 1px 1px 1px);clip: rect(1px, 1px, 1px, 1px);height: 1px;margin: -1px;overflow: hidden;padding: 0;position: absolute;width: 1px;}#sk-container-id-15 div.sk-estimator {font-family: monospace;background-color: #f0f8ff;border: 1px dotted black;border-radius: 0.25em;box-sizing: border-box;margin-bottom: 0.5em;}#sk-container-id-15 div.sk-estimator:hover {background-color: #d4ebff;}#sk-container-id-15 div.sk-parallel-item::after {content: \"\";width: 100%;border-bottom: 1px solid gray;flex-grow: 1;}#sk-container-id-15 div.sk-label:hover label.sk-toggleable__label {background-color: #d4ebff;}#sk-container-id-15 div.sk-serial::before {content: \"\";position: absolute;border-left: 1px solid gray;box-sizing: border-box;top: 0;bottom: 0;left: 50%;z-index: 0;}#sk-container-id-15 div.sk-serial {display: flex;flex-direction: column;align-items: center;background-color: white;padding-right: 0.2em;padding-left: 0.2em;position: relative;}#sk-container-id-15 div.sk-item {position: relative;z-index: 1;}#sk-container-id-15 div.sk-parallel {display: flex;align-items: stretch;justify-content: center;background-color: white;position: relative;}#sk-container-id-15 div.sk-item::before, #sk-container-id-15 div.sk-parallel-item::before {content: \"\";position: absolute;border-left: 1px solid gray;box-sizing: border-box;top: 0;bottom: 0;left: 50%;z-index: -1;}#sk-container-id-15 div.sk-parallel-item {display: flex;flex-direction: column;z-index: 1;position: relative;background-color: white;}#sk-container-id-15 div.sk-parallel-item:first-child::after {align-self: flex-end;width: 50%;}#sk-container-id-15 div.sk-parallel-item:last-child::after {align-self: flex-start;width: 50%;}#sk-container-id-15 div.sk-parallel-item:only-child::after {width: 0;}#sk-container-id-15 div.sk-dashed-wrapped {border: 1px dashed gray;margin: 0 0.4em 0.5em 0.4em;box-sizing: border-box;padding-bottom: 0.4em;background-color: white;}#sk-container-id-15 div.sk-label label {font-family: monospace;font-weight: bold;display: inline-block;line-height: 1.2em;}#sk-container-id-15 div.sk-label-container {text-align: center;}#sk-container-id-15 div.sk-container {/* jupyter's `normalize.less` sets `[hidden] { display: none; }` but bootstrap.min.css set `[hidden] { display: none !important; }` so we also need the `!important` here to be able to override the default hidden behavior on the sphinx rendered scikit-learn.org. See: https://github.com/scikit-learn/scikit-learn/issues/21755 */display: inline-block !important;position: relative;}#sk-container-id-15 div.sk-text-repr-fallback {display: none;}</style><div id=\"sk-container-id-15\" class=\"sk-top-container\"><div class=\"sk-text-repr-fallback\"><pre>LogisticRegression()</pre><b>In a Jupyter environment, please rerun this cell to show the HTML representation or trust the notebook. <br />On GitHub, the HTML representation is unable to render, please try loading this page with nbviewer.org.</b></div><div class=\"sk-container\" hidden><div class=\"sk-item\"><div class=\"sk-estimator sk-toggleable\"><input class=\"sk-toggleable__control sk-hidden--visually\" id=\"sk-estimator-id-15\" type=\"checkbox\" checked><label for=\"sk-estimator-id-15\" class=\"sk-toggleable__label sk-toggleable__label-arrow\">LogisticRegression</label><div class=\"sk-toggleable__content\"><pre>LogisticRegression()</pre></div></div></div></div></div>"
      ],
      "text/plain": [
       "LogisticRegression()"
      ]
     },
     "execution_count": 173,
     "metadata": {},
     "output_type": "execute_result"
    }
   ],
   "source": [
    "LG.fit(X_train,y_train)"
   ]
  },
  {
   "cell_type": "code",
   "execution_count": 174,
   "id": "f7557410",
   "metadata": {},
   "outputs": [],
   "source": [
    "LG_pred = LG.predict(X_test)"
   ]
  },
  {
   "cell_type": "code",
   "execution_count": 175,
   "id": "6d7dede5",
   "metadata": {},
   "outputs": [],
   "source": [
    "LG_accuracy = accuracy_score(y_test,LG_pred)"
   ]
  },
  {
   "cell_type": "code",
   "execution_count": 176,
   "id": "b85ffd73",
   "metadata": {},
   "outputs": [
    {
     "data": {
      "text/plain": [
       "array([[66, 35],\n",
       "       [37, 65]], dtype=int64)"
      ]
     },
     "execution_count": 176,
     "metadata": {},
     "output_type": "execute_result"
    }
   ],
   "source": [
    "cm = confusion_matrix(y_test,LG_pred)\n",
    "cm"
   ]
  },
  {
   "cell_type": "code",
   "execution_count": 177,
   "id": "7f68ad62",
   "metadata": {},
   "outputs": [
    {
     "name": "stdout",
     "output_type": "stream",
     "text": [
      "Accuracy Score Logistic Regression : 0.645320\n"
     ]
    }
   ],
   "source": [
    "print(f\"Accuracy Score Logistic Regression : {LG_accuracy:2f}\")"
   ]
  },
  {
   "cell_type": "code",
   "execution_count": 178,
   "id": "c55aa8f6",
   "metadata": {},
   "outputs": [
    {
     "name": "stdout",
     "output_type": "stream",
     "text": [
      "HIV POSITIVE\n"
     ]
    },
    {
     "name": "stderr",
     "output_type": "stream",
     "text": [
      "C:\\Users\\spaka\\anaconda3\\Lib\\site-packages\\sklearn\\base.py:439: UserWarning: X does not have valid feature names, but LogisticRegression was fitted with feature names\n",
      "  warnings.warn(\n"
     ]
    }
   ],
   "source": [
    "lg_input = [[25,3,0,3,0,0,4,2,1]]\n",
    "status = LG.predict(lg_input)\n",
    "if status == \"POSITIVE\":\n",
    "    print(\"HIV POSITIVE\")\n",
    "else:\n",
    "    print(\"HIV NEGATIVE\")"
   ]
  },
  {
   "cell_type": "markdown",
   "id": "a29882eb",
   "metadata": {},
   "source": [
    "### DECISION TREE CLASSIFIER"
   ]
  },
  {
   "cell_type": "code",
   "execution_count": 179,
   "id": "d988d01f",
   "metadata": {},
   "outputs": [],
   "source": [
    "from sklearn.tree import DecisionTreeClassifier"
   ]
  },
  {
   "cell_type": "code",
   "execution_count": 180,
   "id": "cc8885ce",
   "metadata": {},
   "outputs": [],
   "source": [
    "DTR = DecisionTreeClassifier()"
   ]
  },
  {
   "cell_type": "code",
   "execution_count": 181,
   "id": "e678c1d6",
   "metadata": {},
   "outputs": [
    {
     "data": {
      "text/html": [
       "<style>#sk-container-id-16 {color: black;background-color: white;}#sk-container-id-16 pre{padding: 0;}#sk-container-id-16 div.sk-toggleable {background-color: white;}#sk-container-id-16 label.sk-toggleable__label {cursor: pointer;display: block;width: 100%;margin-bottom: 0;padding: 0.3em;box-sizing: border-box;text-align: center;}#sk-container-id-16 label.sk-toggleable__label-arrow:before {content: \"▸\";float: left;margin-right: 0.25em;color: #696969;}#sk-container-id-16 label.sk-toggleable__label-arrow:hover:before {color: black;}#sk-container-id-16 div.sk-estimator:hover label.sk-toggleable__label-arrow:before {color: black;}#sk-container-id-16 div.sk-toggleable__content {max-height: 0;max-width: 0;overflow: hidden;text-align: left;background-color: #f0f8ff;}#sk-container-id-16 div.sk-toggleable__content pre {margin: 0.2em;color: black;border-radius: 0.25em;background-color: #f0f8ff;}#sk-container-id-16 input.sk-toggleable__control:checked~div.sk-toggleable__content {max-height: 200px;max-width: 100%;overflow: auto;}#sk-container-id-16 input.sk-toggleable__control:checked~label.sk-toggleable__label-arrow:before {content: \"▾\";}#sk-container-id-16 div.sk-estimator input.sk-toggleable__control:checked~label.sk-toggleable__label {background-color: #d4ebff;}#sk-container-id-16 div.sk-label input.sk-toggleable__control:checked~label.sk-toggleable__label {background-color: #d4ebff;}#sk-container-id-16 input.sk-hidden--visually {border: 0;clip: rect(1px 1px 1px 1px);clip: rect(1px, 1px, 1px, 1px);height: 1px;margin: -1px;overflow: hidden;padding: 0;position: absolute;width: 1px;}#sk-container-id-16 div.sk-estimator {font-family: monospace;background-color: #f0f8ff;border: 1px dotted black;border-radius: 0.25em;box-sizing: border-box;margin-bottom: 0.5em;}#sk-container-id-16 div.sk-estimator:hover {background-color: #d4ebff;}#sk-container-id-16 div.sk-parallel-item::after {content: \"\";width: 100%;border-bottom: 1px solid gray;flex-grow: 1;}#sk-container-id-16 div.sk-label:hover label.sk-toggleable__label {background-color: #d4ebff;}#sk-container-id-16 div.sk-serial::before {content: \"\";position: absolute;border-left: 1px solid gray;box-sizing: border-box;top: 0;bottom: 0;left: 50%;z-index: 0;}#sk-container-id-16 div.sk-serial {display: flex;flex-direction: column;align-items: center;background-color: white;padding-right: 0.2em;padding-left: 0.2em;position: relative;}#sk-container-id-16 div.sk-item {position: relative;z-index: 1;}#sk-container-id-16 div.sk-parallel {display: flex;align-items: stretch;justify-content: center;background-color: white;position: relative;}#sk-container-id-16 div.sk-item::before, #sk-container-id-16 div.sk-parallel-item::before {content: \"\";position: absolute;border-left: 1px solid gray;box-sizing: border-box;top: 0;bottom: 0;left: 50%;z-index: -1;}#sk-container-id-16 div.sk-parallel-item {display: flex;flex-direction: column;z-index: 1;position: relative;background-color: white;}#sk-container-id-16 div.sk-parallel-item:first-child::after {align-self: flex-end;width: 50%;}#sk-container-id-16 div.sk-parallel-item:last-child::after {align-self: flex-start;width: 50%;}#sk-container-id-16 div.sk-parallel-item:only-child::after {width: 0;}#sk-container-id-16 div.sk-dashed-wrapped {border: 1px dashed gray;margin: 0 0.4em 0.5em 0.4em;box-sizing: border-box;padding-bottom: 0.4em;background-color: white;}#sk-container-id-16 div.sk-label label {font-family: monospace;font-weight: bold;display: inline-block;line-height: 1.2em;}#sk-container-id-16 div.sk-label-container {text-align: center;}#sk-container-id-16 div.sk-container {/* jupyter's `normalize.less` sets `[hidden] { display: none; }` but bootstrap.min.css set `[hidden] { display: none !important; }` so we also need the `!important` here to be able to override the default hidden behavior on the sphinx rendered scikit-learn.org. See: https://github.com/scikit-learn/scikit-learn/issues/21755 */display: inline-block !important;position: relative;}#sk-container-id-16 div.sk-text-repr-fallback {display: none;}</style><div id=\"sk-container-id-16\" class=\"sk-top-container\"><div class=\"sk-text-repr-fallback\"><pre>DecisionTreeClassifier()</pre><b>In a Jupyter environment, please rerun this cell to show the HTML representation or trust the notebook. <br />On GitHub, the HTML representation is unable to render, please try loading this page with nbviewer.org.</b></div><div class=\"sk-container\" hidden><div class=\"sk-item\"><div class=\"sk-estimator sk-toggleable\"><input class=\"sk-toggleable__control sk-hidden--visually\" id=\"sk-estimator-id-16\" type=\"checkbox\" checked><label for=\"sk-estimator-id-16\" class=\"sk-toggleable__label sk-toggleable__label-arrow\">DecisionTreeClassifier</label><div class=\"sk-toggleable__content\"><pre>DecisionTreeClassifier()</pre></div></div></div></div></div>"
      ],
      "text/plain": [
       "DecisionTreeClassifier()"
      ]
     },
     "execution_count": 181,
     "metadata": {},
     "output_type": "execute_result"
    }
   ],
   "source": [
    "DTR.fit(X_train,y_train)"
   ]
  },
  {
   "cell_type": "code",
   "execution_count": 182,
   "id": "b607fd23",
   "metadata": {},
   "outputs": [],
   "source": [
    "DTR_pred = DTR.predict(X_test)"
   ]
  },
  {
   "cell_type": "code",
   "execution_count": 183,
   "id": "d57c38eb",
   "metadata": {},
   "outputs": [],
   "source": [
    "DTR_accuracy = accuracy_score(y_test,DTR_pred)"
   ]
  },
  {
   "cell_type": "code",
   "execution_count": 184,
   "id": "84ef6265",
   "metadata": {},
   "outputs": [
    {
     "data": {
      "text/plain": [
       "array([[99,  2],\n",
       "       [14, 88]], dtype=int64)"
      ]
     },
     "execution_count": 184,
     "metadata": {},
     "output_type": "execute_result"
    }
   ],
   "source": [
    "cm = confusion_matrix(y_test,DTR_pred)\n",
    "cm"
   ]
  },
  {
   "cell_type": "code",
   "execution_count": 185,
   "id": "e6868079",
   "metadata": {},
   "outputs": [
    {
     "name": "stdout",
     "output_type": "stream",
     "text": [
      "Accuracy score of Decision Tree Classifier : 0.921182\n"
     ]
    }
   ],
   "source": [
    "print(f\"Accuracy score of Decision Tree Classifier : {DTR_accuracy:2f}\")"
   ]
  },
  {
   "cell_type": "code",
   "execution_count": 186,
   "id": "8e0f15dc",
   "metadata": {},
   "outputs": [
    {
     "name": "stdout",
     "output_type": "stream",
     "text": [
      "HIV NEGATIVE\n"
     ]
    },
    {
     "name": "stderr",
     "output_type": "stream",
     "text": [
      "C:\\Users\\spaka\\anaconda3\\Lib\\site-packages\\sklearn\\base.py:439: UserWarning: X does not have valid feature names, but DecisionTreeClassifier was fitted with feature names\n",
      "  warnings.warn(\n"
     ]
    }
   ],
   "source": [
    "DTR_input = [[18,5,1,5,1,0,1,2,1]]\n",
    "status = DTR.predict(DTR_input)\n",
    "if status == \"POSITIVE\":\n",
    "    print(\"HIV POSITIVE\")\n",
    "else:\n",
    "    print(\"HIV NEGATIVE\")"
   ]
  },
  {
   "cell_type": "markdown",
   "id": "94ca4849",
   "metadata": {},
   "source": [
    "---"
   ]
  },
  {
   "cell_type": "markdown",
   "id": "ed780d4d",
   "metadata": {},
   "source": [
    "### RANDOM FOREST CLASSIFIER"
   ]
  },
  {
   "cell_type": "code",
   "execution_count": 187,
   "id": "6c924bba",
   "metadata": {},
   "outputs": [],
   "source": [
    "from sklearn.ensemble import RandomForestClassifier"
   ]
  },
  {
   "cell_type": "code",
   "execution_count": 188,
   "id": "2337a7d4",
   "metadata": {},
   "outputs": [],
   "source": [
    "RF = RandomForestClassifier(n_estimators=7)"
   ]
  },
  {
   "cell_type": "code",
   "execution_count": 189,
   "id": "0b065031",
   "metadata": {},
   "outputs": [
    {
     "data": {
      "text/html": [
       "<style>#sk-container-id-17 {color: black;background-color: white;}#sk-container-id-17 pre{padding: 0;}#sk-container-id-17 div.sk-toggleable {background-color: white;}#sk-container-id-17 label.sk-toggleable__label {cursor: pointer;display: block;width: 100%;margin-bottom: 0;padding: 0.3em;box-sizing: border-box;text-align: center;}#sk-container-id-17 label.sk-toggleable__label-arrow:before {content: \"▸\";float: left;margin-right: 0.25em;color: #696969;}#sk-container-id-17 label.sk-toggleable__label-arrow:hover:before {color: black;}#sk-container-id-17 div.sk-estimator:hover label.sk-toggleable__label-arrow:before {color: black;}#sk-container-id-17 div.sk-toggleable__content {max-height: 0;max-width: 0;overflow: hidden;text-align: left;background-color: #f0f8ff;}#sk-container-id-17 div.sk-toggleable__content pre {margin: 0.2em;color: black;border-radius: 0.25em;background-color: #f0f8ff;}#sk-container-id-17 input.sk-toggleable__control:checked~div.sk-toggleable__content {max-height: 200px;max-width: 100%;overflow: auto;}#sk-container-id-17 input.sk-toggleable__control:checked~label.sk-toggleable__label-arrow:before {content: \"▾\";}#sk-container-id-17 div.sk-estimator input.sk-toggleable__control:checked~label.sk-toggleable__label {background-color: #d4ebff;}#sk-container-id-17 div.sk-label input.sk-toggleable__control:checked~label.sk-toggleable__label {background-color: #d4ebff;}#sk-container-id-17 input.sk-hidden--visually {border: 0;clip: rect(1px 1px 1px 1px);clip: rect(1px, 1px, 1px, 1px);height: 1px;margin: -1px;overflow: hidden;padding: 0;position: absolute;width: 1px;}#sk-container-id-17 div.sk-estimator {font-family: monospace;background-color: #f0f8ff;border: 1px dotted black;border-radius: 0.25em;box-sizing: border-box;margin-bottom: 0.5em;}#sk-container-id-17 div.sk-estimator:hover {background-color: #d4ebff;}#sk-container-id-17 div.sk-parallel-item::after {content: \"\";width: 100%;border-bottom: 1px solid gray;flex-grow: 1;}#sk-container-id-17 div.sk-label:hover label.sk-toggleable__label {background-color: #d4ebff;}#sk-container-id-17 div.sk-serial::before {content: \"\";position: absolute;border-left: 1px solid gray;box-sizing: border-box;top: 0;bottom: 0;left: 50%;z-index: 0;}#sk-container-id-17 div.sk-serial {display: flex;flex-direction: column;align-items: center;background-color: white;padding-right: 0.2em;padding-left: 0.2em;position: relative;}#sk-container-id-17 div.sk-item {position: relative;z-index: 1;}#sk-container-id-17 div.sk-parallel {display: flex;align-items: stretch;justify-content: center;background-color: white;position: relative;}#sk-container-id-17 div.sk-item::before, #sk-container-id-17 div.sk-parallel-item::before {content: \"\";position: absolute;border-left: 1px solid gray;box-sizing: border-box;top: 0;bottom: 0;left: 50%;z-index: -1;}#sk-container-id-17 div.sk-parallel-item {display: flex;flex-direction: column;z-index: 1;position: relative;background-color: white;}#sk-container-id-17 div.sk-parallel-item:first-child::after {align-self: flex-end;width: 50%;}#sk-container-id-17 div.sk-parallel-item:last-child::after {align-self: flex-start;width: 50%;}#sk-container-id-17 div.sk-parallel-item:only-child::after {width: 0;}#sk-container-id-17 div.sk-dashed-wrapped {border: 1px dashed gray;margin: 0 0.4em 0.5em 0.4em;box-sizing: border-box;padding-bottom: 0.4em;background-color: white;}#sk-container-id-17 div.sk-label label {font-family: monospace;font-weight: bold;display: inline-block;line-height: 1.2em;}#sk-container-id-17 div.sk-label-container {text-align: center;}#sk-container-id-17 div.sk-container {/* jupyter's `normalize.less` sets `[hidden] { display: none; }` but bootstrap.min.css set `[hidden] { display: none !important; }` so we also need the `!important` here to be able to override the default hidden behavior on the sphinx rendered scikit-learn.org. See: https://github.com/scikit-learn/scikit-learn/issues/21755 */display: inline-block !important;position: relative;}#sk-container-id-17 div.sk-text-repr-fallback {display: none;}</style><div id=\"sk-container-id-17\" class=\"sk-top-container\"><div class=\"sk-text-repr-fallback\"><pre>RandomForestClassifier(n_estimators=7)</pre><b>In a Jupyter environment, please rerun this cell to show the HTML representation or trust the notebook. <br />On GitHub, the HTML representation is unable to render, please try loading this page with nbviewer.org.</b></div><div class=\"sk-container\" hidden><div class=\"sk-item\"><div class=\"sk-estimator sk-toggleable\"><input class=\"sk-toggleable__control sk-hidden--visually\" id=\"sk-estimator-id-17\" type=\"checkbox\" checked><label for=\"sk-estimator-id-17\" class=\"sk-toggleable__label sk-toggleable__label-arrow\">RandomForestClassifier</label><div class=\"sk-toggleable__content\"><pre>RandomForestClassifier(n_estimators=7)</pre></div></div></div></div></div>"
      ],
      "text/plain": [
       "RandomForestClassifier(n_estimators=7)"
      ]
     },
     "execution_count": 189,
     "metadata": {},
     "output_type": "execute_result"
    }
   ],
   "source": [
    "RF.fit(X_train,y_train)"
   ]
  },
  {
   "cell_type": "code",
   "execution_count": 190,
   "id": "b5f3b406",
   "metadata": {},
   "outputs": [],
   "source": [
    "RF_pred = RF.predict(X_test)"
   ]
  },
  {
   "cell_type": "code",
   "execution_count": 191,
   "id": "aff1d7c5",
   "metadata": {},
   "outputs": [],
   "source": [
    "RF_accuracy = accuracy_score(y_test,RF_pred)"
   ]
  },
  {
   "cell_type": "code",
   "execution_count": 192,
   "id": "5cbf14a2",
   "metadata": {},
   "outputs": [
    {
     "data": {
      "text/plain": [
       "array([[95,  6],\n",
       "       [13, 89]], dtype=int64)"
      ]
     },
     "execution_count": 192,
     "metadata": {},
     "output_type": "execute_result"
    }
   ],
   "source": [
    "cm = confusion_matrix(y_test,RF_pred)\n",
    "cm"
   ]
  },
  {
   "cell_type": "code",
   "execution_count": 193,
   "id": "ad1828bf",
   "metadata": {},
   "outputs": [
    {
     "name": "stdout",
     "output_type": "stream",
     "text": [
      "Accuracy score of Random Forest Classifier : 0.906404\n"
     ]
    }
   ],
   "source": [
    "print(f\"Accuracy score of Random Forest Classifier : {RF_accuracy:2f}\")"
   ]
  },
  {
   "cell_type": "code",
   "execution_count": 194,
   "id": "589d7678",
   "metadata": {
    "scrolled": true
   },
   "outputs": [
    {
     "name": "stdout",
     "output_type": "stream",
     "text": [
      "HIV NEGATIVE\n"
     ]
    },
    {
     "name": "stderr",
     "output_type": "stream",
     "text": [
      "C:\\Users\\spaka\\anaconda3\\Lib\\site-packages\\sklearn\\base.py:439: UserWarning: X does not have valid feature names, but RandomForestClassifier was fitted with feature names\n",
      "  warnings.warn(\n"
     ]
    }
   ],
   "source": [
    "RF_input = [[22,5,0,0,1,0,0,2,1]]\n",
    "status = RF.predict(RF_input)\n",
    "if status == \"POSITIVE\":\n",
    "    print(\"HIV POSITIVE\")\n",
    "else:\n",
    "    print(\"HIV NEGATIVE\")"
   ]
  },
  {
   "cell_type": "markdown",
   "id": "38761b10",
   "metadata": {},
   "source": [
    "### SUPPORT VECTOR CLASSIFIER"
   ]
  },
  {
   "cell_type": "code",
   "execution_count": 196,
   "id": "7ec9775e",
   "metadata": {},
   "outputs": [],
   "source": [
    "from sklearn.svm import SVC"
   ]
  },
  {
   "cell_type": "code",
   "execution_count": 197,
   "id": "407e2389",
   "metadata": {},
   "outputs": [],
   "source": [
    "SVC = SVC()"
   ]
  },
  {
   "cell_type": "code",
   "execution_count": 198,
   "id": "237da1da",
   "metadata": {},
   "outputs": [
    {
     "data": {
      "text/html": [
       "<style>#sk-container-id-18 {color: black;background-color: white;}#sk-container-id-18 pre{padding: 0;}#sk-container-id-18 div.sk-toggleable {background-color: white;}#sk-container-id-18 label.sk-toggleable__label {cursor: pointer;display: block;width: 100%;margin-bottom: 0;padding: 0.3em;box-sizing: border-box;text-align: center;}#sk-container-id-18 label.sk-toggleable__label-arrow:before {content: \"▸\";float: left;margin-right: 0.25em;color: #696969;}#sk-container-id-18 label.sk-toggleable__label-arrow:hover:before {color: black;}#sk-container-id-18 div.sk-estimator:hover label.sk-toggleable__label-arrow:before {color: black;}#sk-container-id-18 div.sk-toggleable__content {max-height: 0;max-width: 0;overflow: hidden;text-align: left;background-color: #f0f8ff;}#sk-container-id-18 div.sk-toggleable__content pre {margin: 0.2em;color: black;border-radius: 0.25em;background-color: #f0f8ff;}#sk-container-id-18 input.sk-toggleable__control:checked~div.sk-toggleable__content {max-height: 200px;max-width: 100%;overflow: auto;}#sk-container-id-18 input.sk-toggleable__control:checked~label.sk-toggleable__label-arrow:before {content: \"▾\";}#sk-container-id-18 div.sk-estimator input.sk-toggleable__control:checked~label.sk-toggleable__label {background-color: #d4ebff;}#sk-container-id-18 div.sk-label input.sk-toggleable__control:checked~label.sk-toggleable__label {background-color: #d4ebff;}#sk-container-id-18 input.sk-hidden--visually {border: 0;clip: rect(1px 1px 1px 1px);clip: rect(1px, 1px, 1px, 1px);height: 1px;margin: -1px;overflow: hidden;padding: 0;position: absolute;width: 1px;}#sk-container-id-18 div.sk-estimator {font-family: monospace;background-color: #f0f8ff;border: 1px dotted black;border-radius: 0.25em;box-sizing: border-box;margin-bottom: 0.5em;}#sk-container-id-18 div.sk-estimator:hover {background-color: #d4ebff;}#sk-container-id-18 div.sk-parallel-item::after {content: \"\";width: 100%;border-bottom: 1px solid gray;flex-grow: 1;}#sk-container-id-18 div.sk-label:hover label.sk-toggleable__label {background-color: #d4ebff;}#sk-container-id-18 div.sk-serial::before {content: \"\";position: absolute;border-left: 1px solid gray;box-sizing: border-box;top: 0;bottom: 0;left: 50%;z-index: 0;}#sk-container-id-18 div.sk-serial {display: flex;flex-direction: column;align-items: center;background-color: white;padding-right: 0.2em;padding-left: 0.2em;position: relative;}#sk-container-id-18 div.sk-item {position: relative;z-index: 1;}#sk-container-id-18 div.sk-parallel {display: flex;align-items: stretch;justify-content: center;background-color: white;position: relative;}#sk-container-id-18 div.sk-item::before, #sk-container-id-18 div.sk-parallel-item::before {content: \"\";position: absolute;border-left: 1px solid gray;box-sizing: border-box;top: 0;bottom: 0;left: 50%;z-index: -1;}#sk-container-id-18 div.sk-parallel-item {display: flex;flex-direction: column;z-index: 1;position: relative;background-color: white;}#sk-container-id-18 div.sk-parallel-item:first-child::after {align-self: flex-end;width: 50%;}#sk-container-id-18 div.sk-parallel-item:last-child::after {align-self: flex-start;width: 50%;}#sk-container-id-18 div.sk-parallel-item:only-child::after {width: 0;}#sk-container-id-18 div.sk-dashed-wrapped {border: 1px dashed gray;margin: 0 0.4em 0.5em 0.4em;box-sizing: border-box;padding-bottom: 0.4em;background-color: white;}#sk-container-id-18 div.sk-label label {font-family: monospace;font-weight: bold;display: inline-block;line-height: 1.2em;}#sk-container-id-18 div.sk-label-container {text-align: center;}#sk-container-id-18 div.sk-container {/* jupyter's `normalize.less` sets `[hidden] { display: none; }` but bootstrap.min.css set `[hidden] { display: none !important; }` so we also need the `!important` here to be able to override the default hidden behavior on the sphinx rendered scikit-learn.org. See: https://github.com/scikit-learn/scikit-learn/issues/21755 */display: inline-block !important;position: relative;}#sk-container-id-18 div.sk-text-repr-fallback {display: none;}</style><div id=\"sk-container-id-18\" class=\"sk-top-container\"><div class=\"sk-text-repr-fallback\"><pre>SVC()</pre><b>In a Jupyter environment, please rerun this cell to show the HTML representation or trust the notebook. <br />On GitHub, the HTML representation is unable to render, please try loading this page with nbviewer.org.</b></div><div class=\"sk-container\" hidden><div class=\"sk-item\"><div class=\"sk-estimator sk-toggleable\"><input class=\"sk-toggleable__control sk-hidden--visually\" id=\"sk-estimator-id-18\" type=\"checkbox\" checked><label for=\"sk-estimator-id-18\" class=\"sk-toggleable__label sk-toggleable__label-arrow\">SVC</label><div class=\"sk-toggleable__content\"><pre>SVC()</pre></div></div></div></div></div>"
      ],
      "text/plain": [
       "SVC()"
      ]
     },
     "execution_count": 198,
     "metadata": {},
     "output_type": "execute_result"
    }
   ],
   "source": [
    "SVC.fit(X_train,y_train)"
   ]
  },
  {
   "cell_type": "code",
   "execution_count": 199,
   "id": "8c1dbbe9",
   "metadata": {},
   "outputs": [],
   "source": [
    "SVC_pred = SVC.predict(X_test)"
   ]
  },
  {
   "cell_type": "code",
   "execution_count": 200,
   "id": "e3a8b9bf",
   "metadata": {},
   "outputs": [],
   "source": [
    "SVC_accuracy = accuracy_score(y_test,SVC_pred)"
   ]
  },
  {
   "cell_type": "code",
   "execution_count": 201,
   "id": "bdb23401",
   "metadata": {},
   "outputs": [
    {
     "name": "stdout",
     "output_type": "stream",
     "text": [
      "Accuracy score of Support Vector Classifier : 0.605911\n"
     ]
    }
   ],
   "source": [
    "print(f\"Accuracy score of Support Vector Classifier : {SVC_accuracy:2f}\")"
   ]
  },
  {
   "cell_type": "code",
   "execution_count": 202,
   "id": "f2b6a4cd",
   "metadata": {},
   "outputs": [
    {
     "data": {
      "text/plain": [
       "array([[58, 43],\n",
       "       [37, 65]], dtype=int64)"
      ]
     },
     "execution_count": 202,
     "metadata": {},
     "output_type": "execute_result"
    }
   ],
   "source": [
    "cm = confusion_matrix(y_test,SVC_pred)\n",
    "cm"
   ]
  },
  {
   "cell_type": "code",
   "execution_count": 216,
   "id": "c65d5c2b",
   "metadata": {},
   "outputs": [
    {
     "name": "stdout",
     "output_type": "stream",
     "text": [
      "HIV POSITIVE\n"
     ]
    },
    {
     "name": "stderr",
     "output_type": "stream",
     "text": [
      "C:\\Users\\spaka\\anaconda3\\Lib\\site-packages\\sklearn\\base.py:439: UserWarning: X does not have valid feature names, but SVC was fitted with feature names\n",
      "  warnings.warn(\n"
     ]
    }
   ],
   "source": [
    "SVC_input = [[24,4,0,0,1,2,3,2,1]]\n",
    "status = SVC.predict(SVC_input)\n",
    "if status == \"POSITIVE\":\n",
    "    print(\"HIV POSITIVE\")\n",
    "else:\n",
    "    print(\"HIV NEGATIVE\")"
   ]
  },
  {
   "cell_type": "markdown",
   "id": "8ce97d56",
   "metadata": {},
   "source": [
    "---"
   ]
  },
  {
   "cell_type": "markdown",
   "id": "c8f05750",
   "metadata": {},
   "source": [
    "### NAIVE BAYES CLASSIFIER"
   ]
  },
  {
   "cell_type": "code",
   "execution_count": 218,
   "id": "eea8f4d0",
   "metadata": {},
   "outputs": [],
   "source": [
    "from sklearn.naive_bayes import GaussianNB"
   ]
  },
  {
   "cell_type": "code",
   "execution_count": 219,
   "id": "08ef862f",
   "metadata": {},
   "outputs": [],
   "source": [
    "NB = GaussianNB()"
   ]
  },
  {
   "cell_type": "code",
   "execution_count": 220,
   "id": "67e28c63",
   "metadata": {},
   "outputs": [
    {
     "data": {
      "text/html": [
       "<style>#sk-container-id-20 {color: black;background-color: white;}#sk-container-id-20 pre{padding: 0;}#sk-container-id-20 div.sk-toggleable {background-color: white;}#sk-container-id-20 label.sk-toggleable__label {cursor: pointer;display: block;width: 100%;margin-bottom: 0;padding: 0.3em;box-sizing: border-box;text-align: center;}#sk-container-id-20 label.sk-toggleable__label-arrow:before {content: \"▸\";float: left;margin-right: 0.25em;color: #696969;}#sk-container-id-20 label.sk-toggleable__label-arrow:hover:before {color: black;}#sk-container-id-20 div.sk-estimator:hover label.sk-toggleable__label-arrow:before {color: black;}#sk-container-id-20 div.sk-toggleable__content {max-height: 0;max-width: 0;overflow: hidden;text-align: left;background-color: #f0f8ff;}#sk-container-id-20 div.sk-toggleable__content pre {margin: 0.2em;color: black;border-radius: 0.25em;background-color: #f0f8ff;}#sk-container-id-20 input.sk-toggleable__control:checked~div.sk-toggleable__content {max-height: 200px;max-width: 100%;overflow: auto;}#sk-container-id-20 input.sk-toggleable__control:checked~label.sk-toggleable__label-arrow:before {content: \"▾\";}#sk-container-id-20 div.sk-estimator input.sk-toggleable__control:checked~label.sk-toggleable__label {background-color: #d4ebff;}#sk-container-id-20 div.sk-label input.sk-toggleable__control:checked~label.sk-toggleable__label {background-color: #d4ebff;}#sk-container-id-20 input.sk-hidden--visually {border: 0;clip: rect(1px 1px 1px 1px);clip: rect(1px, 1px, 1px, 1px);height: 1px;margin: -1px;overflow: hidden;padding: 0;position: absolute;width: 1px;}#sk-container-id-20 div.sk-estimator {font-family: monospace;background-color: #f0f8ff;border: 1px dotted black;border-radius: 0.25em;box-sizing: border-box;margin-bottom: 0.5em;}#sk-container-id-20 div.sk-estimator:hover {background-color: #d4ebff;}#sk-container-id-20 div.sk-parallel-item::after {content: \"\";width: 100%;border-bottom: 1px solid gray;flex-grow: 1;}#sk-container-id-20 div.sk-label:hover label.sk-toggleable__label {background-color: #d4ebff;}#sk-container-id-20 div.sk-serial::before {content: \"\";position: absolute;border-left: 1px solid gray;box-sizing: border-box;top: 0;bottom: 0;left: 50%;z-index: 0;}#sk-container-id-20 div.sk-serial {display: flex;flex-direction: column;align-items: center;background-color: white;padding-right: 0.2em;padding-left: 0.2em;position: relative;}#sk-container-id-20 div.sk-item {position: relative;z-index: 1;}#sk-container-id-20 div.sk-parallel {display: flex;align-items: stretch;justify-content: center;background-color: white;position: relative;}#sk-container-id-20 div.sk-item::before, #sk-container-id-20 div.sk-parallel-item::before {content: \"\";position: absolute;border-left: 1px solid gray;box-sizing: border-box;top: 0;bottom: 0;left: 50%;z-index: -1;}#sk-container-id-20 div.sk-parallel-item {display: flex;flex-direction: column;z-index: 1;position: relative;background-color: white;}#sk-container-id-20 div.sk-parallel-item:first-child::after {align-self: flex-end;width: 50%;}#sk-container-id-20 div.sk-parallel-item:last-child::after {align-self: flex-start;width: 50%;}#sk-container-id-20 div.sk-parallel-item:only-child::after {width: 0;}#sk-container-id-20 div.sk-dashed-wrapped {border: 1px dashed gray;margin: 0 0.4em 0.5em 0.4em;box-sizing: border-box;padding-bottom: 0.4em;background-color: white;}#sk-container-id-20 div.sk-label label {font-family: monospace;font-weight: bold;display: inline-block;line-height: 1.2em;}#sk-container-id-20 div.sk-label-container {text-align: center;}#sk-container-id-20 div.sk-container {/* jupyter's `normalize.less` sets `[hidden] { display: none; }` but bootstrap.min.css set `[hidden] { display: none !important; }` so we also need the `!important` here to be able to override the default hidden behavior on the sphinx rendered scikit-learn.org. See: https://github.com/scikit-learn/scikit-learn/issues/21755 */display: inline-block !important;position: relative;}#sk-container-id-20 div.sk-text-repr-fallback {display: none;}</style><div id=\"sk-container-id-20\" class=\"sk-top-container\"><div class=\"sk-text-repr-fallback\"><pre>GaussianNB()</pre><b>In a Jupyter environment, please rerun this cell to show the HTML representation or trust the notebook. <br />On GitHub, the HTML representation is unable to render, please try loading this page with nbviewer.org.</b></div><div class=\"sk-container\" hidden><div class=\"sk-item\"><div class=\"sk-estimator sk-toggleable\"><input class=\"sk-toggleable__control sk-hidden--visually\" id=\"sk-estimator-id-20\" type=\"checkbox\" checked><label for=\"sk-estimator-id-20\" class=\"sk-toggleable__label sk-toggleable__label-arrow\">GaussianNB</label><div class=\"sk-toggleable__content\"><pre>GaussianNB()</pre></div></div></div></div></div>"
      ],
      "text/plain": [
       "GaussianNB()"
      ]
     },
     "execution_count": 220,
     "metadata": {},
     "output_type": "execute_result"
    }
   ],
   "source": [
    "NB.fit(X_train,y_train)"
   ]
  },
  {
   "cell_type": "code",
   "execution_count": 221,
   "id": "59eff6e6",
   "metadata": {},
   "outputs": [],
   "source": [
    "NB_pred = NB.predict(X_test)"
   ]
  },
  {
   "cell_type": "code",
   "execution_count": 222,
   "id": "dfd59d54",
   "metadata": {},
   "outputs": [],
   "source": [
    "NB_accuracy = accuracy_score(y_test,NB_pred)"
   ]
  },
  {
   "cell_type": "code",
   "execution_count": 223,
   "id": "38b610fd",
   "metadata": {},
   "outputs": [
    {
     "data": {
      "text/plain": [
       "array([[66, 35],\n",
       "       [40, 62]], dtype=int64)"
      ]
     },
     "execution_count": 223,
     "metadata": {},
     "output_type": "execute_result"
    }
   ],
   "source": [
    "cm = confusion_matrix(y_test,NB_pred)\n",
    "cm"
   ]
  },
  {
   "cell_type": "code",
   "execution_count": 224,
   "id": "87341d34",
   "metadata": {},
   "outputs": [
    {
     "name": "stdout",
     "output_type": "stream",
     "text": [
      "Accuracy Score of Naive Bayes Classifier : 0.630542\n"
     ]
    }
   ],
   "source": [
    "print(f\"Accuracy Score of Naive Bayes Classifier : {NB_accuracy:2f}\")"
   ]
  },
  {
   "cell_type": "code",
   "execution_count": 225,
   "id": "141fcb47",
   "metadata": {},
   "outputs": [
    {
     "name": "stdout",
     "output_type": "stream",
     "text": [
      "HIV NEGATIVE\n"
     ]
    },
    {
     "name": "stderr",
     "output_type": "stream",
     "text": [
      "C:\\Users\\spaka\\anaconda3\\Lib\\site-packages\\sklearn\\base.py:439: UserWarning: X does not have valid feature names, but GaussianNB was fitted with feature names\n",
      "  warnings.warn(\n"
     ]
    }
   ],
   "source": [
    "NB_input = [[22,5,0,0,1,0,0,2,2]]\n",
    "status = NB.predict(NB_input)\n",
    "if status == \"POSITIVE\":\n",
    "    print(\"HIV POSITIVE\")\n",
    "else:\n",
    "    print(\"HIV NEGATIVE\")"
   ]
  },
  {
   "cell_type": "markdown",
   "id": "b033aafd",
   "metadata": {},
   "source": [
    "---"
   ]
  },
  {
   "cell_type": "markdown",
   "id": "75370fd3",
   "metadata": {},
   "source": [
    "###  **MODEL COMPARISONS**"
   ]
  },
  {
   "cell_type": "code",
   "execution_count": 226,
   "id": "11b3b872",
   "metadata": {},
   "outputs": [
    {
     "name": "stdout",
     "output_type": "stream",
     "text": [
      "                   ML MODELS  ACCURACY SCORE\n",
      "1   DECISION TREE CLASSIFIER        0.921182\n",
      "2    RANDOM FOREST CLASIFIER        0.906404\n",
      "0        LOGISTIC REGRESSION        0.645320\n",
      "4     NAIVE BAYES CLASSIFIER        0.630542\n",
      "3  SUPPORT VECTOR CLASSIFIER        0.605911\n"
     ]
    },
    {
     "data": {
      "text/plain": [
       "<Axes: xlabel='ML MODELS', ylabel='ACCURACY SCORE'>"
      ]
     },
     "execution_count": 226,
     "metadata": {},
     "output_type": "execute_result"
    },
    {
     "data": {
      "image/png": "[encoded data removed]",
      "text/plain": [
       "<Figure size 1800x800 with 1 Axes>"
      ]
     },
     "metadata": {},
     "output_type": "display_data"
    }
   ],
   "source": [
    "pred_df = pd.DataFrame({\"ML MODELS\" : [\"LOGISTIC REGRESSION\",\"DECISION TREE CLASSIFIER\",\"RANDOM FOREST CLASIFIER\",\"SUPPORT VECTOR CLASSIFIER\",\"NAIVE BAYES CLASSIFIER\"],\n",
    "                       \"ACCURACY SCORE\" : [LG_accuracy,DTR_accuracy,RF_accuracy,SVC_accuracy,NB_accuracy]})\n",
    "\n",
    "pred_df = pred_df.sort_values(by=\"ACCURACY SCORE\",ascending=False)\n",
    "print(pred_df)\n",
    "plt.figure(figsize=((18,8)))\n",
    "sns.barplot(x=\"ML MODELS\",y=\"ACCURACY SCORE\",data=pred_df)"
   ]
  },
  {
   "cell_type": "markdown",
   "id": "6ee09755",
   "metadata": {},
   "source": [
    "## CONCLUSION"
   ]
  },
  {
   "cell_type": "markdown",
   "id": "e1dc0ded",
   "metadata": {},
   "source": [
    "##### DECISION TREE CLASSIFIER MODEL GOT THE HIGHEST ACCURACY."
   ]
  }
 ],
 "metadata": {
  "kernelspec": {
   "display_name": "Python 3 (ipykernel)",
   "language": "python",
   "name": "python3"
  },
  "language_info": {
   "codemirror_mode": {
    "name": "ipython",
    "version": 3
   },
   "file_extension": ".py",
   "mimetype": "text/x-python",
   "name": "python",
   "nbconvert_exporter": "python",
   "pygments_lexer": "ipython3",
   "version": "3.11.7"
  }
 },
 "nbformat": 4,
 "nbformat_minor": 5
}
