{
 "cells": [
  {
   "cell_type": "markdown",
   "id": "270aceab",
   "metadata": {},
   "source": [
    "## ELECTRICITY BILL PREDICTION"
   ]
  },
  {
   "cell_type": "markdown",
   "id": "fa86de36",
   "metadata": {},
   "source": [
    "##### Importing Necessary Libraries"
   ]
  },
  {
   "cell_type": "code",
   "execution_count": 2,
   "id": "a2c6561d",
   "metadata": {},
   "outputs": [],
   "source": [
    "import pandas as pd\n",
    "import numpy as np\n",
    "import seaborn as sns\n",
    "import matplotlib.pyplot as plt\n",
    "from sklearn.metrics import r2_score"
   ]
  },
  {
   "cell_type": "markdown",
   "id": "2368483a",
   "metadata": {},
   "source": [
    "##### Loading Dataset"
   ]
  },
  {
   "cell_type": "markdown",
   "id": "03a905af",
   "metadata": {},
   "source": [
    "##### Dataset containing details about different Indian states,electricty usage and monthly electrity Bill"
   ]
  },
  {
   "cell_type": "code",
   "execution_count": 3,
   "id": "ec7922b6",
   "metadata": {},
   "outputs": [
    {
     "data": {
      "text/html": [
       "<div>\n",
       "<style scoped>\n",
       "    .dataframe tbody tr th:only-of-type {\n",
       "        vertical-align: middle;\n",
       "    }\n",
       "\n",
       "    .dataframe tbody tr th {\n",
       "        vertical-align: top;\n",
       "    }\n",
       "\n",
       "    .dataframe thead th {\n",
       "        text-align: right;\n",
       "    }\n",
       "</style>\n",
       "<table border=\"1\" class=\"dataframe\">\n",
       "  <thead>\n",
       "    <tr style=\"text-align: right;\">\n",
       "      <th></th>\n",
       "      <th>Fan</th>\n",
       "      <th>Refrigerator</th>\n",
       "      <th>AirConditioner</th>\n",
       "      <th>Television</th>\n",
       "      <th>Monitor</th>\n",
       "      <th>MotorPump</th>\n",
       "      <th>Month</th>\n",
       "      <th>City</th>\n",
       "      <th>Company</th>\n",
       "      <th>MonthlyHours</th>\n",
       "      <th>TariffRate</th>\n",
       "      <th>ElectricityBill</th>\n",
       "    </tr>\n",
       "  </thead>\n",
       "  <tbody>\n",
       "    <tr>\n",
       "      <th>0</th>\n",
       "      <td>16</td>\n",
       "      <td>23.0</td>\n",
       "      <td>2.0</td>\n",
       "      <td>6.0</td>\n",
       "      <td>1.0</td>\n",
       "      <td>0</td>\n",
       "      <td>10</td>\n",
       "      <td>Hyderabad</td>\n",
       "      <td>Tata Power Company Ltd.</td>\n",
       "      <td>384</td>\n",
       "      <td>8.4</td>\n",
       "      <td>3225.6</td>\n",
       "    </tr>\n",
       "    <tr>\n",
       "      <th>1</th>\n",
       "      <td>19</td>\n",
       "      <td>22.0</td>\n",
       "      <td>2.0</td>\n",
       "      <td>3.0</td>\n",
       "      <td>1.0</td>\n",
       "      <td>0</td>\n",
       "      <td>5</td>\n",
       "      <td>Vadodara</td>\n",
       "      <td>NHPC</td>\n",
       "      <td>488</td>\n",
       "      <td>7.8</td>\n",
       "      <td>3806.4</td>\n",
       "    </tr>\n",
       "    <tr>\n",
       "      <th>2</th>\n",
       "      <td>7</td>\n",
       "      <td>20.0</td>\n",
       "      <td>2.0</td>\n",
       "      <td>6.0</td>\n",
       "      <td>7.0</td>\n",
       "      <td>0</td>\n",
       "      <td>7</td>\n",
       "      <td>Shimla</td>\n",
       "      <td>Jyoti Structure</td>\n",
       "      <td>416</td>\n",
       "      <td>7.7</td>\n",
       "      <td>3203.2</td>\n",
       "    </tr>\n",
       "    <tr>\n",
       "      <th>3</th>\n",
       "      <td>7</td>\n",
       "      <td>22.0</td>\n",
       "      <td>3.0</td>\n",
       "      <td>21.0</td>\n",
       "      <td>1.0</td>\n",
       "      <td>0</td>\n",
       "      <td>6</td>\n",
       "      <td>Mumbai</td>\n",
       "      <td>Power Grid Corp</td>\n",
       "      <td>475</td>\n",
       "      <td>9.2</td>\n",
       "      <td>4370.0</td>\n",
       "    </tr>\n",
       "    <tr>\n",
       "      <th>4</th>\n",
       "      <td>11</td>\n",
       "      <td>23.0</td>\n",
       "      <td>2.0</td>\n",
       "      <td>11.0</td>\n",
       "      <td>1.0</td>\n",
       "      <td>0</td>\n",
       "      <td>2</td>\n",
       "      <td>Mumbai</td>\n",
       "      <td>Ratnagiri Gas and Power Pvt. Ltd. (RGPPL)</td>\n",
       "      <td>457</td>\n",
       "      <td>9.2</td>\n",
       "      <td>4204.4</td>\n",
       "    </tr>\n",
       "    <tr>\n",
       "      <th>...</th>\n",
       "      <td>...</td>\n",
       "      <td>...</td>\n",
       "      <td>...</td>\n",
       "      <td>...</td>\n",
       "      <td>...</td>\n",
       "      <td>...</td>\n",
       "      <td>...</td>\n",
       "      <td>...</td>\n",
       "      <td>...</td>\n",
       "      <td>...</td>\n",
       "      <td>...</td>\n",
       "      <td>...</td>\n",
       "    </tr>\n",
       "    <tr>\n",
       "      <th>45340</th>\n",
       "      <td>18</td>\n",
       "      <td>22.0</td>\n",
       "      <td>3.0</td>\n",
       "      <td>22.0</td>\n",
       "      <td>1.0</td>\n",
       "      <td>0</td>\n",
       "      <td>9</td>\n",
       "      <td>Ahmedabad</td>\n",
       "      <td>Maha Transco – Maharashtra State Electricity T...</td>\n",
       "      <td>764</td>\n",
       "      <td>7.9</td>\n",
       "      <td>6035.6</td>\n",
       "    </tr>\n",
       "    <tr>\n",
       "      <th>45341</th>\n",
       "      <td>23</td>\n",
       "      <td>23.0</td>\n",
       "      <td>2.0</td>\n",
       "      <td>6.0</td>\n",
       "      <td>12.0</td>\n",
       "      <td>0</td>\n",
       "      <td>2</td>\n",
       "      <td>New Delhi</td>\n",
       "      <td>Orient Green</td>\n",
       "      <td>572</td>\n",
       "      <td>8.5</td>\n",
       "      <td>4862.0</td>\n",
       "    </tr>\n",
       "    <tr>\n",
       "      <th>45342</th>\n",
       "      <td>22</td>\n",
       "      <td>22.0</td>\n",
       "      <td>2.0</td>\n",
       "      <td>20.0</td>\n",
       "      <td>1.0</td>\n",
       "      <td>0</td>\n",
       "      <td>1</td>\n",
       "      <td>New Delhi</td>\n",
       "      <td>GE T&amp;D India Limited</td>\n",
       "      <td>609</td>\n",
       "      <td>8.5</td>\n",
       "      <td>5176.5</td>\n",
       "    </tr>\n",
       "    <tr>\n",
       "      <th>45343</th>\n",
       "      <td>8</td>\n",
       "      <td>21.0</td>\n",
       "      <td>2.0</td>\n",
       "      <td>22.0</td>\n",
       "      <td>7.0</td>\n",
       "      <td>0</td>\n",
       "      <td>12</td>\n",
       "      <td>Ratnagiri</td>\n",
       "      <td>TransRail Lighting</td>\n",
       "      <td>748</td>\n",
       "      <td>7.4</td>\n",
       "      <td>5535.2</td>\n",
       "    </tr>\n",
       "    <tr>\n",
       "      <th>45344</th>\n",
       "      <td>8</td>\n",
       "      <td>17.0</td>\n",
       "      <td>2.0</td>\n",
       "      <td>4.0</td>\n",
       "      <td>1.0</td>\n",
       "      <td>0</td>\n",
       "      <td>1</td>\n",
       "      <td>Gurgaon</td>\n",
       "      <td>L&amp;T Transmission &amp; Distribution</td>\n",
       "      <td>427</td>\n",
       "      <td>8.3</td>\n",
       "      <td>3544.1</td>\n",
       "    </tr>\n",
       "  </tbody>\n",
       "</table>\n",
       "<p>45345 rows × 12 columns</p>\n",
       "</div>"
      ],
      "text/plain": [
       "       Fan  Refrigerator  AirConditioner  Television  Monitor  MotorPump  \\\n",
       "0       16          23.0             2.0         6.0      1.0          0   \n",
       "1       19          22.0             2.0         3.0      1.0          0   \n",
       "2        7          20.0             2.0         6.0      7.0          0   \n",
       "3        7          22.0             3.0        21.0      1.0          0   \n",
       "4       11          23.0             2.0        11.0      1.0          0   \n",
       "...    ...           ...             ...         ...      ...        ...   \n",
       "45340   18          22.0             3.0        22.0      1.0          0   \n",
       "45341   23          23.0             2.0         6.0     12.0          0   \n",
       "45342   22          22.0             2.0        20.0      1.0          0   \n",
       "45343    8          21.0             2.0        22.0      7.0          0   \n",
       "45344    8          17.0             2.0         4.0      1.0          0   \n",
       "\n",
       "       Month       City                                            Company  \\\n",
       "0         10  Hyderabad                            Tata Power Company Ltd.   \n",
       "1          5   Vadodara                                               NHPC   \n",
       "2          7     Shimla                                    Jyoti Structure   \n",
       "3          6     Mumbai                                    Power Grid Corp   \n",
       "4          2     Mumbai          Ratnagiri Gas and Power Pvt. Ltd. (RGPPL)   \n",
       "...      ...        ...                                                ...   \n",
       "45340      9  Ahmedabad  Maha Transco – Maharashtra State Electricity T...   \n",
       "45341      2  New Delhi                                       Orient Green   \n",
       "45342      1  New Delhi                               GE T&D India Limited   \n",
       "45343     12  Ratnagiri                                 TransRail Lighting   \n",
       "45344      1    Gurgaon                    L&T Transmission & Distribution   \n",
       "\n",
       "       MonthlyHours  TariffRate  ElectricityBill  \n",
       "0               384         8.4           3225.6  \n",
       "1               488         7.8           3806.4  \n",
       "2               416         7.7           3203.2  \n",
       "3               475         9.2           4370.0  \n",
       "4               457         9.2           4204.4  \n",
       "...             ...         ...              ...  \n",
       "45340           764         7.9           6035.6  \n",
       "45341           572         8.5           4862.0  \n",
       "45342           609         8.5           5176.5  \n",
       "45343           748         7.4           5535.2  \n",
       "45344           427         8.3           3544.1  \n",
       "\n",
       "[45345 rows x 12 columns]"
      ]
     },
     "execution_count": 3,
     "metadata": {},
     "output_type": "execute_result"
    }
   ],
   "source": [
    "df = pd.read_csv(\"electricity_bill_dataset.csv\")\n",
    "df"
   ]
  },
  {
   "cell_type": "code",
   "execution_count": 4,
   "id": "0a04b81f",
   "metadata": {},
   "outputs": [
    {
     "data": {
      "text/html": [
       "<div>\n",
       "<style scoped>\n",
       "    .dataframe tbody tr th:only-of-type {\n",
       "        vertical-align: middle;\n",
       "    }\n",
       "\n",
       "    .dataframe tbody tr th {\n",
       "        vertical-align: top;\n",
       "    }\n",
       "\n",
       "    .dataframe thead th {\n",
       "        text-align: right;\n",
       "    }\n",
       "</style>\n",
       "<table border=\"1\" class=\"dataframe\">\n",
       "  <thead>\n",
       "    <tr style=\"text-align: right;\">\n",
       "      <th></th>\n",
       "      <th>Fan</th>\n",
       "      <th>Refrigerator</th>\n",
       "      <th>AirConditioner</th>\n",
       "      <th>Television</th>\n",
       "      <th>Monitor</th>\n",
       "      <th>MotorPump</th>\n",
       "      <th>Month</th>\n",
       "      <th>MonthlyHours</th>\n",
       "      <th>TariffRate</th>\n",
       "      <th>ElectricityBill</th>\n",
       "    </tr>\n",
       "  </thead>\n",
       "  <tbody>\n",
       "    <tr>\n",
       "      <th>count</th>\n",
       "      <td>45345.000000</td>\n",
       "      <td>45345.000000</td>\n",
       "      <td>45345.000000</td>\n",
       "      <td>45345.000000</td>\n",
       "      <td>45345.000000</td>\n",
       "      <td>45345.0</td>\n",
       "      <td>45345.000000</td>\n",
       "      <td>45345.000000</td>\n",
       "      <td>45345.000000</td>\n",
       "      <td>45345.000000</td>\n",
       "    </tr>\n",
       "    <tr>\n",
       "      <th>mean</th>\n",
       "      <td>13.990694</td>\n",
       "      <td>21.705458</td>\n",
       "      <td>1.503959</td>\n",
       "      <td>12.502635</td>\n",
       "      <td>2.865057</td>\n",
       "      <td>0.0</td>\n",
       "      <td>6.488058</td>\n",
       "      <td>515.083207</td>\n",
       "      <td>8.369648</td>\n",
       "      <td>4311.771307</td>\n",
       "    </tr>\n",
       "    <tr>\n",
       "      <th>std</th>\n",
       "      <td>5.470816</td>\n",
       "      <td>1.672575</td>\n",
       "      <td>1.115482</td>\n",
       "      <td>5.756007</td>\n",
       "      <td>3.894933</td>\n",
       "      <td>0.0</td>\n",
       "      <td>3.443252</td>\n",
       "      <td>122.618017</td>\n",
       "      <td>0.576992</td>\n",
       "      <td>1073.886406</td>\n",
       "    </tr>\n",
       "    <tr>\n",
       "      <th>min</th>\n",
       "      <td>5.000000</td>\n",
       "      <td>17.000000</td>\n",
       "      <td>0.000000</td>\n",
       "      <td>3.000000</td>\n",
       "      <td>1.000000</td>\n",
       "      <td>0.0</td>\n",
       "      <td>1.000000</td>\n",
       "      <td>95.000000</td>\n",
       "      <td>7.400000</td>\n",
       "      <td>807.500000</td>\n",
       "    </tr>\n",
       "    <tr>\n",
       "      <th>25%</th>\n",
       "      <td>9.000000</td>\n",
       "      <td>22.000000</td>\n",
       "      <td>1.000000</td>\n",
       "      <td>7.000000</td>\n",
       "      <td>1.000000</td>\n",
       "      <td>0.0</td>\n",
       "      <td>3.000000</td>\n",
       "      <td>429.000000</td>\n",
       "      <td>7.900000</td>\n",
       "      <td>3556.800000</td>\n",
       "    </tr>\n",
       "    <tr>\n",
       "      <th>50%</th>\n",
       "      <td>14.000000</td>\n",
       "      <td>22.000000</td>\n",
       "      <td>2.000000</td>\n",
       "      <td>13.000000</td>\n",
       "      <td>1.000000</td>\n",
       "      <td>0.0</td>\n",
       "      <td>6.000000</td>\n",
       "      <td>515.000000</td>\n",
       "      <td>8.400000</td>\n",
       "      <td>4299.400000</td>\n",
       "    </tr>\n",
       "    <tr>\n",
       "      <th>75%</th>\n",
       "      <td>19.000000</td>\n",
       "      <td>23.000000</td>\n",
       "      <td>2.000000</td>\n",
       "      <td>17.000000</td>\n",
       "      <td>1.000000</td>\n",
       "      <td>0.0</td>\n",
       "      <td>9.000000</td>\n",
       "      <td>601.000000</td>\n",
       "      <td>8.900000</td>\n",
       "      <td>5038.800000</td>\n",
       "    </tr>\n",
       "    <tr>\n",
       "      <th>max</th>\n",
       "      <td>23.000000</td>\n",
       "      <td>23.000000</td>\n",
       "      <td>3.000000</td>\n",
       "      <td>22.000000</td>\n",
       "      <td>12.000000</td>\n",
       "      <td>0.0</td>\n",
       "      <td>12.000000</td>\n",
       "      <td>926.000000</td>\n",
       "      <td>9.300000</td>\n",
       "      <td>8286.300000</td>\n",
       "    </tr>\n",
       "  </tbody>\n",
       "</table>\n",
       "</div>"
      ],
      "text/plain": [
       "                Fan  Refrigerator  AirConditioner    Television       Monitor  \\\n",
       "count  45345.000000  45345.000000    45345.000000  45345.000000  45345.000000   \n",
       "mean      13.990694     21.705458        1.503959     12.502635      2.865057   \n",
       "std        5.470816      1.672575        1.115482      5.756007      3.894933   \n",
       "min        5.000000     17.000000        0.000000      3.000000      1.000000   \n",
       "25%        9.000000     22.000000        1.000000      7.000000      1.000000   \n",
       "50%       14.000000     22.000000        2.000000     13.000000      1.000000   \n",
       "75%       19.000000     23.000000        2.000000     17.000000      1.000000   \n",
       "max       23.000000     23.000000        3.000000     22.000000     12.000000   \n",
       "\n",
       "       MotorPump         Month  MonthlyHours    TariffRate  ElectricityBill  \n",
       "count    45345.0  45345.000000  45345.000000  45345.000000     45345.000000  \n",
       "mean         0.0      6.488058    515.083207      8.369648      4311.771307  \n",
       "std          0.0      3.443252    122.618017      0.576992      1073.886406  \n",
       "min          0.0      1.000000     95.000000      7.400000       807.500000  \n",
       "25%          0.0      3.000000    429.000000      7.900000      3556.800000  \n",
       "50%          0.0      6.000000    515.000000      8.400000      4299.400000  \n",
       "75%          0.0      9.000000    601.000000      8.900000      5038.800000  \n",
       "max          0.0     12.000000    926.000000      9.300000      8286.300000  "
      ]
     },
     "execution_count": 4,
     "metadata": {},
     "output_type": "execute_result"
    }
   ],
   "source": [
    "df.describe() "
   ]
  },
  {
   "cell_type": "code",
   "execution_count": 5,
   "id": "680a8bc8",
   "metadata": {},
   "outputs": [
    {
     "data": {
      "text/plain": [
       "Fan                0\n",
       "Refrigerator       0\n",
       "AirConditioner     0\n",
       "Television         0\n",
       "Monitor            0\n",
       "MotorPump          0\n",
       "Month              0\n",
       "City               0\n",
       "Company            0\n",
       "MonthlyHours       0\n",
       "TariffRate         0\n",
       "ElectricityBill    0\n",
       "dtype: int64"
      ]
     },
     "execution_count": 5,
     "metadata": {},
     "output_type": "execute_result"
    }
   ],
   "source": [
    "df.isnull().sum()  # checking if there is any null values in dataset"
   ]
  },
  {
   "cell_type": "code",
   "execution_count": 13,
   "id": "3d23ea77",
   "metadata": {
    "scrolled": true
   },
   "outputs": [
    {
     "data": {
      "text/plain": [
       "9.3"
      ]
     },
     "execution_count": 13,
     "metadata": {},
     "output_type": "execute_result"
    }
   ],
   "source": [
    "max(df[\"TariffRate\"]) # maximum of tariff rate"
   ]
  },
  {
   "cell_type": "code",
   "execution_count": 14,
   "id": "a145e701",
   "metadata": {},
   "outputs": [
    {
     "data": {
      "text/html": [
       "<div>\n",
       "<style scoped>\n",
       "    .dataframe tbody tr th:only-of-type {\n",
       "        vertical-align: middle;\n",
       "    }\n",
       "\n",
       "    .dataframe tbody tr th {\n",
       "        vertical-align: top;\n",
       "    }\n",
       "\n",
       "    .dataframe thead th {\n",
       "        text-align: right;\n",
       "    }\n",
       "</style>\n",
       "<table border=\"1\" class=\"dataframe\">\n",
       "  <thead>\n",
       "    <tr style=\"text-align: right;\">\n",
       "      <th></th>\n",
       "      <th>Fan</th>\n",
       "      <th>Refrigerator</th>\n",
       "      <th>AirConditioner</th>\n",
       "      <th>Television</th>\n",
       "      <th>Monitor</th>\n",
       "      <th>MotorPump</th>\n",
       "      <th>Month</th>\n",
       "      <th>City</th>\n",
       "      <th>Company</th>\n",
       "      <th>MonthlyHours</th>\n",
       "      <th>TariffRate</th>\n",
       "      <th>ElectricityBill</th>\n",
       "    </tr>\n",
       "  </thead>\n",
       "  <tbody>\n",
       "    <tr>\n",
       "      <th>3</th>\n",
       "      <td>7</td>\n",
       "      <td>22.0</td>\n",
       "      <td>3.0</td>\n",
       "      <td>21.0</td>\n",
       "      <td>1.0</td>\n",
       "      <td>0</td>\n",
       "      <td>6</td>\n",
       "      <td>Mumbai</td>\n",
       "      <td>Power Grid Corp</td>\n",
       "      <td>475</td>\n",
       "      <td>9.2</td>\n",
       "      <td>4370.0</td>\n",
       "    </tr>\n",
       "    <tr>\n",
       "      <th>4</th>\n",
       "      <td>11</td>\n",
       "      <td>23.0</td>\n",
       "      <td>2.0</td>\n",
       "      <td>11.0</td>\n",
       "      <td>1.0</td>\n",
       "      <td>0</td>\n",
       "      <td>2</td>\n",
       "      <td>Mumbai</td>\n",
       "      <td>Ratnagiri Gas and Power Pvt. Ltd. (RGPPL)</td>\n",
       "      <td>457</td>\n",
       "      <td>9.2</td>\n",
       "      <td>4204.4</td>\n",
       "    </tr>\n",
       "    <tr>\n",
       "      <th>11</th>\n",
       "      <td>5</td>\n",
       "      <td>19.0</td>\n",
       "      <td>2.0</td>\n",
       "      <td>20.0</td>\n",
       "      <td>1.0</td>\n",
       "      <td>0</td>\n",
       "      <td>12</td>\n",
       "      <td>Mumbai</td>\n",
       "      <td>Sterlite Power Transmission Ltd</td>\n",
       "      <td>493</td>\n",
       "      <td>9.2</td>\n",
       "      <td>4535.6</td>\n",
       "    </tr>\n",
       "    <tr>\n",
       "      <th>20</th>\n",
       "      <td>23</td>\n",
       "      <td>23.0</td>\n",
       "      <td>0.0</td>\n",
       "      <td>15.0</td>\n",
       "      <td>1.0</td>\n",
       "      <td>0</td>\n",
       "      <td>8</td>\n",
       "      <td>Mumbai</td>\n",
       "      <td>Sterlite Power Transmission Ltd</td>\n",
       "      <td>476</td>\n",
       "      <td>9.2</td>\n",
       "      <td>4379.2</td>\n",
       "    </tr>\n",
       "    <tr>\n",
       "      <th>31</th>\n",
       "      <td>23</td>\n",
       "      <td>23.0</td>\n",
       "      <td>0.0</td>\n",
       "      <td>9.0</td>\n",
       "      <td>1.0</td>\n",
       "      <td>0</td>\n",
       "      <td>4</td>\n",
       "      <td>Mumbai</td>\n",
       "      <td>Maha Transco – Maharashtra State Electricity T...</td>\n",
       "      <td>412</td>\n",
       "      <td>9.2</td>\n",
       "      <td>3790.4</td>\n",
       "    </tr>\n",
       "    <tr>\n",
       "      <th>...</th>\n",
       "      <td>...</td>\n",
       "      <td>...</td>\n",
       "      <td>...</td>\n",
       "      <td>...</td>\n",
       "      <td>...</td>\n",
       "      <td>...</td>\n",
       "      <td>...</td>\n",
       "      <td>...</td>\n",
       "      <td>...</td>\n",
       "      <td>...</td>\n",
       "      <td>...</td>\n",
       "      <td>...</td>\n",
       "    </tr>\n",
       "    <tr>\n",
       "      <th>45284</th>\n",
       "      <td>9</td>\n",
       "      <td>17.0</td>\n",
       "      <td>1.0</td>\n",
       "      <td>8.0</td>\n",
       "      <td>1.0</td>\n",
       "      <td>0</td>\n",
       "      <td>1</td>\n",
       "      <td>Mumbai</td>\n",
       "      <td>Ratnagiri Gas and Power Pvt. Ltd. (RGPPL)</td>\n",
       "      <td>415</td>\n",
       "      <td>9.2</td>\n",
       "      <td>3818.0</td>\n",
       "    </tr>\n",
       "    <tr>\n",
       "      <th>45288</th>\n",
       "      <td>8</td>\n",
       "      <td>20.0</td>\n",
       "      <td>0.0</td>\n",
       "      <td>12.0</td>\n",
       "      <td>7.0</td>\n",
       "      <td>0</td>\n",
       "      <td>8</td>\n",
       "      <td>Mumbai</td>\n",
       "      <td>Torrent Power Ltd.</td>\n",
       "      <td>509</td>\n",
       "      <td>9.2</td>\n",
       "      <td>4682.8</td>\n",
       "    </tr>\n",
       "    <tr>\n",
       "      <th>45307</th>\n",
       "      <td>9</td>\n",
       "      <td>21.0</td>\n",
       "      <td>0.0</td>\n",
       "      <td>22.0</td>\n",
       "      <td>1.0</td>\n",
       "      <td>0</td>\n",
       "      <td>2</td>\n",
       "      <td>Mumbai</td>\n",
       "      <td>Reliance Power</td>\n",
       "      <td>386</td>\n",
       "      <td>9.2</td>\n",
       "      <td>3551.2</td>\n",
       "    </tr>\n",
       "    <tr>\n",
       "      <th>45327</th>\n",
       "      <td>7</td>\n",
       "      <td>21.0</td>\n",
       "      <td>2.0</td>\n",
       "      <td>20.0</td>\n",
       "      <td>7.0</td>\n",
       "      <td>0</td>\n",
       "      <td>3</td>\n",
       "      <td>Mumbai</td>\n",
       "      <td>GE T&amp;D India Limited</td>\n",
       "      <td>583</td>\n",
       "      <td>9.2</td>\n",
       "      <td>5363.6</td>\n",
       "    </tr>\n",
       "    <tr>\n",
       "      <th>45328</th>\n",
       "      <td>23</td>\n",
       "      <td>22.0</td>\n",
       "      <td>1.0</td>\n",
       "      <td>18.0</td>\n",
       "      <td>1.0</td>\n",
       "      <td>0</td>\n",
       "      <td>3</td>\n",
       "      <td>Mumbai</td>\n",
       "      <td>Bonfiglioli Transmission Pvt. Ltd.</td>\n",
       "      <td>544</td>\n",
       "      <td>9.2</td>\n",
       "      <td>5004.8</td>\n",
       "    </tr>\n",
       "  </tbody>\n",
       "</table>\n",
       "<p>2846 rows × 12 columns</p>\n",
       "</div>"
      ],
      "text/plain": [
       "       Fan  Refrigerator  AirConditioner  Television  Monitor  MotorPump  \\\n",
       "3        7          22.0             3.0        21.0      1.0          0   \n",
       "4       11          23.0             2.0        11.0      1.0          0   \n",
       "11       5          19.0             2.0        20.0      1.0          0   \n",
       "20      23          23.0             0.0        15.0      1.0          0   \n",
       "31      23          23.0             0.0         9.0      1.0          0   \n",
       "...    ...           ...             ...         ...      ...        ...   \n",
       "45284    9          17.0             1.0         8.0      1.0          0   \n",
       "45288    8          20.0             0.0        12.0      7.0          0   \n",
       "45307    9          21.0             0.0        22.0      1.0          0   \n",
       "45327    7          21.0             2.0        20.0      7.0          0   \n",
       "45328   23          22.0             1.0        18.0      1.0          0   \n",
       "\n",
       "       Month    City                                            Company  \\\n",
       "3          6  Mumbai                                    Power Grid Corp   \n",
       "4          2  Mumbai          Ratnagiri Gas and Power Pvt. Ltd. (RGPPL)   \n",
       "11        12  Mumbai                    Sterlite Power Transmission Ltd   \n",
       "20         8  Mumbai                    Sterlite Power Transmission Ltd   \n",
       "31         4  Mumbai  Maha Transco – Maharashtra State Electricity T...   \n",
       "...      ...     ...                                                ...   \n",
       "45284      1  Mumbai          Ratnagiri Gas and Power Pvt. Ltd. (RGPPL)   \n",
       "45288      8  Mumbai                                 Torrent Power Ltd.   \n",
       "45307      2  Mumbai                                     Reliance Power   \n",
       "45327      3  Mumbai                               GE T&D India Limited   \n",
       "45328      3  Mumbai                 Bonfiglioli Transmission Pvt. Ltd.   \n",
       "\n",
       "       MonthlyHours  TariffRate  ElectricityBill  \n",
       "3               475         9.2           4370.0  \n",
       "4               457         9.2           4204.4  \n",
       "11              493         9.2           4535.6  \n",
       "20              476         9.2           4379.2  \n",
       "31              412         9.2           3790.4  \n",
       "...             ...         ...              ...  \n",
       "45284           415         9.2           3818.0  \n",
       "45288           509         9.2           4682.8  \n",
       "45307           386         9.2           3551.2  \n",
       "45327           583         9.2           5363.6  \n",
       "45328           544         9.2           5004.8  \n",
       "\n",
       "[2846 rows x 12 columns]"
      ]
     },
     "execution_count": 14,
     "metadata": {},
     "output_type": "execute_result"
    }
   ],
   "source": [
    "demo = ((df[\"City\"] == \"Mumbai\") & (df[\"ElectricityBill\"])) # Elctricity bill details of Mumbai\n",
    "df[demo]"
   ]
  },
  {
   "cell_type": "code",
   "execution_count": 8,
   "id": "f005967f",
   "metadata": {},
   "outputs": [
    {
     "data": {
      "image/png": "[encoded data removed]",
      "text/plain": [
       "<Figure size 640x480 with 1 Axes>"
      ]
     },
     "metadata": {},
     "output_type": "display_data"
    }
   ],
   "source": [
    "x = df[\"City\"]\n",
    "y = df[\"ElectricityBill\"]\n",
    "\n",
    "plt.bar(x,y,width = .5)\n",
    "plt.xticks(rotation=90)\n",
    "plt.show()\n",
    "\n",
    "# city with highest electricity bill is 'Navi Mumbai'"
   ]
  },
  {
   "cell_type": "markdown",
   "id": "a981f521",
   "metadata": {},
   "source": [
    "######  City and Monthly usage Hours"
   ]
  },
  {
   "cell_type": "code",
   "execution_count": 37,
   "id": "fbe18beb",
   "metadata": {},
   "outputs": [
    {
     "data": {
      "image/png": "[encoded data removed]",
      "text/plain": [
       "<Figure size 640x480 with 1 Axes>"
      ]
     },
     "metadata": {},
     "output_type": "display_data"
    }
   ],
   "source": [
    "n_df = df.iloc[:1000,:]\n",
    "m = n_df[\"City\"]\n",
    "n = n_df[\"MonthlyHours\"]\n",
    "sns.barplot(x=\"City\",y=\"MonthlyHours\",data=n_df)\n",
    "plt.xticks(rotation=90)\n",
    "plt.show()"
   ]
  },
  {
   "cell_type": "markdown",
   "id": "341cccac",
   "metadata": {},
   "source": [
    "#####  Coverting String values using Label Encoder"
   ]
  },
  {
   "cell_type": "code",
   "execution_count": 11,
   "id": "a6878605",
   "metadata": {},
   "outputs": [],
   "source": [
    "from sklearn.preprocessing import LabelEncoder #importing label encoder "
   ]
  },
  {
   "cell_type": "code",
   "execution_count": 12,
   "id": "1ec2f3b9",
   "metadata": {},
   "outputs": [],
   "source": [
    "LE = LabelEncoder() # creating an instance of Label Encoder"
   ]
  },
  {
   "cell_type": "code",
   "execution_count": 13,
   "id": "dc65a9f3",
   "metadata": {},
   "outputs": [],
   "source": [
    "df.iloc[:,7] = LE.fit_transform(df.iloc[:,7])\n",
    "df.iloc[:,8] = LE.fit_transform(df.iloc[:,8])"
   ]
  },
  {
   "cell_type": "markdown",
   "id": "f1a38643",
   "metadata": {},
   "source": [
    "###### DATASET AFTER LABEL ENCODING"
   ]
  },
  {
   "cell_type": "code",
   "execution_count": 14,
   "id": "e656afcc",
   "metadata": {},
   "outputs": [
    {
     "data": {
      "text/html": [
       "<div>\n",
       "<style scoped>\n",
       "    .dataframe tbody tr th:only-of-type {\n",
       "        vertical-align: middle;\n",
       "    }\n",
       "\n",
       "    .dataframe tbody tr th {\n",
       "        vertical-align: top;\n",
       "    }\n",
       "\n",
       "    .dataframe thead th {\n",
       "        text-align: right;\n",
       "    }\n",
       "</style>\n",
       "<table border=\"1\" class=\"dataframe\">\n",
       "  <thead>\n",
       "    <tr style=\"text-align: right;\">\n",
       "      <th></th>\n",
       "      <th>Fan</th>\n",
       "      <th>Refrigerator</th>\n",
       "      <th>AirConditioner</th>\n",
       "      <th>Television</th>\n",
       "      <th>Monitor</th>\n",
       "      <th>MotorPump</th>\n",
       "      <th>Month</th>\n",
       "      <th>City</th>\n",
       "      <th>Company</th>\n",
       "      <th>MonthlyHours</th>\n",
       "      <th>TariffRate</th>\n",
       "      <th>ElectricityBill</th>\n",
       "    </tr>\n",
       "  </thead>\n",
       "  <tbody>\n",
       "    <tr>\n",
       "      <th>0</th>\n",
       "      <td>16</td>\n",
       "      <td>23.0</td>\n",
       "      <td>2.0</td>\n",
       "      <td>6.0</td>\n",
       "      <td>1.0</td>\n",
       "      <td>0</td>\n",
       "      <td>10</td>\n",
       "      <td>5</td>\n",
       "      <td>27</td>\n",
       "      <td>384</td>\n",
       "      <td>8.4</td>\n",
       "      <td>3225.6</td>\n",
       "    </tr>\n",
       "    <tr>\n",
       "      <th>1</th>\n",
       "      <td>19</td>\n",
       "      <td>22.0</td>\n",
       "      <td>2.0</td>\n",
       "      <td>3.0</td>\n",
       "      <td>1.0</td>\n",
       "      <td>0</td>\n",
       "      <td>5</td>\n",
       "      <td>15</td>\n",
       "      <td>13</td>\n",
       "      <td>488</td>\n",
       "      <td>7.8</td>\n",
       "      <td>3806.4</td>\n",
       "    </tr>\n",
       "    <tr>\n",
       "      <th>2</th>\n",
       "      <td>7</td>\n",
       "      <td>20.0</td>\n",
       "      <td>2.0</td>\n",
       "      <td>6.0</td>\n",
       "      <td>7.0</td>\n",
       "      <td>0</td>\n",
       "      <td>7</td>\n",
       "      <td>14</td>\n",
       "      <td>8</td>\n",
       "      <td>416</td>\n",
       "      <td>7.7</td>\n",
       "      <td>3203.2</td>\n",
       "    </tr>\n",
       "    <tr>\n",
       "      <th>3</th>\n",
       "      <td>7</td>\n",
       "      <td>22.0</td>\n",
       "      <td>3.0</td>\n",
       "      <td>21.0</td>\n",
       "      <td>1.0</td>\n",
       "      <td>0</td>\n",
       "      <td>6</td>\n",
       "      <td>7</td>\n",
       "      <td>19</td>\n",
       "      <td>475</td>\n",
       "      <td>9.2</td>\n",
       "      <td>4370.0</td>\n",
       "    </tr>\n",
       "    <tr>\n",
       "      <th>4</th>\n",
       "      <td>11</td>\n",
       "      <td>23.0</td>\n",
       "      <td>2.0</td>\n",
       "      <td>11.0</td>\n",
       "      <td>1.0</td>\n",
       "      <td>0</td>\n",
       "      <td>2</td>\n",
       "      <td>7</td>\n",
       "      <td>20</td>\n",
       "      <td>457</td>\n",
       "      <td>9.2</td>\n",
       "      <td>4204.4</td>\n",
       "    </tr>\n",
       "    <tr>\n",
       "      <th>...</th>\n",
       "      <td>...</td>\n",
       "      <td>...</td>\n",
       "      <td>...</td>\n",
       "      <td>...</td>\n",
       "      <td>...</td>\n",
       "      <td>...</td>\n",
       "      <td>...</td>\n",
       "      <td>...</td>\n",
       "      <td>...</td>\n",
       "      <td>...</td>\n",
       "      <td>...</td>\n",
       "      <td>...</td>\n",
       "    </tr>\n",
       "    <tr>\n",
       "      <th>45340</th>\n",
       "      <td>18</td>\n",
       "      <td>22.0</td>\n",
       "      <td>3.0</td>\n",
       "      <td>22.0</td>\n",
       "      <td>1.0</td>\n",
       "      <td>0</td>\n",
       "      <td>9</td>\n",
       "      <td>0</td>\n",
       "      <td>12</td>\n",
       "      <td>764</td>\n",
       "      <td>7.9</td>\n",
       "      <td>6035.6</td>\n",
       "    </tr>\n",
       "    <tr>\n",
       "      <th>45341</th>\n",
       "      <td>23</td>\n",
       "      <td>23.0</td>\n",
       "      <td>2.0</td>\n",
       "      <td>6.0</td>\n",
       "      <td>12.0</td>\n",
       "      <td>0</td>\n",
       "      <td>2</td>\n",
       "      <td>10</td>\n",
       "      <td>18</td>\n",
       "      <td>572</td>\n",
       "      <td>8.5</td>\n",
       "      <td>4862.0</td>\n",
       "    </tr>\n",
       "    <tr>\n",
       "      <th>45342</th>\n",
       "      <td>22</td>\n",
       "      <td>22.0</td>\n",
       "      <td>2.0</td>\n",
       "      <td>20.0</td>\n",
       "      <td>1.0</td>\n",
       "      <td>0</td>\n",
       "      <td>1</td>\n",
       "      <td>10</td>\n",
       "      <td>3</td>\n",
       "      <td>609</td>\n",
       "      <td>8.5</td>\n",
       "      <td>5176.5</td>\n",
       "    </tr>\n",
       "    <tr>\n",
       "      <th>45343</th>\n",
       "      <td>8</td>\n",
       "      <td>21.0</td>\n",
       "      <td>2.0</td>\n",
       "      <td>22.0</td>\n",
       "      <td>7.0</td>\n",
       "      <td>0</td>\n",
       "      <td>12</td>\n",
       "      <td>13</td>\n",
       "      <td>30</td>\n",
       "      <td>748</td>\n",
       "      <td>7.4</td>\n",
       "      <td>5535.2</td>\n",
       "    </tr>\n",
       "    <tr>\n",
       "      <th>45344</th>\n",
       "      <td>8</td>\n",
       "      <td>17.0</td>\n",
       "      <td>2.0</td>\n",
       "      <td>4.0</td>\n",
       "      <td>1.0</td>\n",
       "      <td>0</td>\n",
       "      <td>1</td>\n",
       "      <td>4</td>\n",
       "      <td>11</td>\n",
       "      <td>427</td>\n",
       "      <td>8.3</td>\n",
       "      <td>3544.1</td>\n",
       "    </tr>\n",
       "  </tbody>\n",
       "</table>\n",
       "<p>45345 rows × 12 columns</p>\n",
       "</div>"
      ],
      "text/plain": [
       "       Fan  Refrigerator  AirConditioner  Television  Monitor  MotorPump  \\\n",
       "0       16          23.0             2.0         6.0      1.0          0   \n",
       "1       19          22.0             2.0         3.0      1.0          0   \n",
       "2        7          20.0             2.0         6.0      7.0          0   \n",
       "3        7          22.0             3.0        21.0      1.0          0   \n",
       "4       11          23.0             2.0        11.0      1.0          0   \n",
       "...    ...           ...             ...         ...      ...        ...   \n",
       "45340   18          22.0             3.0        22.0      1.0          0   \n",
       "45341   23          23.0             2.0         6.0     12.0          0   \n",
       "45342   22          22.0             2.0        20.0      1.0          0   \n",
       "45343    8          21.0             2.0        22.0      7.0          0   \n",
       "45344    8          17.0             2.0         4.0      1.0          0   \n",
       "\n",
       "       Month City Company  MonthlyHours  TariffRate  ElectricityBill  \n",
       "0         10    5      27           384         8.4           3225.6  \n",
       "1          5   15      13           488         7.8           3806.4  \n",
       "2          7   14       8           416         7.7           3203.2  \n",
       "3          6    7      19           475         9.2           4370.0  \n",
       "4          2    7      20           457         9.2           4204.4  \n",
       "...      ...  ...     ...           ...         ...              ...  \n",
       "45340      9    0      12           764         7.9           6035.6  \n",
       "45341      2   10      18           572         8.5           4862.0  \n",
       "45342      1   10       3           609         8.5           5176.5  \n",
       "45343     12   13      30           748         7.4           5535.2  \n",
       "45344      1    4      11           427         8.3           3544.1  \n",
       "\n",
       "[45345 rows x 12 columns]"
      ]
     },
     "execution_count": 14,
     "metadata": {},
     "output_type": "execute_result"
    }
   ],
   "source": [
    "df "
   ]
  },
  {
   "cell_type": "code",
   "execution_count": 15,
   "id": "8b435871",
   "metadata": {},
   "outputs": [],
   "source": [
    "correlation = df.corr()"
   ]
  },
  {
   "cell_type": "code",
   "execution_count": 23,
   "id": "11f99054",
   "metadata": {},
   "outputs": [
    {
     "data": {
      "text/plain": [
       "<Axes: >"
      ]
     },
     "execution_count": 23,
     "metadata": {},
     "output_type": "execute_result"
    },
    {
     "data": {
      "image/png": "[encoded data removed]",
      "text/plain": [
       "<Figure size 800x800 with 2 Axes>"
      ]
     },
     "metadata": {},
     "output_type": "display_data"
    }
   ],
   "source": [
    "plt.figure(figsize=(8,8))\n",
    "sns.heatmap(correlation,cbar=True,square=True,fmt='.1f',annot_kws={'size':8},cmap='Blues')"
   ]
  },
  {
   "cell_type": "markdown",
   "id": "0b4a5efe",
   "metadata": {},
   "source": [
    "#### Spilitting 'features' and 'target' to train and test data "
   ]
  },
  {
   "cell_type": "code",
   "execution_count": 127,
   "id": "e6687018",
   "metadata": {},
   "outputs": [
    {
     "data": {
      "text/html": [
       "<div>\n",
       "<style scoped>\n",
       "    .dataframe tbody tr th:only-of-type {\n",
       "        vertical-align: middle;\n",
       "    }\n",
       "\n",
       "    .dataframe tbody tr th {\n",
       "        vertical-align: top;\n",
       "    }\n",
       "\n",
       "    .dataframe thead th {\n",
       "        text-align: right;\n",
       "    }\n",
       "</style>\n",
       "<table border=\"1\" class=\"dataframe\">\n",
       "  <thead>\n",
       "    <tr style=\"text-align: right;\">\n",
       "      <th></th>\n",
       "      <th>Fan</th>\n",
       "      <th>Refrigerator</th>\n",
       "      <th>AirConditioner</th>\n",
       "      <th>Television</th>\n",
       "      <th>Monitor</th>\n",
       "      <th>MotorPump</th>\n",
       "      <th>Month</th>\n",
       "      <th>City</th>\n",
       "      <th>Company</th>\n",
       "      <th>MonthlyHours</th>\n",
       "      <th>TariffRate</th>\n",
       "    </tr>\n",
       "  </thead>\n",
       "  <tbody>\n",
       "    <tr>\n",
       "      <th>0</th>\n",
       "      <td>16</td>\n",
       "      <td>23.0</td>\n",
       "      <td>2.0</td>\n",
       "      <td>6.0</td>\n",
       "      <td>1.0</td>\n",
       "      <td>0</td>\n",
       "      <td>10</td>\n",
       "      <td>5</td>\n",
       "      <td>27</td>\n",
       "      <td>384</td>\n",
       "      <td>8.4</td>\n",
       "    </tr>\n",
       "    <tr>\n",
       "      <th>1</th>\n",
       "      <td>19</td>\n",
       "      <td>22.0</td>\n",
       "      <td>2.0</td>\n",
       "      <td>3.0</td>\n",
       "      <td>1.0</td>\n",
       "      <td>0</td>\n",
       "      <td>5</td>\n",
       "      <td>15</td>\n",
       "      <td>13</td>\n",
       "      <td>488</td>\n",
       "      <td>7.8</td>\n",
       "    </tr>\n",
       "    <tr>\n",
       "      <th>2</th>\n",
       "      <td>7</td>\n",
       "      <td>20.0</td>\n",
       "      <td>2.0</td>\n",
       "      <td>6.0</td>\n",
       "      <td>7.0</td>\n",
       "      <td>0</td>\n",
       "      <td>7</td>\n",
       "      <td>14</td>\n",
       "      <td>8</td>\n",
       "      <td>416</td>\n",
       "      <td>7.7</td>\n",
       "    </tr>\n",
       "    <tr>\n",
       "      <th>3</th>\n",
       "      <td>7</td>\n",
       "      <td>22.0</td>\n",
       "      <td>3.0</td>\n",
       "      <td>21.0</td>\n",
       "      <td>1.0</td>\n",
       "      <td>0</td>\n",
       "      <td>6</td>\n",
       "      <td>7</td>\n",
       "      <td>19</td>\n",
       "      <td>475</td>\n",
       "      <td>9.2</td>\n",
       "    </tr>\n",
       "    <tr>\n",
       "      <th>4</th>\n",
       "      <td>11</td>\n",
       "      <td>23.0</td>\n",
       "      <td>2.0</td>\n",
       "      <td>11.0</td>\n",
       "      <td>1.0</td>\n",
       "      <td>0</td>\n",
       "      <td>2</td>\n",
       "      <td>7</td>\n",
       "      <td>20</td>\n",
       "      <td>457</td>\n",
       "      <td>9.2</td>\n",
       "    </tr>\n",
       "    <tr>\n",
       "      <th>...</th>\n",
       "      <td>...</td>\n",
       "      <td>...</td>\n",
       "      <td>...</td>\n",
       "      <td>...</td>\n",
       "      <td>...</td>\n",
       "      <td>...</td>\n",
       "      <td>...</td>\n",
       "      <td>...</td>\n",
       "      <td>...</td>\n",
       "      <td>...</td>\n",
       "      <td>...</td>\n",
       "    </tr>\n",
       "    <tr>\n",
       "      <th>45340</th>\n",
       "      <td>18</td>\n",
       "      <td>22.0</td>\n",
       "      <td>3.0</td>\n",
       "      <td>22.0</td>\n",
       "      <td>1.0</td>\n",
       "      <td>0</td>\n",
       "      <td>9</td>\n",
       "      <td>0</td>\n",
       "      <td>12</td>\n",
       "      <td>764</td>\n",
       "      <td>7.9</td>\n",
       "    </tr>\n",
       "    <tr>\n",
       "      <th>45341</th>\n",
       "      <td>23</td>\n",
       "      <td>23.0</td>\n",
       "      <td>2.0</td>\n",
       "      <td>6.0</td>\n",
       "      <td>12.0</td>\n",
       "      <td>0</td>\n",
       "      <td>2</td>\n",
       "      <td>10</td>\n",
       "      <td>18</td>\n",
       "      <td>572</td>\n",
       "      <td>8.5</td>\n",
       "    </tr>\n",
       "    <tr>\n",
       "      <th>45342</th>\n",
       "      <td>22</td>\n",
       "      <td>22.0</td>\n",
       "      <td>2.0</td>\n",
       "      <td>20.0</td>\n",
       "      <td>1.0</td>\n",
       "      <td>0</td>\n",
       "      <td>1</td>\n",
       "      <td>10</td>\n",
       "      <td>3</td>\n",
       "      <td>609</td>\n",
       "      <td>8.5</td>\n",
       "    </tr>\n",
       "    <tr>\n",
       "      <th>45343</th>\n",
       "      <td>8</td>\n",
       "      <td>21.0</td>\n",
       "      <td>2.0</td>\n",
       "      <td>22.0</td>\n",
       "      <td>7.0</td>\n",
       "      <td>0</td>\n",
       "      <td>12</td>\n",
       "      <td>13</td>\n",
       "      <td>30</td>\n",
       "      <td>748</td>\n",
       "      <td>7.4</td>\n",
       "    </tr>\n",
       "    <tr>\n",
       "      <th>45344</th>\n",
       "      <td>8</td>\n",
       "      <td>17.0</td>\n",
       "      <td>2.0</td>\n",
       "      <td>4.0</td>\n",
       "      <td>1.0</td>\n",
       "      <td>0</td>\n",
       "      <td>1</td>\n",
       "      <td>4</td>\n",
       "      <td>11</td>\n",
       "      <td>427</td>\n",
       "      <td>8.3</td>\n",
       "    </tr>\n",
       "  </tbody>\n",
       "</table>\n",
       "<p>45345 rows × 11 columns</p>\n",
       "</div>"
      ],
      "text/plain": [
       "       Fan  Refrigerator  AirConditioner  Television  Monitor  MotorPump  \\\n",
       "0       16          23.0             2.0         6.0      1.0          0   \n",
       "1       19          22.0             2.0         3.0      1.0          0   \n",
       "2        7          20.0             2.0         6.0      7.0          0   \n",
       "3        7          22.0             3.0        21.0      1.0          0   \n",
       "4       11          23.0             2.0        11.0      1.0          0   \n",
       "...    ...           ...             ...         ...      ...        ...   \n",
       "45340   18          22.0             3.0        22.0      1.0          0   \n",
       "45341   23          23.0             2.0         6.0     12.0          0   \n",
       "45342   22          22.0             2.0        20.0      1.0          0   \n",
       "45343    8          21.0             2.0        22.0      7.0          0   \n",
       "45344    8          17.0             2.0         4.0      1.0          0   \n",
       "\n",
       "       Month City Company  MonthlyHours  TariffRate  \n",
       "0         10    5      27           384         8.4  \n",
       "1          5   15      13           488         7.8  \n",
       "2          7   14       8           416         7.7  \n",
       "3          6    7      19           475         9.2  \n",
       "4          2    7      20           457         9.2  \n",
       "...      ...  ...     ...           ...         ...  \n",
       "45340      9    0      12           764         7.9  \n",
       "45341      2   10      18           572         8.5  \n",
       "45342      1   10       3           609         8.5  \n",
       "45343     12   13      30           748         7.4  \n",
       "45344      1    4      11           427         8.3  \n",
       "\n",
       "[45345 rows x 11 columns]"
      ]
     },
     "execution_count": 127,
     "metadata": {},
     "output_type": "execute_result"
    }
   ],
   "source": [
    "x = df.drop(\"ElectricityBill\",axis=1)\n",
    "x"
   ]
  },
  {
   "cell_type": "code",
   "execution_count": 128,
   "id": "f55835b3",
   "metadata": {
    "scrolled": true
   },
   "outputs": [
    {
     "data": {
      "text/plain": [
       "0        3225.6\n",
       "1        3806.4\n",
       "2        3203.2\n",
       "3        4370.0\n",
       "4        4204.4\n",
       "          ...  \n",
       "45340    6035.6\n",
       "45341    4862.0\n",
       "45342    5176.5\n",
       "45343    5535.2\n",
       "45344    3544.1\n",
       "Name: ElectricityBill, Length: 45345, dtype: float64"
      ]
     },
     "execution_count": 128,
     "metadata": {},
     "output_type": "execute_result"
    }
   ],
   "source": [
    "y = df[\"ElectricityBill\"]\n",
    "y"
   ]
  },
  {
   "cell_type": "markdown",
   "id": "968c3fd1",
   "metadata": {},
   "source": [
    "###  Data Preprocessing"
   ]
  },
  {
   "cell_type": "code",
   "execution_count": 129,
   "id": "08275386",
   "metadata": {},
   "outputs": [],
   "source": [
    "from sklearn.model_selection import train_test_split"
   ]
  },
  {
   "cell_type": "code",
   "execution_count": 205,
   "id": "e57eae1e",
   "metadata": {},
   "outputs": [],
   "source": [
    "X_train,X_test,y_train,y_test = train_test_split(x,y,test_size=0.3,random_state=42) # splitting features and target as train data and test data"
   ]
  },
  {
   "cell_type": "code",
   "execution_count": 131,
   "id": "308804b8",
   "metadata": {},
   "outputs": [
    {
     "data": {
      "text/html": [
       "<div>\n",
       "<style scoped>\n",
       "    .dataframe tbody tr th:only-of-type {\n",
       "        vertical-align: middle;\n",
       "    }\n",
       "\n",
       "    .dataframe tbody tr th {\n",
       "        vertical-align: top;\n",
       "    }\n",
       "\n",
       "    .dataframe thead th {\n",
       "        text-align: right;\n",
       "    }\n",
       "</style>\n",
       "<table border=\"1\" class=\"dataframe\">\n",
       "  <thead>\n",
       "    <tr style=\"text-align: right;\">\n",
       "      <th></th>\n",
       "      <th>Fan</th>\n",
       "      <th>Refrigerator</th>\n",
       "      <th>AirConditioner</th>\n",
       "      <th>Television</th>\n",
       "      <th>Monitor</th>\n",
       "      <th>MotorPump</th>\n",
       "      <th>Month</th>\n",
       "      <th>City</th>\n",
       "      <th>Company</th>\n",
       "      <th>MonthlyHours</th>\n",
       "      <th>TariffRate</th>\n",
       "    </tr>\n",
       "  </thead>\n",
       "  <tbody>\n",
       "    <tr>\n",
       "      <th>25952</th>\n",
       "      <td>21</td>\n",
       "      <td>22.0</td>\n",
       "      <td>1.0</td>\n",
       "      <td>18.0</td>\n",
       "      <td>1.0</td>\n",
       "      <td>0</td>\n",
       "      <td>3</td>\n",
       "      <td>11</td>\n",
       "      <td>25</td>\n",
       "      <td>479</td>\n",
       "      <td>8.2</td>\n",
       "    </tr>\n",
       "    <tr>\n",
       "      <th>37089</th>\n",
       "      <td>5</td>\n",
       "      <td>20.0</td>\n",
       "      <td>0.0</td>\n",
       "      <td>17.0</td>\n",
       "      <td>1.0</td>\n",
       "      <td>0</td>\n",
       "      <td>9</td>\n",
       "      <td>15</td>\n",
       "      <td>5</td>\n",
       "      <td>290</td>\n",
       "      <td>7.8</td>\n",
       "    </tr>\n",
       "    <tr>\n",
       "      <th>24172</th>\n",
       "      <td>22</td>\n",
       "      <td>22.0</td>\n",
       "      <td>1.0</td>\n",
       "      <td>18.0</td>\n",
       "      <td>1.0</td>\n",
       "      <td>0</td>\n",
       "      <td>6</td>\n",
       "      <td>4</td>\n",
       "      <td>13</td>\n",
       "      <td>573</td>\n",
       "      <td>8.3</td>\n",
       "    </tr>\n",
       "    <tr>\n",
       "      <th>6754</th>\n",
       "      <td>8</td>\n",
       "      <td>20.0</td>\n",
       "      <td>0.0</td>\n",
       "      <td>21.0</td>\n",
       "      <td>1.0</td>\n",
       "      <td>0</td>\n",
       "      <td>3</td>\n",
       "      <td>0</td>\n",
       "      <td>5</td>\n",
       "      <td>429</td>\n",
       "      <td>7.9</td>\n",
       "    </tr>\n",
       "    <tr>\n",
       "      <th>37227</th>\n",
       "      <td>10</td>\n",
       "      <td>18.0</td>\n",
       "      <td>0.0</td>\n",
       "      <td>7.0</td>\n",
       "      <td>1.0</td>\n",
       "      <td>0</td>\n",
       "      <td>2</td>\n",
       "      <td>9</td>\n",
       "      <td>29</td>\n",
       "      <td>270</td>\n",
       "      <td>9.3</td>\n",
       "    </tr>\n",
       "    <tr>\n",
       "      <th>...</th>\n",
       "      <td>...</td>\n",
       "      <td>...</td>\n",
       "      <td>...</td>\n",
       "      <td>...</td>\n",
       "      <td>...</td>\n",
       "      <td>...</td>\n",
       "      <td>...</td>\n",
       "      <td>...</td>\n",
       "      <td>...</td>\n",
       "      <td>...</td>\n",
       "      <td>...</td>\n",
       "    </tr>\n",
       "    <tr>\n",
       "      <th>11284</th>\n",
       "      <td>5</td>\n",
       "      <td>20.0</td>\n",
       "      <td>0.0</td>\n",
       "      <td>11.0</td>\n",
       "      <td>1.0</td>\n",
       "      <td>0</td>\n",
       "      <td>11</td>\n",
       "      <td>11</td>\n",
       "      <td>18</td>\n",
       "      <td>281</td>\n",
       "      <td>8.2</td>\n",
       "    </tr>\n",
       "    <tr>\n",
       "      <th>44732</th>\n",
       "      <td>7</td>\n",
       "      <td>18.0</td>\n",
       "      <td>3.0</td>\n",
       "      <td>14.0</td>\n",
       "      <td>1.0</td>\n",
       "      <td>0</td>\n",
       "      <td>2</td>\n",
       "      <td>6</td>\n",
       "      <td>18</td>\n",
       "      <td>550</td>\n",
       "      <td>8.7</td>\n",
       "    </tr>\n",
       "    <tr>\n",
       "      <th>38158</th>\n",
       "      <td>20</td>\n",
       "      <td>22.0</td>\n",
       "      <td>2.0</td>\n",
       "      <td>20.0</td>\n",
       "      <td>12.0</td>\n",
       "      <td>0</td>\n",
       "      <td>12</td>\n",
       "      <td>10</td>\n",
       "      <td>10</td>\n",
       "      <td>814</td>\n",
       "      <td>8.5</td>\n",
       "    </tr>\n",
       "    <tr>\n",
       "      <th>860</th>\n",
       "      <td>18</td>\n",
       "      <td>22.0</td>\n",
       "      <td>1.0</td>\n",
       "      <td>5.0</td>\n",
       "      <td>12.0</td>\n",
       "      <td>0</td>\n",
       "      <td>4</td>\n",
       "      <td>1</td>\n",
       "      <td>21</td>\n",
       "      <td>626</td>\n",
       "      <td>8.8</td>\n",
       "    </tr>\n",
       "    <tr>\n",
       "      <th>15795</th>\n",
       "      <td>20</td>\n",
       "      <td>22.0</td>\n",
       "      <td>1.0</td>\n",
       "      <td>12.0</td>\n",
       "      <td>12.0</td>\n",
       "      <td>0</td>\n",
       "      <td>3</td>\n",
       "      <td>8</td>\n",
       "      <td>9</td>\n",
       "      <td>630</td>\n",
       "      <td>8.9</td>\n",
       "    </tr>\n",
       "  </tbody>\n",
       "</table>\n",
       "<p>31741 rows × 11 columns</p>\n",
       "</div>"
      ],
      "text/plain": [
       "       Fan  Refrigerator  AirConditioner  Television  Monitor  MotorPump  \\\n",
       "25952   21          22.0             1.0        18.0      1.0          0   \n",
       "37089    5          20.0             0.0        17.0      1.0          0   \n",
       "24172   22          22.0             1.0        18.0      1.0          0   \n",
       "6754     8          20.0             0.0        21.0      1.0          0   \n",
       "37227   10          18.0             0.0         7.0      1.0          0   \n",
       "...    ...           ...             ...         ...      ...        ...   \n",
       "11284    5          20.0             0.0        11.0      1.0          0   \n",
       "44732    7          18.0             3.0        14.0      1.0          0   \n",
       "38158   20          22.0             2.0        20.0     12.0          0   \n",
       "860     18          22.0             1.0         5.0     12.0          0   \n",
       "15795   20          22.0             1.0        12.0     12.0          0   \n",
       "\n",
       "       Month City Company  MonthlyHours  TariffRate  \n",
       "25952      3   11      25           479         8.2  \n",
       "37089      9   15       5           290         7.8  \n",
       "24172      6    4      13           573         8.3  \n",
       "6754       3    0       5           429         7.9  \n",
       "37227      2    9      29           270         9.3  \n",
       "...      ...  ...     ...           ...         ...  \n",
       "11284     11   11      18           281         8.2  \n",
       "44732      2    6      18           550         8.7  \n",
       "38158     12   10      10           814         8.5  \n",
       "860        4    1      21           626         8.8  \n",
       "15795      3    8       9           630         8.9  \n",
       "\n",
       "[31741 rows x 11 columns]"
      ]
     },
     "execution_count": 131,
     "metadata": {},
     "output_type": "execute_result"
    }
   ],
   "source": [
    "X_train"
   ]
  },
  {
   "cell_type": "code",
   "execution_count": 132,
   "id": "a5acfdd8",
   "metadata": {},
   "outputs": [
    {
     "data": {
      "text/plain": [
       "25952    3927.8\n",
       "37089    2262.0\n",
       "24172    4755.9\n",
       "6754     3389.1\n",
       "37227    2511.0\n",
       "          ...  \n",
       "11284    2304.2\n",
       "44732    4785.0\n",
       "38158    6919.0\n",
       "860      5508.8\n",
       "15795    5607.0\n",
       "Name: ElectricityBill, Length: 31741, dtype: float64"
      ]
     },
     "execution_count": 132,
     "metadata": {},
     "output_type": "execute_result"
    }
   ],
   "source": [
    "y_train"
   ]
  },
  {
   "cell_type": "code",
   "execution_count": 133,
   "id": "f789e026",
   "metadata": {},
   "outputs": [
    {
     "data": {
      "text/html": [
       "<div>\n",
       "<style scoped>\n",
       "    .dataframe tbody tr th:only-of-type {\n",
       "        vertical-align: middle;\n",
       "    }\n",
       "\n",
       "    .dataframe tbody tr th {\n",
       "        vertical-align: top;\n",
       "    }\n",
       "\n",
       "    .dataframe thead th {\n",
       "        text-align: right;\n",
       "    }\n",
       "</style>\n",
       "<table border=\"1\" class=\"dataframe\">\n",
       "  <thead>\n",
       "    <tr style=\"text-align: right;\">\n",
       "      <th></th>\n",
       "      <th>Fan</th>\n",
       "      <th>Refrigerator</th>\n",
       "      <th>AirConditioner</th>\n",
       "      <th>Television</th>\n",
       "      <th>Monitor</th>\n",
       "      <th>MotorPump</th>\n",
       "      <th>Month</th>\n",
       "      <th>City</th>\n",
       "      <th>Company</th>\n",
       "      <th>MonthlyHours</th>\n",
       "      <th>TariffRate</th>\n",
       "    </tr>\n",
       "  </thead>\n",
       "  <tbody>\n",
       "    <tr>\n",
       "      <th>19060</th>\n",
       "      <td>13</td>\n",
       "      <td>23.0</td>\n",
       "      <td>1.0</td>\n",
       "      <td>11.0</td>\n",
       "      <td>12.0</td>\n",
       "      <td>0</td>\n",
       "      <td>4</td>\n",
       "      <td>6</td>\n",
       "      <td>4</td>\n",
       "      <td>581</td>\n",
       "      <td>8.7</td>\n",
       "    </tr>\n",
       "    <tr>\n",
       "      <th>17874</th>\n",
       "      <td>16</td>\n",
       "      <td>22.0</td>\n",
       "      <td>2.0</td>\n",
       "      <td>11.0</td>\n",
       "      <td>1.0</td>\n",
       "      <td>0</td>\n",
       "      <td>9</td>\n",
       "      <td>8</td>\n",
       "      <td>28</td>\n",
       "      <td>428</td>\n",
       "      <td>8.9</td>\n",
       "    </tr>\n",
       "    <tr>\n",
       "      <th>44423</th>\n",
       "      <td>6</td>\n",
       "      <td>17.0</td>\n",
       "      <td>1.0</td>\n",
       "      <td>21.0</td>\n",
       "      <td>1.0</td>\n",
       "      <td>0</td>\n",
       "      <td>2</td>\n",
       "      <td>4</td>\n",
       "      <td>25</td>\n",
       "      <td>391</td>\n",
       "      <td>8.3</td>\n",
       "    </tr>\n",
       "    <tr>\n",
       "      <th>36865</th>\n",
       "      <td>11</td>\n",
       "      <td>22.0</td>\n",
       "      <td>2.0</td>\n",
       "      <td>12.0</td>\n",
       "      <td>12.0</td>\n",
       "      <td>0</td>\n",
       "      <td>1</td>\n",
       "      <td>5</td>\n",
       "      <td>16</td>\n",
       "      <td>682</td>\n",
       "      <td>8.4</td>\n",
       "    </tr>\n",
       "    <tr>\n",
       "      <th>36537</th>\n",
       "      <td>15</td>\n",
       "      <td>22.0</td>\n",
       "      <td>3.0</td>\n",
       "      <td>12.0</td>\n",
       "      <td>1.0</td>\n",
       "      <td>0</td>\n",
       "      <td>10</td>\n",
       "      <td>10</td>\n",
       "      <td>11</td>\n",
       "      <td>488</td>\n",
       "      <td>8.5</td>\n",
       "    </tr>\n",
       "    <tr>\n",
       "      <th>...</th>\n",
       "      <td>...</td>\n",
       "      <td>...</td>\n",
       "      <td>...</td>\n",
       "      <td>...</td>\n",
       "      <td>...</td>\n",
       "      <td>...</td>\n",
       "      <td>...</td>\n",
       "      <td>...</td>\n",
       "      <td>...</td>\n",
       "      <td>...</td>\n",
       "      <td>...</td>\n",
       "    </tr>\n",
       "    <tr>\n",
       "      <th>1530</th>\n",
       "      <td>23</td>\n",
       "      <td>23.0</td>\n",
       "      <td>2.0</td>\n",
       "      <td>7.0</td>\n",
       "      <td>12.0</td>\n",
       "      <td>0</td>\n",
       "      <td>6</td>\n",
       "      <td>5</td>\n",
       "      <td>6</td>\n",
       "      <td>543</td>\n",
       "      <td>8.4</td>\n",
       "    </tr>\n",
       "    <tr>\n",
       "      <th>16233</th>\n",
       "      <td>23</td>\n",
       "      <td>22.0</td>\n",
       "      <td>0.0</td>\n",
       "      <td>7.0</td>\n",
       "      <td>12.0</td>\n",
       "      <td>0</td>\n",
       "      <td>4</td>\n",
       "      <td>4</td>\n",
       "      <td>5</td>\n",
       "      <td>526</td>\n",
       "      <td>8.3</td>\n",
       "    </tr>\n",
       "    <tr>\n",
       "      <th>2929</th>\n",
       "      <td>10</td>\n",
       "      <td>19.0</td>\n",
       "      <td>3.0</td>\n",
       "      <td>21.0</td>\n",
       "      <td>7.0</td>\n",
       "      <td>0</td>\n",
       "      <td>11</td>\n",
       "      <td>1</td>\n",
       "      <td>9</td>\n",
       "      <td>552</td>\n",
       "      <td>8.8</td>\n",
       "    </tr>\n",
       "    <tr>\n",
       "      <th>5799</th>\n",
       "      <td>22</td>\n",
       "      <td>23.0</td>\n",
       "      <td>3.0</td>\n",
       "      <td>21.0</td>\n",
       "      <td>1.0</td>\n",
       "      <td>0</td>\n",
       "      <td>3</td>\n",
       "      <td>8</td>\n",
       "      <td>5</td>\n",
       "      <td>791</td>\n",
       "      <td>8.9</td>\n",
       "    </tr>\n",
       "    <tr>\n",
       "      <th>33421</th>\n",
       "      <td>16</td>\n",
       "      <td>22.0</td>\n",
       "      <td>3.0</td>\n",
       "      <td>3.0</td>\n",
       "      <td>12.0</td>\n",
       "      <td>0</td>\n",
       "      <td>11</td>\n",
       "      <td>13</td>\n",
       "      <td>23</td>\n",
       "      <td>645</td>\n",
       "      <td>7.4</td>\n",
       "    </tr>\n",
       "  </tbody>\n",
       "</table>\n",
       "<p>13604 rows × 11 columns</p>\n",
       "</div>"
      ],
      "text/plain": [
       "       Fan  Refrigerator  AirConditioner  Television  Monitor  MotorPump  \\\n",
       "19060   13          23.0             1.0        11.0     12.0          0   \n",
       "17874   16          22.0             2.0        11.0      1.0          0   \n",
       "44423    6          17.0             1.0        21.0      1.0          0   \n",
       "36865   11          22.0             2.0        12.0     12.0          0   \n",
       "36537   15          22.0             3.0        12.0      1.0          0   \n",
       "...    ...           ...             ...         ...      ...        ...   \n",
       "1530    23          23.0             2.0         7.0     12.0          0   \n",
       "16233   23          22.0             0.0         7.0     12.0          0   \n",
       "2929    10          19.0             3.0        21.0      7.0          0   \n",
       "5799    22          23.0             3.0        21.0      1.0          0   \n",
       "33421   16          22.0             3.0         3.0     12.0          0   \n",
       "\n",
       "       Month City Company  MonthlyHours  TariffRate  \n",
       "19060      4    6       4           581         8.7  \n",
       "17874      9    8      28           428         8.9  \n",
       "44423      2    4      25           391         8.3  \n",
       "36865      1    5      16           682         8.4  \n",
       "36537     10   10      11           488         8.5  \n",
       "...      ...  ...     ...           ...         ...  \n",
       "1530       6    5       6           543         8.4  \n",
       "16233      4    4       5           526         8.3  \n",
       "2929      11    1       9           552         8.8  \n",
       "5799       3    8       5           791         8.9  \n",
       "33421     11   13      23           645         7.4  \n",
       "\n",
       "[13604 rows x 11 columns]"
      ]
     },
     "execution_count": 133,
     "metadata": {},
     "output_type": "execute_result"
    }
   ],
   "source": [
    "X_test"
   ]
  },
  {
   "cell_type": "code",
   "execution_count": 134,
   "id": "a39cac89",
   "metadata": {},
   "outputs": [
    {
     "data": {
      "text/plain": [
       "19060    5054.7\n",
       "17874    3809.2\n",
       "44423    3245.3\n",
       "36865    5728.8\n",
       "36537    4148.0\n",
       "          ...  \n",
       "1530     4561.2\n",
       "16233    4365.8\n",
       "2929     4857.6\n",
       "5799     7039.9\n",
       "33421    4773.0\n",
       "Name: ElectricityBill, Length: 13604, dtype: float64"
      ]
     },
     "execution_count": 134,
     "metadata": {},
     "output_type": "execute_result"
    }
   ],
   "source": [
    "y_test"
   ]
  },
  {
   "cell_type": "markdown",
   "id": "44925c27",
   "metadata": {},
   "source": [
    "###  LINEAR REGRESSION"
   ]
  },
  {
   "cell_type": "code",
   "execution_count": 207,
   "id": "e99aa665",
   "metadata": {},
   "outputs": [],
   "source": [
    "from sklearn.linear_model import LinearRegression # importing Linear Regression class"
   ]
  },
  {
   "cell_type": "code",
   "execution_count": 208,
   "id": "462883c2",
   "metadata": {},
   "outputs": [],
   "source": [
    "LR = LinearRegression() # creating an instance of linear regression class"
   ]
  },
  {
   "cell_type": "code",
   "execution_count": 209,
   "id": "3c0e024e",
   "metadata": {},
   "outputs": [
    {
     "data": {
      "text/html": [
       "<style>#sk-container-id-6 {color: black;background-color: white;}#sk-container-id-6 pre{padding: 0;}#sk-container-id-6 div.sk-toggleable {background-color: white;}#sk-container-id-6 label.sk-toggleable__label {cursor: pointer;display: block;width: 100%;margin-bottom: 0;padding: 0.3em;box-sizing: border-box;text-align: center;}#sk-container-id-6 label.sk-toggleable__label-arrow:before {content: \"▸\";float: left;margin-right: 0.25em;color: #696969;}#sk-container-id-6 label.sk-toggleable__label-arrow:hover:before {color: black;}#sk-container-id-6 div.sk-estimator:hover label.sk-toggleable__label-arrow:before {color: black;}#sk-container-id-6 div.sk-toggleable__content {max-height: 0;max-width: 0;overflow: hidden;text-align: left;background-color: #f0f8ff;}#sk-container-id-6 div.sk-toggleable__content pre {margin: 0.2em;color: black;border-radius: 0.25em;background-color: #f0f8ff;}#sk-container-id-6 input.sk-toggleable__control:checked~div.sk-toggleable__content {max-height: 200px;max-width: 100%;overflow: auto;}#sk-container-id-6 input.sk-toggleable__control:checked~label.sk-toggleable__label-arrow:before {content: \"▾\";}#sk-container-id-6 div.sk-estimator input.sk-toggleable__control:checked~label.sk-toggleable__label {background-color: #d4ebff;}#sk-container-id-6 div.sk-label input.sk-toggleable__control:checked~label.sk-toggleable__label {background-color: #d4ebff;}#sk-container-id-6 input.sk-hidden--visually {border: 0;clip: rect(1px 1px 1px 1px);clip: rect(1px, 1px, 1px, 1px);height: 1px;margin: -1px;overflow: hidden;padding: 0;position: absolute;width: 1px;}#sk-container-id-6 div.sk-estimator {font-family: monospace;background-color: #f0f8ff;border: 1px dotted black;border-radius: 0.25em;box-sizing: border-box;margin-bottom: 0.5em;}#sk-container-id-6 div.sk-estimator:hover {background-color: #d4ebff;}#sk-container-id-6 div.sk-parallel-item::after {content: \"\";width: 100%;border-bottom: 1px solid gray;flex-grow: 1;}#sk-container-id-6 div.sk-label:hover label.sk-toggleable__label {background-color: #d4ebff;}#sk-container-id-6 div.sk-serial::before {content: \"\";position: absolute;border-left: 1px solid gray;box-sizing: border-box;top: 0;bottom: 0;left: 50%;z-index: 0;}#sk-container-id-6 div.sk-serial {display: flex;flex-direction: column;align-items: center;background-color: white;padding-right: 0.2em;padding-left: 0.2em;position: relative;}#sk-container-id-6 div.sk-item {position: relative;z-index: 1;}#sk-container-id-6 div.sk-parallel {display: flex;align-items: stretch;justify-content: center;background-color: white;position: relative;}#sk-container-id-6 div.sk-item::before, #sk-container-id-6 div.sk-parallel-item::before {content: \"\";position: absolute;border-left: 1px solid gray;box-sizing: border-box;top: 0;bottom: 0;left: 50%;z-index: -1;}#sk-container-id-6 div.sk-parallel-item {display: flex;flex-direction: column;z-index: 1;position: relative;background-color: white;}#sk-container-id-6 div.sk-parallel-item:first-child::after {align-self: flex-end;width: 50%;}#sk-container-id-6 div.sk-parallel-item:last-child::after {align-self: flex-start;width: 50%;}#sk-container-id-6 div.sk-parallel-item:only-child::after {width: 0;}#sk-container-id-6 div.sk-dashed-wrapped {border: 1px dashed gray;margin: 0 0.4em 0.5em 0.4em;box-sizing: border-box;padding-bottom: 0.4em;background-color: white;}#sk-container-id-6 div.sk-label label {font-family: monospace;font-weight: bold;display: inline-block;line-height: 1.2em;}#sk-container-id-6 div.sk-label-container {text-align: center;}#sk-container-id-6 div.sk-container {/* jupyter's `normalize.less` sets `[hidden] { display: none; }` but bootstrap.min.css set `[hidden] { display: none !important; }` so we also need the `!important` here to be able to override the default hidden behavior on the sphinx rendered scikit-learn.org. See: https://github.com/scikit-learn/scikit-learn/issues/21755 */display: inline-block !important;position: relative;}#sk-container-id-6 div.sk-text-repr-fallback {display: none;}</style><div id=\"sk-container-id-6\" class=\"sk-top-container\"><div class=\"sk-text-repr-fallback\"><pre>LinearRegression()</pre><b>In a Jupyter environment, please rerun this cell to show the HTML representation or trust the notebook. <br />On GitHub, the HTML representation is unable to render, please try loading this page with nbviewer.org.</b></div><div class=\"sk-container\" hidden><div class=\"sk-item\"><div class=\"sk-estimator sk-toggleable\"><input class=\"sk-toggleable__control sk-hidden--visually\" id=\"sk-estimator-id-6\" type=\"checkbox\" checked><label for=\"sk-estimator-id-6\" class=\"sk-toggleable__label sk-toggleable__label-arrow\">LinearRegression</label><div class=\"sk-toggleable__content\"><pre>LinearRegression()</pre></div></div></div></div></div>"
      ],
      "text/plain": [
       "LinearRegression()"
      ]
     },
     "execution_count": 209,
     "metadata": {},
     "output_type": "execute_result"
    }
   ],
   "source": [
    "LR.fit(X_train,y_train) # training the model using the X_train and y_train data"
   ]
  },
  {
   "cell_type": "code",
   "execution_count": 211,
   "id": "3540adfe",
   "metadata": {},
   "outputs": [],
   "source": [
    "LR_pred = LR.predict(X_test) # making predictions using the model"
   ]
  },
  {
   "cell_type": "code",
   "execution_count": 212,
   "id": "92b4f1bd",
   "metadata": {},
   "outputs": [
    {
     "data": {
      "text/plain": [
       "0.9956348735042119"
      ]
     },
     "execution_count": 212,
     "metadata": {},
     "output_type": "execute_result"
    }
   ],
   "source": [
    "LR_r2 = r2_score(y_test,LR_pred) # finding the accuracy score of the model prediction\n",
    "LR_r2 "
   ]
  },
  {
   "cell_type": "code",
   "execution_count": 169,
   "id": "24496951",
   "metadata": {},
   "outputs": [
    {
     "name": "stdout",
     "output_type": "stream",
     "text": [
      "r2_score of Linear Regression model is : 0.995635\n"
     ]
    }
   ],
   "source": [
    "print(f\"r2_score of Linear Regression model is : {LR_r2:2f}\")"
   ]
  },
  {
   "cell_type": "markdown",
   "id": "d79433eb",
   "metadata": {},
   "source": [
    "###### Prediction using input values"
   ]
  },
  {
   "cell_type": "code",
   "execution_count": 141,
   "id": "6c390859",
   "metadata": {},
   "outputs": [
    {
     "name": "stderr",
     "output_type": "stream",
     "text": [
      "C:\\Users\\spaka\\anaconda3\\Lib\\site-packages\\sklearn\\base.py:439: UserWarning: X does not have valid feature names, but LinearRegression was fitted with feature names\n",
      "  warnings.warn(\n"
     ]
    },
    {
     "data": {
      "text/plain": [
       "array([3233.04154543])"
      ]
     },
     "execution_count": 141,
     "metadata": {},
     "output_type": "execute_result"
    }
   ],
   "source": [
    "test_inp = [[16,23.0,2.0,6.0,1.0,0,10,5,27,384,8.4]]\n",
    "lr_pred1 = LR.predict(test_inp)\n",
    "lr_pred1"
   ]
  },
  {
   "cell_type": "markdown",
   "id": "e84f3219",
   "metadata": {},
   "source": [
    "### DECISION TREE REGRESSION"
   ]
  },
  {
   "cell_type": "code",
   "execution_count": 213,
   "id": "e799258b",
   "metadata": {},
   "outputs": [],
   "source": [
    "from sklearn.tree import DecisionTreeRegressor # importing Decision Tree Regression class"
   ]
  },
  {
   "cell_type": "code",
   "execution_count": 150,
   "id": "aae7415a",
   "metadata": {},
   "outputs": [],
   "source": [
    "DTR = DecisionTreeRegressor() # creating an instance of Decision Tree class"
   ]
  },
  {
   "cell_type": "code",
   "execution_count": 151,
   "id": "44be424b",
   "metadata": {},
   "outputs": [
    {
     "data": {
      "text/html": [
       "<style>#sk-container-id-3 {color: black;background-color: white;}#sk-container-id-3 pre{padding: 0;}#sk-container-id-3 div.sk-toggleable {background-color: white;}#sk-container-id-3 label.sk-toggleable__label {cursor: pointer;display: block;width: 100%;margin-bottom: 0;padding: 0.3em;box-sizing: border-box;text-align: center;}#sk-container-id-3 label.sk-toggleable__label-arrow:before {content: \"▸\";float: left;margin-right: 0.25em;color: #696969;}#sk-container-id-3 label.sk-toggleable__label-arrow:hover:before {color: black;}#sk-container-id-3 div.sk-estimator:hover label.sk-toggleable__label-arrow:before {color: black;}#sk-container-id-3 div.sk-toggleable__content {max-height: 0;max-width: 0;overflow: hidden;text-align: left;background-color: #f0f8ff;}#sk-container-id-3 div.sk-toggleable__content pre {margin: 0.2em;color: black;border-radius: 0.25em;background-color: #f0f8ff;}#sk-container-id-3 input.sk-toggleable__control:checked~div.sk-toggleable__content {max-height: 200px;max-width: 100%;overflow: auto;}#sk-container-id-3 input.sk-toggleable__control:checked~label.sk-toggleable__label-arrow:before {content: \"▾\";}#sk-container-id-3 div.sk-estimator input.sk-toggleable__control:checked~label.sk-toggleable__label {background-color: #d4ebff;}#sk-container-id-3 div.sk-label input.sk-toggleable__control:checked~label.sk-toggleable__label {background-color: #d4ebff;}#sk-container-id-3 input.sk-hidden--visually {border: 0;clip: rect(1px 1px 1px 1px);clip: rect(1px, 1px, 1px, 1px);height: 1px;margin: -1px;overflow: hidden;padding: 0;position: absolute;width: 1px;}#sk-container-id-3 div.sk-estimator {font-family: monospace;background-color: #f0f8ff;border: 1px dotted black;border-radius: 0.25em;box-sizing: border-box;margin-bottom: 0.5em;}#sk-container-id-3 div.sk-estimator:hover {background-color: #d4ebff;}#sk-container-id-3 div.sk-parallel-item::after {content: \"\";width: 100%;border-bottom: 1px solid gray;flex-grow: 1;}#sk-container-id-3 div.sk-label:hover label.sk-toggleable__label {background-color: #d4ebff;}#sk-container-id-3 div.sk-serial::before {content: \"\";position: absolute;border-left: 1px solid gray;box-sizing: border-box;top: 0;bottom: 0;left: 50%;z-index: 0;}#sk-container-id-3 div.sk-serial {display: flex;flex-direction: column;align-items: center;background-color: white;padding-right: 0.2em;padding-left: 0.2em;position: relative;}#sk-container-id-3 div.sk-item {position: relative;z-index: 1;}#sk-container-id-3 div.sk-parallel {display: flex;align-items: stretch;justify-content: center;background-color: white;position: relative;}#sk-container-id-3 div.sk-item::before, #sk-container-id-3 div.sk-parallel-item::before {content: \"\";position: absolute;border-left: 1px solid gray;box-sizing: border-box;top: 0;bottom: 0;left: 50%;z-index: -1;}#sk-container-id-3 div.sk-parallel-item {display: flex;flex-direction: column;z-index: 1;position: relative;background-color: white;}#sk-container-id-3 div.sk-parallel-item:first-child::after {align-self: flex-end;width: 50%;}#sk-container-id-3 div.sk-parallel-item:last-child::after {align-self: flex-start;width: 50%;}#sk-container-id-3 div.sk-parallel-item:only-child::after {width: 0;}#sk-container-id-3 div.sk-dashed-wrapped {border: 1px dashed gray;margin: 0 0.4em 0.5em 0.4em;box-sizing: border-box;padding-bottom: 0.4em;background-color: white;}#sk-container-id-3 div.sk-label label {font-family: monospace;font-weight: bold;display: inline-block;line-height: 1.2em;}#sk-container-id-3 div.sk-label-container {text-align: center;}#sk-container-id-3 div.sk-container {/* jupyter's `normalize.less` sets `[hidden] { display: none; }` but bootstrap.min.css set `[hidden] { display: none !important; }` so we also need the `!important` here to be able to override the default hidden behavior on the sphinx rendered scikit-learn.org. See: https://github.com/scikit-learn/scikit-learn/issues/21755 */display: inline-block !important;position: relative;}#sk-container-id-3 div.sk-text-repr-fallback {display: none;}</style><div id=\"sk-container-id-3\" class=\"sk-top-container\"><div class=\"sk-text-repr-fallback\"><pre>DecisionTreeRegressor()</pre><b>In a Jupyter environment, please rerun this cell to show the HTML representation or trust the notebook. <br />On GitHub, the HTML representation is unable to render, please try loading this page with nbviewer.org.</b></div><div class=\"sk-container\" hidden><div class=\"sk-item\"><div class=\"sk-estimator sk-toggleable\"><input class=\"sk-toggleable__control sk-hidden--visually\" id=\"sk-estimator-id-3\" type=\"checkbox\" checked><label for=\"sk-estimator-id-3\" class=\"sk-toggleable__label sk-toggleable__label-arrow\">DecisionTreeRegressor</label><div class=\"sk-toggleable__content\"><pre>DecisionTreeRegressor()</pre></div></div></div></div></div>"
      ],
      "text/plain": [
       "DecisionTreeRegressor()"
      ]
     },
     "execution_count": 151,
     "metadata": {},
     "output_type": "execute_result"
    }
   ],
   "source": [
    "DTR.fit(X_train,y_train) # training the model using the X_train and y_train data"
   ]
  },
  {
   "cell_type": "code",
   "execution_count": 153,
   "id": "da238375",
   "metadata": {},
   "outputs": [],
   "source": [
    "dtr_pred = DTR.predict(X_test) # making predictions using the model"
   ]
  },
  {
   "cell_type": "code",
   "execution_count": 168,
   "id": "bba57b20",
   "metadata": {},
   "outputs": [
    {
     "name": "stdout",
     "output_type": "stream",
     "text": [
      "r2 score of Decision Tree Regressor model : 0.999900\n"
     ]
    }
   ],
   "source": [
    "r2_dtr = r2_score(y_test,dtr_pred) # finding the accuracy score of the model prediction\n",
    "LR_r2 \n",
    "print(f\"r2 score of Decision Tree Regressor model : {r2_dtr:2f}\")"
   ]
  },
  {
   "cell_type": "markdown",
   "id": "7e1ca98b",
   "metadata": {},
   "source": [
    "### RANDOM FOREST REGRESSION"
   ]
  },
  {
   "cell_type": "code",
   "execution_count": 170,
   "id": "ba4a22ca",
   "metadata": {},
   "outputs": [],
   "source": [
    "from sklearn.ensemble import RandomForestRegressor "
   ]
  },
  {
   "cell_type": "code",
   "execution_count": 171,
   "id": "0b03bec2",
   "metadata": {},
   "outputs": [],
   "source": [
    "RF = RandomForestRegressor()"
   ]
  },
  {
   "cell_type": "code",
   "execution_count": 172,
   "id": "521b8408",
   "metadata": {},
   "outputs": [
    {
     "data": {
      "text/html": [
       "<style>#sk-container-id-4 {color: black;background-color: white;}#sk-container-id-4 pre{padding: 0;}#sk-container-id-4 div.sk-toggleable {background-color: white;}#sk-container-id-4 label.sk-toggleable__label {cursor: pointer;display: block;width: 100%;margin-bottom: 0;padding: 0.3em;box-sizing: border-box;text-align: center;}#sk-container-id-4 label.sk-toggleable__label-arrow:before {content: \"▸\";float: left;margin-right: 0.25em;color: #696969;}#sk-container-id-4 label.sk-toggleable__label-arrow:hover:before {color: black;}#sk-container-id-4 div.sk-estimator:hover label.sk-toggleable__label-arrow:before {color: black;}#sk-container-id-4 div.sk-toggleable__content {max-height: 0;max-width: 0;overflow: hidden;text-align: left;background-color: #f0f8ff;}#sk-container-id-4 div.sk-toggleable__content pre {margin: 0.2em;color: black;border-radius: 0.25em;background-color: #f0f8ff;}#sk-container-id-4 input.sk-toggleable__control:checked~div.sk-toggleable__content {max-height: 200px;max-width: 100%;overflow: auto;}#sk-container-id-4 input.sk-toggleable__control:checked~label.sk-toggleable__label-arrow:before {content: \"▾\";}#sk-container-id-4 div.sk-estimator input.sk-toggleable__control:checked~label.sk-toggleable__label {background-color: #d4ebff;}#sk-container-id-4 div.sk-label input.sk-toggleable__control:checked~label.sk-toggleable__label {background-color: #d4ebff;}#sk-container-id-4 input.sk-hidden--visually {border: 0;clip: rect(1px 1px 1px 1px);clip: rect(1px, 1px, 1px, 1px);height: 1px;margin: -1px;overflow: hidden;padding: 0;position: absolute;width: 1px;}#sk-container-id-4 div.sk-estimator {font-family: monospace;background-color: #f0f8ff;border: 1px dotted black;border-radius: 0.25em;box-sizing: border-box;margin-bottom: 0.5em;}#sk-container-id-4 div.sk-estimator:hover {background-color: #d4ebff;}#sk-container-id-4 div.sk-parallel-item::after {content: \"\";width: 100%;border-bottom: 1px solid gray;flex-grow: 1;}#sk-container-id-4 div.sk-label:hover label.sk-toggleable__label {background-color: #d4ebff;}#sk-container-id-4 div.sk-serial::before {content: \"\";position: absolute;border-left: 1px solid gray;box-sizing: border-box;top: 0;bottom: 0;left: 50%;z-index: 0;}#sk-container-id-4 div.sk-serial {display: flex;flex-direction: column;align-items: center;background-color: white;padding-right: 0.2em;padding-left: 0.2em;position: relative;}#sk-container-id-4 div.sk-item {position: relative;z-index: 1;}#sk-container-id-4 div.sk-parallel {display: flex;align-items: stretch;justify-content: center;background-color: white;position: relative;}#sk-container-id-4 div.sk-item::before, #sk-container-id-4 div.sk-parallel-item::before {content: \"\";position: absolute;border-left: 1px solid gray;box-sizing: border-box;top: 0;bottom: 0;left: 50%;z-index: -1;}#sk-container-id-4 div.sk-parallel-item {display: flex;flex-direction: column;z-index: 1;position: relative;background-color: white;}#sk-container-id-4 div.sk-parallel-item:first-child::after {align-self: flex-end;width: 50%;}#sk-container-id-4 div.sk-parallel-item:last-child::after {align-self: flex-start;width: 50%;}#sk-container-id-4 div.sk-parallel-item:only-child::after {width: 0;}#sk-container-id-4 div.sk-dashed-wrapped {border: 1px dashed gray;margin: 0 0.4em 0.5em 0.4em;box-sizing: border-box;padding-bottom: 0.4em;background-color: white;}#sk-container-id-4 div.sk-label label {font-family: monospace;font-weight: bold;display: inline-block;line-height: 1.2em;}#sk-container-id-4 div.sk-label-container {text-align: center;}#sk-container-id-4 div.sk-container {/* jupyter's `normalize.less` sets `[hidden] { display: none; }` but bootstrap.min.css set `[hidden] { display: none !important; }` so we also need the `!important` here to be able to override the default hidden behavior on the sphinx rendered scikit-learn.org. See: https://github.com/scikit-learn/scikit-learn/issues/21755 */display: inline-block !important;position: relative;}#sk-container-id-4 div.sk-text-repr-fallback {display: none;}</style><div id=\"sk-container-id-4\" class=\"sk-top-container\"><div class=\"sk-text-repr-fallback\"><pre>RandomForestRegressor()</pre><b>In a Jupyter environment, please rerun this cell to show the HTML representation or trust the notebook. <br />On GitHub, the HTML representation is unable to render, please try loading this page with nbviewer.org.</b></div><div class=\"sk-container\" hidden><div class=\"sk-item\"><div class=\"sk-estimator sk-toggleable\"><input class=\"sk-toggleable__control sk-hidden--visually\" id=\"sk-estimator-id-4\" type=\"checkbox\" checked><label for=\"sk-estimator-id-4\" class=\"sk-toggleable__label sk-toggleable__label-arrow\">RandomForestRegressor</label><div class=\"sk-toggleable__content\"><pre>RandomForestRegressor()</pre></div></div></div></div></div>"
      ],
      "text/plain": [
       "RandomForestRegressor()"
      ]
     },
     "execution_count": 172,
     "metadata": {},
     "output_type": "execute_result"
    }
   ],
   "source": [
    "RF.fit(X_train,y_train)"
   ]
  },
  {
   "cell_type": "code",
   "execution_count": 173,
   "id": "5b62aedd",
   "metadata": {},
   "outputs": [],
   "source": [
    "rf_pred = RF.predict(X_test)"
   ]
  },
  {
   "cell_type": "code",
   "execution_count": 177,
   "id": "9afa7eac",
   "metadata": {},
   "outputs": [
    {
     "name": "stdout",
     "output_type": "stream",
     "text": [
      "r2 score of Random Forest Regressor model : 0.999967\n"
     ]
    }
   ],
   "source": [
    "r2_rf = r2_score(y_test,rf_pred)\n",
    "print(f\"r2 score of Random Forest Regressor model : {r2_rf:2f}\")"
   ]
  },
  {
   "cell_type": "markdown",
   "id": "c1d51c9a",
   "metadata": {},
   "source": [
    "### SUPPORT VECTOR REGRESSION"
   ]
  },
  {
   "cell_type": "code",
   "execution_count": 178,
   "id": "b3c538e1",
   "metadata": {},
   "outputs": [],
   "source": [
    "from sklearn.svm import SVR"
   ]
  },
  {
   "cell_type": "code",
   "execution_count": 179,
   "id": "d780ef0c",
   "metadata": {},
   "outputs": [],
   "source": [
    "svr = SVR(kernel = \"linear\")"
   ]
  },
  {
   "cell_type": "code",
   "execution_count": 180,
   "id": "f582e472",
   "metadata": {},
   "outputs": [
    {
     "data": {
      "text/html": [
       "<style>#sk-container-id-5 {color: black;background-color: white;}#sk-container-id-5 pre{padding: 0;}#sk-container-id-5 div.sk-toggleable {background-color: white;}#sk-container-id-5 label.sk-toggleable__label {cursor: pointer;display: block;width: 100%;margin-bottom: 0;padding: 0.3em;box-sizing: border-box;text-align: center;}#sk-container-id-5 label.sk-toggleable__label-arrow:before {content: \"▸\";float: left;margin-right: 0.25em;color: #696969;}#sk-container-id-5 label.sk-toggleable__label-arrow:hover:before {color: black;}#sk-container-id-5 div.sk-estimator:hover label.sk-toggleable__label-arrow:before {color: black;}#sk-container-id-5 div.sk-toggleable__content {max-height: 0;max-width: 0;overflow: hidden;text-align: left;background-color: #f0f8ff;}#sk-container-id-5 div.sk-toggleable__content pre {margin: 0.2em;color: black;border-radius: 0.25em;background-color: #f0f8ff;}#sk-container-id-5 input.sk-toggleable__control:checked~div.sk-toggleable__content {max-height: 200px;max-width: 100%;overflow: auto;}#sk-container-id-5 input.sk-toggleable__control:checked~label.sk-toggleable__label-arrow:before {content: \"▾\";}#sk-container-id-5 div.sk-estimator input.sk-toggleable__control:checked~label.sk-toggleable__label {background-color: #d4ebff;}#sk-container-id-5 div.sk-label input.sk-toggleable__control:checked~label.sk-toggleable__label {background-color: #d4ebff;}#sk-container-id-5 input.sk-hidden--visually {border: 0;clip: rect(1px 1px 1px 1px);clip: rect(1px, 1px, 1px, 1px);height: 1px;margin: -1px;overflow: hidden;padding: 0;position: absolute;width: 1px;}#sk-container-id-5 div.sk-estimator {font-family: monospace;background-color: #f0f8ff;border: 1px dotted black;border-radius: 0.25em;box-sizing: border-box;margin-bottom: 0.5em;}#sk-container-id-5 div.sk-estimator:hover {background-color: #d4ebff;}#sk-container-id-5 div.sk-parallel-item::after {content: \"\";width: 100%;border-bottom: 1px solid gray;flex-grow: 1;}#sk-container-id-5 div.sk-label:hover label.sk-toggleable__label {background-color: #d4ebff;}#sk-container-id-5 div.sk-serial::before {content: \"\";position: absolute;border-left: 1px solid gray;box-sizing: border-box;top: 0;bottom: 0;left: 50%;z-index: 0;}#sk-container-id-5 div.sk-serial {display: flex;flex-direction: column;align-items: center;background-color: white;padding-right: 0.2em;padding-left: 0.2em;position: relative;}#sk-container-id-5 div.sk-item {position: relative;z-index: 1;}#sk-container-id-5 div.sk-parallel {display: flex;align-items: stretch;justify-content: center;background-color: white;position: relative;}#sk-container-id-5 div.sk-item::before, #sk-container-id-5 div.sk-parallel-item::before {content: \"\";position: absolute;border-left: 1px solid gray;box-sizing: border-box;top: 0;bottom: 0;left: 50%;z-index: -1;}#sk-container-id-5 div.sk-parallel-item {display: flex;flex-direction: column;z-index: 1;position: relative;background-color: white;}#sk-container-id-5 div.sk-parallel-item:first-child::after {align-self: flex-end;width: 50%;}#sk-container-id-5 div.sk-parallel-item:last-child::after {align-self: flex-start;width: 50%;}#sk-container-id-5 div.sk-parallel-item:only-child::after {width: 0;}#sk-container-id-5 div.sk-dashed-wrapped {border: 1px dashed gray;margin: 0 0.4em 0.5em 0.4em;box-sizing: border-box;padding-bottom: 0.4em;background-color: white;}#sk-container-id-5 div.sk-label label {font-family: monospace;font-weight: bold;display: inline-block;line-height: 1.2em;}#sk-container-id-5 div.sk-label-container {text-align: center;}#sk-container-id-5 div.sk-container {/* jupyter's `normalize.less` sets `[hidden] { display: none; }` but bootstrap.min.css set `[hidden] { display: none !important; }` so we also need the `!important` here to be able to override the default hidden behavior on the sphinx rendered scikit-learn.org. See: https://github.com/scikit-learn/scikit-learn/issues/21755 */display: inline-block !important;position: relative;}#sk-container-id-5 div.sk-text-repr-fallback {display: none;}</style><div id=\"sk-container-id-5\" class=\"sk-top-container\"><div class=\"sk-text-repr-fallback\"><pre>SVR(kernel=&#x27;linear&#x27;)</pre><b>In a Jupyter environment, please rerun this cell to show the HTML representation or trust the notebook. <br />On GitHub, the HTML representation is unable to render, please try loading this page with nbviewer.org.</b></div><div class=\"sk-container\" hidden><div class=\"sk-item\"><div class=\"sk-estimator sk-toggleable\"><input class=\"sk-toggleable__control sk-hidden--visually\" id=\"sk-estimator-id-5\" type=\"checkbox\" checked><label for=\"sk-estimator-id-5\" class=\"sk-toggleable__label sk-toggleable__label-arrow\">SVR</label><div class=\"sk-toggleable__content\"><pre>SVR(kernel=&#x27;linear&#x27;)</pre></div></div></div></div></div>"
      ],
      "text/plain": [
       "SVR(kernel='linear')"
      ]
     },
     "execution_count": 180,
     "metadata": {},
     "output_type": "execute_result"
    }
   ],
   "source": [
    "svr.fit(X_train,y_train)"
   ]
  },
  {
   "cell_type": "code",
   "execution_count": 181,
   "id": "566e3f59",
   "metadata": {},
   "outputs": [],
   "source": [
    "svr_pred = svr.predict(X_test)"
   ]
  },
  {
   "cell_type": "code",
   "execution_count": 183,
   "id": "68ceeabd",
   "metadata": {},
   "outputs": [
    {
     "name": "stdout",
     "output_type": "stream",
     "text": [
      "r2 score of Support Vector Regressor model : 0.994981\n"
     ]
    }
   ],
   "source": [
    "r2_svr = r2_score(y_test,svr_pred)\n",
    "print(f\"r2 score of Support Vector Regressor model : {r2_svr:2f}\")"
   ]
  },
  {
   "cell_type": "markdown",
   "id": "a9567625",
   "metadata": {},
   "source": [
    "---"
   ]
  },
  {
   "cell_type": "markdown",
   "id": "f56c5544",
   "metadata": {},
   "source": [
    "### MODEL COMPARISONS "
   ]
  },
  {
   "cell_type": "code",
   "execution_count": 193,
   "id": "bd6792e0",
   "metadata": {},
   "outputs": [
    {
     "data": {
      "text/html": [
       "<div>\n",
       "<style scoped>\n",
       "    .dataframe tbody tr th:only-of-type {\n",
       "        vertical-align: middle;\n",
       "    }\n",
       "\n",
       "    .dataframe tbody tr th {\n",
       "        vertical-align: top;\n",
       "    }\n",
       "\n",
       "    .dataframe thead th {\n",
       "        text-align: right;\n",
       "    }\n",
       "</style>\n",
       "<table border=\"1\" class=\"dataframe\">\n",
       "  <thead>\n",
       "    <tr style=\"text-align: right;\">\n",
       "      <th></th>\n",
       "      <th>ML Models</th>\n",
       "      <th>Accuracy</th>\n",
       "    </tr>\n",
       "  </thead>\n",
       "  <tbody>\n",
       "    <tr>\n",
       "      <th>0</th>\n",
       "      <td>LINEAR REGRESSION</td>\n",
       "      <td>0.995635</td>\n",
       "    </tr>\n",
       "    <tr>\n",
       "      <th>1</th>\n",
       "      <td>SVR</td>\n",
       "      <td>0.994981</td>\n",
       "    </tr>\n",
       "    <tr>\n",
       "      <th>2</th>\n",
       "      <td>DECISION TREE</td>\n",
       "      <td>0.999900</td>\n",
       "    </tr>\n",
       "    <tr>\n",
       "      <th>3</th>\n",
       "      <td>RANDOM FOREST</td>\n",
       "      <td>0.999967</td>\n",
       "    </tr>\n",
       "  </tbody>\n",
       "</table>\n",
       "</div>"
      ],
      "text/plain": [
       "           ML Models  Accuracy\n",
       "0  LINEAR REGRESSION  0.995635\n",
       "1                SVR  0.994981\n",
       "2      DECISION TREE  0.999900\n",
       "3      RANDOM FOREST  0.999967"
      ]
     },
     "execution_count": 193,
     "metadata": {},
     "output_type": "execute_result"
    }
   ],
   "source": [
    "z = pd.DataFrame({\"ML Models\" : [\"LINEAR REGRESSION\",\"SVR\",\"DECISION TREE\",\"RANDOM FOREST\"],\n",
    "                 \"Accuracy\" : [LR_r2,r2_svr,r2_dtr,r2_rf]})\n",
    "z"
   ]
  },
  {
   "cell_type": "code",
   "execution_count": 192,
   "id": "408ad504",
   "metadata": {},
   "outputs": [
    {
     "data": {
      "image/png": "[encoded data removed]",
      "text/plain": [
       "<Figure size 640x480 with 1 Axes>"
      ]
     },
     "metadata": {},
     "output_type": "display_data"
    }
   ],
   "source": [
    "sns.barplot(x=\"ML Models\",y=\"Accuracy\",data=z)\n",
    "plt.xlabel(\"ML MODELS\")\n",
    "plt.ylabel(\"Accuracy Score\")\n",
    "plt.title(\"MODEL COMPARISONS\")\n",
    "plt.show()"
   ]
  },
  {
   "cell_type": "markdown",
   "id": "b958b949",
   "metadata": {},
   "source": [
    "### CONCLUSION"
   ]
  },
  {
   "cell_type": "code",
   "execution_count": 215,
   "id": "4ca8d6e5",
   "metadata": {},
   "outputs": [],
   "source": [
    "accuracy_scores = [LR_r2,r2_svr,r2_dtr,r2_rf]\n",
    "max_accuracy = max(accuracy_scores)"
   ]
  },
  {
   "cell_type": "code",
   "execution_count": 200,
   "id": "f187632a",
   "metadata": {
    "scrolled": true
   },
   "outputs": [
    {
     "name": "stdout",
     "output_type": "stream",
     "text": [
      "THE MODEL WITH HIGHEST ACCURACY SCORE IS RANDOM FOREST REGRESSOR(0.999967)\n"
     ]
    }
   ],
   "source": [
    "print(f\"THE MODEL WITH HIGHEST ACCURACY SCORE IS RANDOM FOREST REGRESSOR({r2_rf:2f})\")"
   ]
  },
  {
   "cell_type": "code",
   "execution_count": 217,
   "id": "15a27536",
   "metadata": {},
   "outputs": [
    {
     "name": "stdout",
     "output_type": "stream",
     "text": [
      "The Model With Highest Accuracy Score is RANDOM FOREST REGRESSOR\n"
     ]
    }
   ],
   "source": [
    "models ={\"LINEAR REGRESSION\":LR_r2,\"SVR\":r2_svr,\"DECISION TREE REGRESSOR\":r2_dtr,\"RANDOM FOREST REGRESSOR\":r2_rf}\n",
    "print(f\"The Model With Highest Accuracy Score is {max(models,key=models.get)}\")"
   ]
  }
 ],
 "metadata": {
  "kernelspec": {
   "display_name": "Python 3 (ipykernel)",
   "language": "python",
   "name": "python3"
  },
  "language_info": {
   "codemirror_mode": {
    "name": "ipython",
    "version": 3
   },
   "file_extension": ".py",
   "mimetype": "text/x-python",
   "name": "python",
   "nbconvert_exporter": "python",
   "pygments_lexer": "ipython3",
   "version": "3.11.7"
  }
 },
 "nbformat": 4,
 "nbformat_minor": 5
}
